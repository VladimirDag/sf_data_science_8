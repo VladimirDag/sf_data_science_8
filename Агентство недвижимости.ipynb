{
 "cells": [
  {
   "attachments": {},
   "cell_type": "markdown",
   "metadata": {},
   "source": [
    "Условия: финансовые показатели заказчика: агентства недвижимости, посредственные, из-за низкого качества анализа риэлторами рынка недвижимости и низкого количества выгодных предложений."
   ]
  },
  {
   "attachments": {},
   "cell_type": "markdown",
   "metadata": {},
   "source": [
    "Цель - разработать модель предсказания стоимости домов, которая позволила бы обойти конкурентов по скорости и качеству совершения сделок."
   ]
  },
  {
   "attachments": {},
   "cell_type": "markdown",
   "metadata": {},
   "source": [
    "Задача - разработать сервис для предсказания стоимости домов на основе истории предложений."
   ]
  },
  {
   "cell_type": "code",
   "execution_count": 234,
   "metadata": {},
   "outputs": [],
   "source": [
    "#импорт библиотек\n",
    "import numpy as np #для матричных вычислений\n",
    "import pandas as pd #для анализа и предобработки данных\n",
    "import matplotlib.pyplot as plt #для визуализации\n",
    "import seaborn as sns #для визуализации\n",
    "\n",
    "from sklearn import linear_model #линейные модели\n",
    "from sklearn import metrics #метрики\n",
    "from sklearn import preprocessing #предобработка\n",
    "from sklearn.model_selection import train_test_split #сплитование выборки\n",
    "%matplotlib inline\n",
    "plt.style.use('seaborn')"
   ]
  },
  {
   "cell_type": "code",
   "execution_count": 329,
   "metadata": {},
   "outputs": [
    {
     "data": {
      "text/html": [
       "<div>\n",
       "<style scoped>\n",
       "    .dataframe tbody tr th:only-of-type {\n",
       "        vertical-align: middle;\n",
       "    }\n",
       "\n",
       "    .dataframe tbody tr th {\n",
       "        vertical-align: top;\n",
       "    }\n",
       "\n",
       "    .dataframe thead th {\n",
       "        text-align: right;\n",
       "    }\n",
       "</style>\n",
       "<table border=\"1\" class=\"dataframe\">\n",
       "  <thead>\n",
       "    <tr style=\"text-align: right;\">\n",
       "      <th></th>\n",
       "      <th>status</th>\n",
       "      <th>private pool</th>\n",
       "      <th>propertyType</th>\n",
       "      <th>street</th>\n",
       "      <th>baths</th>\n",
       "      <th>homeFacts</th>\n",
       "      <th>fireplace</th>\n",
       "      <th>city</th>\n",
       "      <th>schools</th>\n",
       "      <th>sqft</th>\n",
       "      <th>zipcode</th>\n",
       "      <th>beds</th>\n",
       "      <th>state</th>\n",
       "      <th>stories</th>\n",
       "      <th>mls-id</th>\n",
       "      <th>PrivatePool</th>\n",
       "      <th>MlsId</th>\n",
       "      <th>target</th>\n",
       "    </tr>\n",
       "  </thead>\n",
       "  <tbody>\n",
       "    <tr>\n",
       "      <th>0</th>\n",
       "      <td>Active</td>\n",
       "      <td>NaN</td>\n",
       "      <td>Single Family Home</td>\n",
       "      <td>240 Heather Ln</td>\n",
       "      <td>3.5</td>\n",
       "      <td>{'atAGlanceFacts': [{'factValue': '2019', 'fac...</td>\n",
       "      <td>Gas Logs</td>\n",
       "      <td>Southern Pines</td>\n",
       "      <td>[{'rating': ['4', '4', '7', 'NR', '4', '7', 'N...</td>\n",
       "      <td>2900</td>\n",
       "      <td>28387</td>\n",
       "      <td>4</td>\n",
       "      <td>NC</td>\n",
       "      <td>NaN</td>\n",
       "      <td>NaN</td>\n",
       "      <td>NaN</td>\n",
       "      <td>611019</td>\n",
       "      <td>$418,000</td>\n",
       "    </tr>\n",
       "    <tr>\n",
       "      <th>1</th>\n",
       "      <td>for sale</td>\n",
       "      <td>NaN</td>\n",
       "      <td>single-family home</td>\n",
       "      <td>12911 E Heroy Ave</td>\n",
       "      <td>3 Baths</td>\n",
       "      <td>{'atAGlanceFacts': [{'factValue': '2019', 'fac...</td>\n",
       "      <td>NaN</td>\n",
       "      <td>Spokane Valley</td>\n",
       "      <td>[{'rating': ['4/10', 'None/10', '4/10'], 'data...</td>\n",
       "      <td>1,947 sqft</td>\n",
       "      <td>99216</td>\n",
       "      <td>3 Beds</td>\n",
       "      <td>WA</td>\n",
       "      <td>2.0</td>\n",
       "      <td>NaN</td>\n",
       "      <td>NaN</td>\n",
       "      <td>201916904</td>\n",
       "      <td>$310,000</td>\n",
       "    </tr>\n",
       "    <tr>\n",
       "      <th>2</th>\n",
       "      <td>for sale</td>\n",
       "      <td>NaN</td>\n",
       "      <td>single-family home</td>\n",
       "      <td>2005 Westridge Rd</td>\n",
       "      <td>2 Baths</td>\n",
       "      <td>{'atAGlanceFacts': [{'factValue': '1961', 'fac...</td>\n",
       "      <td>yes</td>\n",
       "      <td>Los Angeles</td>\n",
       "      <td>[{'rating': ['8/10', '4/10', '8/10'], 'data': ...</td>\n",
       "      <td>3,000 sqft</td>\n",
       "      <td>90049</td>\n",
       "      <td>3 Beds</td>\n",
       "      <td>CA</td>\n",
       "      <td>1.0</td>\n",
       "      <td>NaN</td>\n",
       "      <td>yes</td>\n",
       "      <td>FR19221027</td>\n",
       "      <td>$2,895,000</td>\n",
       "    </tr>\n",
       "  </tbody>\n",
       "</table>\n",
       "</div>"
      ],
      "text/plain": [
       "     status private pool        propertyType             street    baths  \\\n",
       "0    Active          NaN  Single Family Home     240 Heather Ln      3.5   \n",
       "1  for sale          NaN  single-family home  12911 E Heroy Ave  3 Baths   \n",
       "2  for sale          NaN  single-family home  2005 Westridge Rd  2 Baths   \n",
       "\n",
       "                                           homeFacts fireplace  \\\n",
       "0  {'atAGlanceFacts': [{'factValue': '2019', 'fac...  Gas Logs   \n",
       "1  {'atAGlanceFacts': [{'factValue': '2019', 'fac...       NaN   \n",
       "2  {'atAGlanceFacts': [{'factValue': '1961', 'fac...       yes   \n",
       "\n",
       "             city                                            schools  \\\n",
       "0  Southern Pines  [{'rating': ['4', '4', '7', 'NR', '4', '7', 'N...   \n",
       "1  Spokane Valley  [{'rating': ['4/10', 'None/10', '4/10'], 'data...   \n",
       "2     Los Angeles  [{'rating': ['8/10', '4/10', '8/10'], 'data': ...   \n",
       "\n",
       "         sqft zipcode    beds state stories mls-id PrivatePool       MlsId  \\\n",
       "0        2900   28387       4    NC     NaN    NaN         NaN      611019   \n",
       "1  1,947 sqft   99216  3 Beds    WA     2.0    NaN         NaN   201916904   \n",
       "2  3,000 sqft   90049  3 Beds    CA     1.0    NaN         yes  FR19221027   \n",
       "\n",
       "       target  \n",
       "0    $418,000  \n",
       "1    $310,000  \n",
       "2  $2,895,000  "
      ]
     },
     "execution_count": 329,
     "metadata": {},
     "output_type": "execute_result"
    }
   ],
   "source": [
    "data = pd.read_csv('data/data.csv')\n",
    "data.head(3)"
   ]
  },
  {
   "attachments": {},
   "cell_type": "markdown",
   "metadata": {},
   "source": [
    "status - for sale - 156104, For sale - 43465 продается, Active - 105207 - активное - очистка от других значений - используем в модели\n",
    "private pool - частный бассейн, Yes - 4181, остальные пропуски - удаление признака\n",
    "propertyType  - тип дома: single-family home - 92206, Single Family - 62869, Single Family Home - 31728 condo - 25968, unique 1280 -предобработка и очистка от других значений - используем в модели\n",
    "street - улица, unique - 337076, в топ 5 входят записи, в которых адрес не разглашается - удаление\n",
    "baths - количество ванн - предобработка, удаление признака\n",
    "homeFacts - факты о доме, содержит год постройки, год реконструкции, отопление, охлаждение, парковка, фактическая цена кв метра - предобработка\n",
    "fireplace - наличие камина - предобработка, удаление признака\n",
    "city - город, предобработка, не используем в модели\n",
    "schools - школа, содержит название - предобработка, удаление\n",
    "sqft - площадь - предобработка, очистка в первую очередь. - используем в модели\n",
    "zipcode - почтовый индекс - делит населенный пункт на районы - используем в модели\n",
    "beds - спальни - предобработка, удаление\n",
    "state - штат, используем в модели\n",
    "stories - описание\n",
    "mls-id - идентификатор списка/агента по продажам, удаление\n",
    "PrivatePool - частный бассейн, Yes - 11518, yes - 28793, остальные пропуски - удаление\n",
    "target - цена, целевой признак - предобработка - используем в модели"
   ]
  },
  {
   "cell_type": "code",
   "execution_count": 236,
   "metadata": {},
   "outputs": [
    {
     "name": "stdout",
     "output_type": "stream",
     "text": [
      "<class 'pandas.core.frame.DataFrame'>\n",
      "RangeIndex: 377185 entries, 0 to 377184\n",
      "Data columns (total 18 columns):\n",
      " #   Column        Non-Null Count   Dtype \n",
      "---  ------        --------------   ----- \n",
      " 0   status        337267 non-null  object\n",
      " 1   private pool  4181 non-null    object\n",
      " 2   propertyType  342452 non-null  object\n",
      " 3   street        377183 non-null  object\n",
      " 4   baths         270847 non-null  object\n",
      " 5   homeFacts     377185 non-null  object\n",
      " 6   fireplace     103115 non-null  object\n",
      " 7   city          377151 non-null  object\n",
      " 8   schools       377185 non-null  object\n",
      " 9   sqft          336608 non-null  object\n",
      " 10  zipcode       377185 non-null  object\n",
      " 11  beds          285903 non-null  object\n",
      " 12  state         377185 non-null  object\n",
      " 13  stories       226470 non-null  object\n",
      " 14  mls-id        24942 non-null   object\n",
      " 15  PrivatePool   40311 non-null   object\n",
      " 16  MlsId         310305 non-null  object\n",
      " 17  target        374704 non-null  object\n",
      "dtypes: object(18)\n",
      "memory usage: 51.8+ MB\n"
     ]
    }
   ],
   "source": [
    "data.info()"
   ]
  },
  {
   "cell_type": "code",
   "execution_count": 330,
   "metadata": {},
   "outputs": [],
   "source": [
    "data['target'] = data['target'].astype('str')\n",
    "def get_target(arg):#удаляем знак '$' из значений\n",
    "    if '$' in arg: return arg[1::]\n",
    "    else: return arg\n",
    "data['target'] = data['target'].apply(get_target)\n",
    "data['target'] = data['target'].astype('str')\n",
    "def get_target1(arg):#удаляем значения со знаком '+'\n",
    "    if '+' in arg: return 0\n",
    "    else: return arg\n",
    "data['target'] = data['target'].apply(get_target1)\n",
    "data['target'] = data['target'].astype('str')\n",
    "def get_target2(arg):#удаляем значения со знаком '-'\n",
    "    if '-' in arg: return 0\n",
    "    else: return arg\n",
    "data['target'] = data['target'].apply(get_target2)\n",
    "data['target'] = data['target'].astype('str')\n",
    "def get_target3(arg):#удаляем значения со знаком '/mo'\n",
    "    if '/mo' in arg: return 0\n",
    "    else: return arg\n",
    "data['target'] = data['target'].apply(get_target3)\n",
    "data['target'] = data['target'].astype('str')\n",
    "def get_target4(arg):#удаляем значения 'nan' \n",
    "    if 'nan' in arg: return 0\n",
    "    else: return arg\n",
    "data['target'] = data['target'].apply(get_target4)"
   ]
  },
  {
   "cell_type": "code",
   "execution_count": 332,
   "metadata": {},
   "outputs": [],
   "source": [
    "data['target'] = data['target'].astype('str')\n",
    "def get_float(arg):#используем функцию для преобразование объекта в значение float\n",
    "    if ',' in arg: return arg.replace(',','')#для этого запятую в значении, отделяющим тысячи, удаляем\n",
    "    else: return arg#возвращаем значение без запятых\n",
    "data['target'] = data['target'].apply(get_float)"
   ]
  },
  {
   "cell_type": "code",
   "execution_count": 333,
   "metadata": {},
   "outputs": [
    {
     "data": {
      "text/plain": [
       "(367043, 18)"
      ]
     },
     "execution_count": 333,
     "metadata": {},
     "output_type": "execute_result"
    }
   ],
   "source": [
    "data['target'] = data['target'].fillna(data['target'] == '0')#заменяем пропуски на 0\n",
    "list = ['0']\n",
    "data = data[data.target.isin(list) == False]#убираем строки содержащие стоимость = 0\n",
    "data.shape"
   ]
  },
  {
   "cell_type": "code",
   "execution_count": 334,
   "metadata": {},
   "outputs": [],
   "source": [
    "data['target'] = data['target'].astype('int64')#преобразовываем тип данных в числовой целочислительный"
   ]
  },
  {
   "cell_type": "code",
   "execution_count": 335,
   "metadata": {},
   "outputs": [
    {
     "data": {
      "text/plain": [
       "<AxesSubplot:>"
      ]
     },
     "execution_count": 335,
     "metadata": {},
     "output_type": "execute_result"
    },
    {
     "data": {
      "image/png": "[encoded data removed]",
      "text/plain": [
       "<Figure size 864x432 with 1 Axes>"
      ]
     },
     "metadata": {},
     "output_type": "display_data"
    }
   ],
   "source": [
    "fig, ax = plt.subplots(figsize=(12, 6))\n",
    "sns.boxplot(data=data['target'], ax=ax)"
   ]
  },
  {
   "cell_type": "code",
   "execution_count": 336,
   "metadata": {},
   "outputs": [
    {
     "data": {
      "text/plain": [
       "count    3.670430e+05\n",
       "mean     6.494312e+05\n",
       "std      1.858641e+06\n",
       "min      1.000000e+00\n",
       "25%      1.850000e+05\n",
       "50%      3.200000e+05\n",
       "75%      5.890000e+05\n",
       "max      1.950000e+08\n",
       "Name: target, dtype: float64"
      ]
     },
     "execution_count": 336,
     "metadata": {},
     "output_type": "execute_result"
    }
   ],
   "source": [
    "data['target'].describe()"
   ]
  },
  {
   "cell_type": "code",
   "execution_count": 337,
   "metadata": {},
   "outputs": [
    {
     "name": "stdout",
     "output_type": "stream",
     "text": [
      "185000.0 589000.0 404000.0 -421000.0 1195000.0\n"
     ]
    },
    {
     "data": {
      "text/plain": [
       "(329863, 18)"
      ]
     },
     "execution_count": 337,
     "metadata": {},
     "output_type": "execute_result"
    }
   ],
   "source": [
    "# удалим все выбросы для признака target\n",
    "q1 = data.target.quantile(0.25)\n",
    "q3 = data.target.quantile(0.75)\n",
    "iqr = q3 - q1\n",
    "lower_bound = q1 - (iqr * 1.5)\n",
    "upper_bound = q3 + (iqr * 1.5)\n",
    "print(q1, q3, iqr, lower_bound, upper_bound)\n",
    "\n",
    "data = data[(data['target'] >= lower_bound) & (data['target'] <= upper_bound)]\n",
    "data.shape"
   ]
  },
  {
   "cell_type": "code",
   "execution_count": 339,
   "metadata": {},
   "outputs": [
    {
     "data": {
      "text/plain": [
       "<AxesSubplot:>"
      ]
     },
     "execution_count": 339,
     "metadata": {},
     "output_type": "execute_result"
    },
    {
     "data": {
      "image/png": "[encoded data removed]",
      "text/plain": [
       "<Figure size 864x432 with 1 Axes>"
      ]
     },
     "metadata": {},
     "output_type": "display_data"
    }
   ],
   "source": [
    "fig, ax = plt.subplots(figsize=(12, 6))\n",
    "sns.boxplot(data=data['target'], ax=ax)"
   ]
  },
  {
   "cell_type": "code",
   "execution_count": 340,
   "metadata": {},
   "outputs": [
    {
     "data": {
      "text/plain": [
       "(295299, 18)"
      ]
     },
     "execution_count": 340,
     "metadata": {},
     "output_type": "execute_result"
    }
   ],
   "source": [
    "data['sqft'] = data['sqft'].fillna(data['sqft'] == 0)#заменяем пропуски на 0\n",
    "list = [0]\n",
    "data = data[data.sqft.isin(list) == False]#оставляем строки не содержащие значение площади равной 0\n",
    "data.shape"
   ]
  },
  {
   "cell_type": "code",
   "execution_count": 341,
   "metadata": {},
   "outputs": [
    {
     "data": {
      "text/plain": [
       "array(['2900', '1,947 sqft', '897 sqft', ..., '4371', '13,870 sqft',\n",
       "       'Total interior livable area: 4,615 sqft'], dtype=object)"
      ]
     },
     "execution_count": 341,
     "metadata": {},
     "output_type": "execute_result"
    }
   ],
   "source": [
    "data['sqft'].unique()"
   ]
  },
  {
   "cell_type": "code",
   "execution_count": 342,
   "metadata": {},
   "outputs": [],
   "source": [
    "data['sqft'] = data['sqft'].astype('str')\n",
    "def get_sqft(arg):#убираем из значений 'sqft'\n",
    "    if 'sqft' in arg: return arg[::-1][5::][::-1]#убираем из значений 'sqft'\n",
    "    else: return arg\n",
    "data['sqft'] = data['sqft'].apply(get_sqft)\n",
    "data['sqft'] = data['sqft'].astype('str')\n",
    "def get_sqft1(arg):#убираем убираем значения с 'str'\n",
    "    if 'e' in arg: return 0\n",
    "    else: return arg\n",
    "data['sqft'] = data['sqft'].apply(get_sqft1)\n",
    "data['sqft'] = data['sqft'].astype('str')\n",
    "def get_sqft2(arg):#убираем значения с '--'\n",
    "    if '--' in arg: return 0\n",
    "    else: return arg\n",
    "data['sqft'] = data['sqft'].apply(get_sqft2)"
   ]
  },
  {
   "cell_type": "code",
   "execution_count": 343,
   "metadata": {},
   "outputs": [],
   "source": [
    "data['sqft'] = data['sqft'].astype('str')\n",
    "def get_sq(arg):\n",
    "    if ',' in arg: return arg.replace(',', '')#убираем из значения площади, запятые отдельющие тысячи\n",
    "    elif '-' in arg: return 0#убираем значение площади, содержащие '-'\n",
    "    else: return arg\n",
    "data['sqft'] = data['sqft'].apply(get_sq)"
   ]
  },
  {
   "cell_type": "code",
   "execution_count": 344,
   "metadata": {},
   "outputs": [],
   "source": [
    "data['sqft'] = data['sqft'].astype('int64')#преобразовываем тип данных в числовой целочислительный"
   ]
  },
  {
   "cell_type": "code",
   "execution_count": 345,
   "metadata": {},
   "outputs": [
    {
     "data": {
      "text/plain": [
       "<AxesSubplot:>"
      ]
     },
     "execution_count": 345,
     "metadata": {},
     "output_type": "execute_result"
    },
    {
     "data": {
      "image/png": "[encoded data removed]",
      "text/plain": [
       "<Figure size 864x432 with 1 Axes>"
      ]
     },
     "metadata": {},
     "output_type": "display_data"
    }
   ],
   "source": [
    "fig, ax = plt.subplots(figsize=(12, 6))\n",
    "sns.boxplot(data=data['sqft'], ax=ax)"
   ]
  },
  {
   "cell_type": "code",
   "execution_count": 346,
   "metadata": {},
   "outputs": [
    {
     "data": {
      "text/plain": [
       "count    2.952990e+05\n",
       "mean     6.664800e+03\n",
       "std      1.688855e+06\n",
       "min      0.000000e+00\n",
       "25%      1.052000e+03\n",
       "50%      1.600000e+03\n",
       "75%      2.300000e+03\n",
       "max      7.959794e+08\n",
       "Name: sqft, dtype: float64"
      ]
     },
     "execution_count": 346,
     "metadata": {},
     "output_type": "execute_result"
    }
   ],
   "source": [
    "data['sqft'].describe()"
   ]
  },
  {
   "cell_type": "code",
   "execution_count": 351,
   "metadata": {},
   "outputs": [],
   "source": [
    "def get_sq(arg):#используем функцию для удаления выбросов\n",
    "    if  400 < arg < 2342: return arg\n",
    "    else: return 0\n",
    "data['sqft'] = data['sqft'].apply(get_sq)"
   ]
  },
  {
   "cell_type": "code",
   "execution_count": 352,
   "metadata": {},
   "outputs": [
    {
     "data": {
      "text/plain": [
       "(190172, 18)"
      ]
     },
     "execution_count": 352,
     "metadata": {},
     "output_type": "execute_result"
    }
   ],
   "source": [
    "list = [0]\n",
    "data = data[data.sqft.isin(list) == False]#оставляем строки содержащие площадь > 0\n",
    "data.shape"
   ]
  },
  {
   "cell_type": "code",
   "execution_count": 353,
   "metadata": {},
   "outputs": [
    {
     "data": {
      "text/plain": [
       "count    190172.000000\n",
       "mean       1476.052405\n",
       "std         459.373821\n",
       "min         401.000000\n",
       "25%        1119.000000\n",
       "50%        1467.000000\n",
       "75%        1842.000000\n",
       "max        2341.000000\n",
       "Name: sqft, dtype: float64"
      ]
     },
     "execution_count": 353,
     "metadata": {},
     "output_type": "execute_result"
    }
   ],
   "source": [
    "data['sqft'].describe()"
   ]
  },
  {
   "cell_type": "code",
   "execution_count": 259,
   "metadata": {},
   "outputs": [
    {
     "data": {
      "text/plain": [
       "array([1947, 1930, 2203, ..., 2119, 1287, 1401], dtype=int64)"
      ]
     },
     "execution_count": 259,
     "metadata": {},
     "output_type": "execute_result"
    }
   ],
   "source": [
    "data['sqft'].unique()"
   ]
  },
  {
   "cell_type": "code",
   "execution_count": 260,
   "metadata": {},
   "outputs": [
    {
     "name": "stdout",
     "output_type": "stream",
     "text": [
      "<class 'pandas.core.frame.DataFrame'>\n",
      "Int64Index: 87904 entries, 1 to 377184\n",
      "Data columns (total 18 columns):\n",
      " #   Column        Non-Null Count  Dtype \n",
      "---  ------        --------------  ----- \n",
      " 0   status        75918 non-null  object\n",
      " 1   private pool  0 non-null      object\n",
      " 2   propertyType  82447 non-null  object\n",
      " 3   street        87904 non-null  object\n",
      " 4   baths         74673 non-null  object\n",
      " 5   homeFacts     87904 non-null  object\n",
      " 6   fireplace     25355 non-null  object\n",
      " 7   city          87904 non-null  object\n",
      " 8   schools       87904 non-null  object\n",
      " 9   sqft          87904 non-null  int64 \n",
      " 10  zipcode       87904 non-null  object\n",
      " 11  beds          75970 non-null  object\n",
      " 12  state         87904 non-null  object\n",
      " 13  stories       62235 non-null  object\n",
      " 14  mls-id        1747 non-null   object\n",
      " 15  PrivatePool   8427 non-null   object\n",
      " 16  MlsId         77072 non-null  object\n",
      " 17  target        87904 non-null  int64 \n",
      "dtypes: int64(2), object(16)\n",
      "memory usage: 14.8+ MB\n"
     ]
    }
   ],
   "source": [
    "data.info()"
   ]
  },
  {
   "cell_type": "code",
   "execution_count": 354,
   "metadata": {},
   "outputs": [
    {
     "data": {
      "text/plain": [
       "single-family home                                             50595\n",
       "Single Family                                                  24934\n",
       "condo                                                          20451\n",
       "Single Family Home                                             19031\n",
       "Condo                                                          11218\n",
       "                                                               ...  \n",
       "Colonial, High Rise, Ranch                                         1\n",
       "1 Story, Historic/Older, Other (See Remarks)                       1\n",
       "1 1/2 Story with Basement, Cape Cod                                1\n",
       "2 Stories, Historic/Older, Victorian                               1\n",
       "Bilevel, Converted Dwelling, Loft with Bedrooms, Condo/Unit        1\n",
       "Name: propertyType, Length: 823, dtype: int64"
      ]
     },
     "execution_count": 354,
     "metadata": {},
     "output_type": "execute_result"
    }
   ],
   "source": [
    "data['propertyType'].value_counts()#предобработка типа недвижимости"
   ]
  },
  {
   "cell_type": "code",
   "execution_count": 355,
   "metadata": {},
   "outputs": [
    {
     "data": {
      "text/plain": [
       "array(['single-family home', 'townhouse', 'Florida', 'Single Family',\n",
       "       'coop', nan, 'multi-family', 'Penthouse, Split-Level',\n",
       "       'Multi-Family Home', 'Condo', 'condo', 'Single Family Home',\n",
       "       'lot/land', ' ', '1 Story, Ranch', 'Other Style', 'High Rise',\n",
       "       'mobile/manufactured', 'Condo/Townhome/Row Home/Co-Op',\n",
       "       'Detached, One Story', 'Townhouse', 'Single Detached, Traditional',\n",
       "       '1 Story, Traditional', 'Traditional', 'Cooperative',\n",
       "       'Contemporary/Modern', 'Mobile / Manufactured', 'Mfd/Mobile Home',\n",
       "       '2 Story', '1 Story', 'Contemporary', 'Multi-Level, Modern',\n",
       "       'Condo/Unit', '2 Stories, Traditional', 'Ranch',\n",
       "       'Low-Rise (1-3 Stories)', 'Rancher, Raised Ranch',\n",
       "       'Bungalow, Cape Cod', 'Single Detached', 'Colonial', 'Two Story',\n",
       "       'Garden Home', 'Bungalow', 'A-Frame', 'Federal',\n",
       "       'Attached or 1/2 Duplex, Traditional', '2 Stories',\n",
       "       'Garden Home, Tri-Level', 'Spanish/Mediterranean',\n",
       "       'Single Detached, Tudor', 'Transitional', 'Multi Family',\n",
       "       'One Story', 'Apartment', 'Contemporary, Modernist, Transitional',\n",
       "       'Contemporary/Modern, Traditional', 'Cluster Home',\n",
       "       'Manufactured House, Ranch, One Story, Manufactured Home',\n",
       "       'Condominium (Single Level)', 'High Rise, Penthouse',\n",
       "       'Condo/Townhome, Contemporary/Modern', 'Farms/Ranches',\n",
       "       'Two Story, Low Rise', 'Detached',\n",
       "       'Condominium (2 Levels), Contemporary', 'Condo/Townhome',\n",
       "       'Townhouse, Contemporary', 'Garden Apartment',\n",
       "       'Traditional, Transitional', 'Condo/Townhome, Traditional',\n",
       "       '2 Stories, Historic/Older',\n",
       "       'Single Detached, Other (See Remarks)',\n",
       "       'Manufactured House, Ranch, One Story',\n",
       "       '1 Story, Historic/Older, Traditional', 'Split (4 Level)',\n",
       "       'Farm House', 'Split-Level', 'SingleFamilyResidence',\n",
       "       'Ranch, One Story, Duplex', 'Condo/Townhome, A-Frame, Traditional',\n",
       "       'Log Home', 'Cape Cod', 'Single Detached, Contemporary/Modern',\n",
       "       'Detached, Tri-Level', 'Cape Cod, Colonial',\n",
       "       'Contemporary/Modern, High Rise', 'Craftsman', 'Bilevel',\n",
       "       'Tri-Level', 'Condominium (Single Level), Spanish/Southwestern',\n",
       "       'Condominium',\n",
       "       'Condo/Townhome, Contemporary/Modern, Mid-Century Modern',\n",
       "       'Single Detached, Contemporary/Modern, Traditional', 'Mid-Rise',\n",
       "       'Contemporary, Zero-Lot Line', 'Urban Contemporary',\n",
       "       'Ranch, Traditional', 'Straight Thru', 'Cottage',\n",
       "       'Single Detached, Early American', 'Houseboat',\n",
       "       'Detached, Two Story', 'Ranch, One Story',\n",
       "       'Detached, Ranch, One Story',\n",
       "       'Condominium (Single Level), Traditional',\n",
       "       'Single Detached, Craftsman', 'Mid-Century Modern', 'apartment',\n",
       "       'French Provincial', 'Garden/Zero Lot Line, Traditional',\n",
       "       '4+ Floors', 'Other', 'Bungalow, Traditional',\n",
       "       'Condominium (Single Level), Contemporary',\n",
       "       '1 Story, Historic/Older', 'Split Level',\n",
       "       'Multi-Level, New Englander', '2 Stories, Contemporary',\n",
       "       'High-Rise (8+ Stories)', 'Single Detached, Mid-Century Modern',\n",
       "       '1 Story, Craftsman', '3 Story',\n",
       "       'Single Detached, Mid-Century Modern, Ranch',\n",
       "       'Courtyard, Townhouse', 'Bungalow, Ranch',\n",
       "       'Contemporary/Modern, Mediterranean',\n",
       "       'A-Frame, Craftsman, Dwelling w/Separate Living Area',\n",
       "       'Single Detached, Ranch', 'High Rise, Split-Level',\n",
       "       'Condo/Townhome, Hi-Rise', 'Townhouse, Modern',\n",
       "       'Contemporary, Loft with Bedrooms, Loft',\n",
       "       '2 Stories, Texas Hill Country',\n",
       "       'Contemporary, Converted Dwelling', 'Custom',\n",
       "       'Condo/Townhome, Mid-Century Modern, Traditional',\n",
       "       '3+ Stories, Contemporary', 'English', 'Arts & Crafts, Bungalow',\n",
       "       '1 Story, Contemporary', 'Multiplex', 'Miscellaneous',\n",
       "       '1 Story, Spanish, Historic/Older', 'Contemporary, Transitional',\n",
       "       'Contemporary, Loft', 'Multiple Occupancy', 'Spanish, Traditional',\n",
       "       'Detached, Manufactured Home',\n",
       "       'Historical/Conservation District, Single Detached, Tudor',\n",
       "       'Colonial, Farmhouse', 'Co-op, Contemporary', 'Split-Entry',\n",
       "       'Colonial, Other', 'Camp', 'Split-Level, Tri-Level',\n",
       "       'Detached, One Story, Duplex', 'Co-op',\n",
       "       'Condo/Townhome, Hi-Rise, Contemporary/Modern', 'Victorian',\n",
       "       'Spanish', 'Condo/Townhome, Contemporary/Modern, Loft',\n",
       "       'Single Detached, Craftsman, Traditional',\n",
       "       'Other Style, Traditional', 'Key West', 'Bi-Level, Multiplex',\n",
       "       '1 1/2 Story with Basement, Craftsman', 'Garden Home, Split-Level',\n",
       "       'Townhouse, Craftsman', 'Other (See Remarks)', 'Art Deco',\n",
       "       'High Rise, Spanish/Mediterranean', 'Garden Home, High Rise',\n",
       "       'Coach/Carriage', 'Detached, One Story, Spanish/Mediterranean',\n",
       "       'Single Detached, Victorian', 'Cape',\n",
       "       'Single Detached, Colonial, English', 'Mid-Rise (4-7 Stories)',\n",
       "       'Charleston',\n",
       "       'Condo/Townhome, Contemporary/Modern, Loft, Traditional',\n",
       "       'Condo/Townhome, Contemporary/Modern, Traditional',\n",
       "       'One Story, Spanish/Mediterranean', 'Attached, Ranch',\n",
       "       'Bungalow, Spanish/Mediterranean',\n",
       "       'Other Arch (See Remarks), Townhouse', 'Custom, Florida, Ranch',\n",
       "       '1 Story, Traditional, Texas Hill Country',\n",
       "       'Condominium (Single Level), Modern', 'Cape Cod, Traditional',\n",
       "       'Contemporary, Ranch', 'Bi-Level', 'Craftsman, Transitional',\n",
       "       'Georgian', '2 Stories, Craftsman',\n",
       "       'Attached or 1/2 Duplex, Contemporary/Modern, Traditional',\n",
       "       '3+ Stories, Split Level', '1 Story with Basement, Craftsman',\n",
       "       'Attached or 1/2 Duplex, Condo/Townhome, Contemporary/Modern',\n",
       "       'One Story, Duplex', 'Other Style, Ranch, Traditional',\n",
       "       'High-Rise', 'Cluster Home, Garden Home',\n",
       "       'Split Level, Traditional', 'Single Detached, A-Frame',\n",
       "       'Single Detached, Split Level', 'Santa Barbara/Tuscan', 'Rancher',\n",
       "       'Traditional, Bilevel', 'Elevated',\n",
       "       '2 Stories with Basement, Craftsman', 'Craftsman, Florida',\n",
       "       'A-Frame, Contemporary', '4+ Floors, Courtyard, Traditional',\n",
       "       'Condominium (3+ Levels), Contemporary',\n",
       "       '1 Story, Other (See Remarks)', 'Condo/Townhome, Tudor',\n",
       "       '1 Story, Ranch, Traditional', 'Cabin', 'Florida, Ranch',\n",
       "       'Contemporary, Modernist', 'Mobile Home 1 Story',\n",
       "       '2 Stories, Historic/Older, Traditional, Texas Hill Country',\n",
       "       'Mediterranean, Traditional', 'Land', 'Duplex', 'Multi-Level',\n",
       "       'Bungalow, Ranch, Traditional', 'Bilevel, Contemporary',\n",
       "       'Mid-Century Modern, Ranch', 'Split (3 Level)',\n",
       "       'Contemporary, Florida', 'Traditional, Federal',\n",
       "       'A-Frame, Victorian/Federal',\n",
       "       'Contemporary, Modernist, Ranch, Rustic', 'Condominium (2 Levels)',\n",
       "       'Loft, Warehouse', '1 Story, Texas Hill Country',\n",
       "       '1 Story, Split Level',\n",
       "       'Contemporary/Modern, French, Mediterranean, Traditional',\n",
       "       'One Story, Split-Level', 'Townhouse, Traditional',\n",
       "       'Detached, Ranch', 'Colonial, Contemporary',\n",
       "       'Condominium (Single Level), Other (See Remarks)',\n",
       "       'Custom, Florida', 'Country English',\n",
       "       'Garden/Zero Lot Line, Single Detached, Traditional',\n",
       "       'Single Detached, Ranch, Traditional', 'Quad Level', 'Farmhouse',\n",
       "       'Attached or 1/2 Duplex, Other (See Remarks)',\n",
       "       'Historical/Conservation District, Single Detached, Traditional',\n",
       "       'Traditional, Colonial', 'Condo/Townhome, Mid-Century Modern',\n",
       "       '1 1/2 Story', 'Elevated, Florida, Key West',\n",
       "       '2 Stories, Contemporary, Traditional', 'Modernist',\n",
       "       'Manufactured Home', 'Penthouse', 'Mediterranean',\n",
       "       'Less Than 4 Floors, Contemporary',\n",
       "       'Colonial, Contemporary/Modern, English, French, Traditional',\n",
       "       'Raised Ranch', 'End Unit, Townhouse', 'Colonial, Georgian',\n",
       "       'Contemporary, Modern', 'Cabin/Lodge, Condo/Unit',\n",
       "       'Condo/Townhome, Hi-Rise, Traditional', '1 Story with Basement',\n",
       "       'Detached, Duplex', 'Texas Hill Country, Traditional',\n",
       "       'Bungalow, Contemporary', 'Colonial, Conventional', 'Beaux Arts',\n",
       "       'High Rise, Ranch', '2 Stories with Basement',\n",
       "       'Cluster Home, High Rise', 'Detached, Patio Home, Two Story',\n",
       "       '3+ Stories', 'Trinity', 'High Ranch',\n",
       "       'Other (See Remarks), Santa Barbara/Tuscan',\n",
       "       'Colonial, Traditional', 'Multi Generational, Traditional',\n",
       "       'Contemporary, Condo/Unit', 'Bungalow, Tudor',\n",
       "       'Contemporary, Ranch, Traditional',\n",
       "       'Contemporary/Modern, French, Traditional', 'Bungalow, Craftsman',\n",
       "       'Colonial, High Rise, Ranch', 'Old Style',\n",
       "       '2 Stories, Historic/Older, Victorian', 'Historic/Older',\n",
       "       'Cape, Saltbox', 'Other Arch (See Remarks)', 'Tudor',\n",
       "       'Art Deco, Mid Century', 'Condo/Townhome, Mediterranean',\n",
       "       'Bungalow, Contemporary, Ranch, Traditional',\n",
       "       '4+ Floors, Contemporary',\n",
       "       'Garden/Zero Lot Line, Traditional, Victorian',\n",
       "       'Manufactured Single-Wide', 'Detached, One Story, Split-Level',\n",
       "       'Side-by-Side, Traditional', 'unknown', 'Traditional, Victorian',\n",
       "       '1 Story with Basement, Contemporary',\n",
       "       'Single Detached, Contemporary/Modern, Mid-Century Modern',\n",
       "       'Condo/Townhome, Loft', 'Elevated, Florida', 'Less Than 4 Floors',\n",
       "       'Elevated, Key West', 'Cluster Home, Colonial',\n",
       "       'Contemporary, Flat, Transitional', 'Cape, Contemporary',\n",
       "       'Chalet, Cottage', 'Gambrel', 'Florida, Traditional', 'Modern',\n",
       "       'Manufactured House, Traditional, Manufactured Home', 'Step Ranch',\n",
       "       'Attached or 1/2 Duplex',\n",
       "       'Contemporary, Custom, Ranch, Traditional',\n",
       "       'Contemporary/Modern, French', 'Cluster Home, Ranch', 'Patio',\n",
       "       'Studio', 'Garden/Zero Lot Line, Single Detached',\n",
       "       'Manufactured House, Manufactured Home',\n",
       "       'Less Than 4 Floors, Multi-Level, Townhouse', 'Bungalow, Key West',\n",
       "       'Contemporary/Modern, Multiplex', 'Bi-Level, Split-Level',\n",
       "       'Bungalow, Other, Victorian/Federal',\n",
       "       'Contemporary/Modern, Other Style, Ranch, Traditional',\n",
       "       'Condo/Townhome, Lake House, Vacation Home, Traditional',\n",
       "       'Townhome Style', 'Arts & Crafts, Craftsman, Transitional',\n",
       "       'Hi-Rise, Contemporary/Modern', 'Less Than 4 Floors, Key West',\n",
       "       'Tri-Level, Modern', 'Townhouse, Townhouse',\n",
       "       'Attached, End Unit, Ranch', 'Bilevel, Traditional',\n",
       "       'Split-Entry, Traditional', 'Other, Patio', 'Farm House, Ranch',\n",
       "       'Attached or 1/2 Duplex, Condo/Townhome, Contemporary/Modern, Mid-Century Modern, Split Level, Traditional',\n",
       "       'NEW BUILD 2019, Traditional', 'Split Level, Historic/Older',\n",
       "       'Attached, Ranch, Side by Side', 'Condo/Townhome, Colonial',\n",
       "       '1 Story, Historic/Older, Craftsman',\n",
       "       'Florida, Spanish/Mediterranean', 'Cape, Other',\n",
       "       'Contemporary, Traditional', 'Elevated, Key West, Other',\n",
       "       'Contemporary, Custom', '4+ Floors, Courtyard', 'Fourplex',\n",
       "       '2 Stories, Contemporary, Traditional, Craftsman',\n",
       "       'Colonial, Victorian',\n",
       "       '1 Story, Contemporary, Ranch, Historic/Older, Traditional',\n",
       "       'Contemporary, Modern, Traditional', 'Loft with Bedrooms',\n",
       "       'Condo, Other (See Remarks)', 'AirLite', '2 Story, Craftsman',\n",
       "       'Bungalow, Florida', 'Single Wide', '2 Stories, Mediterranean',\n",
       "       'Condo/Townhome, Other (See Remarks)',\n",
       "       'Contemporary/Modern, Split Level, Traditional', 'Bungalow, Other',\n",
       "       'A-Frame, Traditional',\n",
       "       'Bungalow, Contemporary, Other, Patio, Ranch',\n",
       "       'Two Story, Spanish/Mediterranean', 'Loft',\n",
       "       'Condo/Townhome, Split Level',\n",
       "       'Contemporary/Modern, French, Other Style, Traditional',\n",
       "       'Single Detached, A-Frame, Traditional', 'Bungalow, Historical',\n",
       "       'Townhouse, Northwestern Contemporary', 'Split Level, Townhouse',\n",
       "       'Arts & Crafts, Bungalow, Farm House',\n",
       "       '2 Stories with Basement, Tudor',\n",
       "       'Condo/Townhome, Vacation Home, Contemporary/Modern',\n",
       "       'Traditional, Condo/Unit',\n",
       "       '1 Story, Ranch, Traditional, Texas Hill Country',\n",
       "       '1 Story, Traditional, Other (See Remarks)',\n",
       "       'Attached Duplex, Ranch', '1 Story with Basement, Cape Cod',\n",
       "       'Florida, Ranch, One Story', 'Side-by-Side',\n",
       "       'Contemporary, Federal', 'Contemporary/Modern, High Rise, Ranch',\n",
       "       'Condominium (3+ Levels)',\n",
       "       'Historical/Conservation District, Single Detached, Craftsman',\n",
       "       '2 Story, Traditional', 'Tri-Level, Craftsman', 'End Unit',\n",
       "       'Custom, Elevated, Key West',\n",
       "       'Condo/Townhome, Craftsman, Traditional',\n",
       "       'Bungalow, Craftsman, Historical, Patio', 'Colonial, Transitional',\n",
       "       'Low Rise', 'Single Detached, Split Level, Traditional',\n",
       "       '1 Story, Manufactured Home - Single Wide', 'coastal',\n",
       "       '3+ Stories, Spanish', 'Farm/Ranch', 'Craftsman, Other',\n",
       "       '2 Stories, Split Level',\n",
       "       'Condo/Townhome, Garden/Zero Lot Line, Traditional',\n",
       "       'Split, 2 Story', 'Contemporary, Condo/Unit, Bilevel',\n",
       "       'Condo/Townhome, Ranch',\n",
       "       'Detached, Two Story, Spanish/Mediterranean',\n",
       "       '1 Story, Ranch, Historic/Older', 'French', 'Flat',\n",
       "       'Contemporary, Modern Architecture',\n",
       "       'Dwelling w/Separate Living Area', 'Split Foyer', 'Loft, Art Deco',\n",
       "       'Contemporary, Loft, Loft with Bedrooms',\n",
       "       'Condo/Townhome, Spanish, Split Level',\n",
       "       'Contemporary/Modern, Other Style', 'Contemporary, Elevated',\n",
       "       'Condo/Townhome, Vacation Home, Contemporary/Modern, Loft, Traditional',\n",
       "       'Attached, End Unit, Quads, Ranch',\n",
       "       'Ranch, Traditional, Transitional',\n",
       "       'Bungalow, Craftsman, Traditional',\n",
       "       'Designated Historical Home, Historical/Conservation District, Traditional',\n",
       "       'Custom, Elevated', '1 Story/Ranch', 'European',\n",
       "       'Federal, Contemporary', '2 Stories, Split Level, Traditional',\n",
       "       '3+ Stories, Traditional', 'Farm/Ranch House, Contemporary/Modern',\n",
       "       'High Rise, Penthouse, Split-Level', 'Colonial, Split-Level',\n",
       "       'Farmhouse, Modern', 'Hi-Rise', 'Attached, End Unit',\n",
       "       'Condo/Townhome, Southwestern',\n",
       "       '1 Story, Historic/Older, Traditional, Craftsman', 'Attached',\n",
       "       'Condo/Townhome, Mediterranean, Spanish, Split Level',\n",
       "       'Contemporary, Townhouse', 'Florida, Key West',\n",
       "       'Coastal Two Story', 'Contemporary, Other, Patio',\n",
       "       'Colonial, Contemporary/Modern, Mediterranean, Other Style, Ranch, Spanish, Traditional',\n",
       "       'Less Than 4 Floors, Other Arch (See Remarks)',\n",
       "       'High Rise, Multiplex, Ranch', 'Other Style, Ranch',\n",
       "       'Territorial/Santa Fe', '1 Story, Spanish',\n",
       "       'Bungalow, Craftsman, Elevated, Florida', 'Colonial, Historical',\n",
       "       'Single Detached, Prairie', 'Custom, Florida, Traditional',\n",
       "       'Single Detached, Mid-Century Modern, Traditional', 'Coastal',\n",
       "       'Cluster Home, Garden Home, Split-Level',\n",
       "       'Custom, Elevated, Florida', 'Rustic Contemporary',\n",
       "       'Single Detached, Craftsman, Early American, Traditional', 'Log',\n",
       "       'Rancher, Traditional', 'Attached or 1/2 Duplex, Condo/Townhome',\n",
       "       '1 Story, Ranch, Texas Hill Country',\n",
       "       'Condo/Townhome, Contemporary/Modern, Craftsman', 'Loft/Balcony',\n",
       "       'Victorian, Craftsman',\n",
       "       'Bungalow, Contemporary, Craftsman, Custom',\n",
       "       'Single Detached, Vacation Home', 'Bungalow, Transitional',\n",
       "       'Other - See Remarks',\n",
       "       'Condo/Townhome, Contemporary/Modern, Other (See Remarks)',\n",
       "       'Contemporary, Courtyard, Mid-Century Modern',\n",
       "       '1 Story, Tudor, Historic/Older, Traditional',\n",
       "       'Cluster Home, Split-Level',\n",
       "       'Garden/Zero Lot Line, Single Detached, Contemporary/Modern',\n",
       "       'Farmhouse, Multi-Family', 'Craftsman, Ranch',\n",
       "       'Manufactured (Certificate Exchange)', 'Historical',\n",
       "       '2 Stories, Spanish',\n",
       "       'Attached or 1/2 Duplex, Contemporary/Modern',\n",
       "       'Condo/Townhome, Contemporary/Modern, Spanish',\n",
       "       'Detached, Manufactured Home, One Story',\n",
       "       'Traditional, Colonial, Federal',\n",
       "       'Condo/Townhome, French, Split Level', 'Colonial, Duplex',\n",
       "       'Penthouse, Low Rise', 'English, Traditional', 'Multiplex, Ranch',\n",
       "       'Cabin, Cottage/Camp', 'Condo/Townhome, French',\n",
       "       'Contemporary, Spanish',\n",
       "       'Historical/Conservation District, Craftsman',\n",
       "       '1 Story, Mediterranean', 'Less Than 4 Floors, Ranch',\n",
       "       'Condo/Townhome, Designated Historical Home, Hi-Rise, Loft',\n",
       "       'Single Detached, Contemporary/Modern, Other (See Remarks)',\n",
       "       'Cape, Multi-Level, Other Style', 'Ranch, Split-Level',\n",
       "       'Single Detached, Other (See Remarks), Traditional',\n",
       "       'Contemporary, Florida, Other', 'Colonial, Craftsman',\n",
       "       '1 Story, Contemporary, Ranch, Traditional',\n",
       "       'Contemporary/Modern, Ranch',\n",
       "       'Historical/Conservation District, Single Detached, Early American, Traditional',\n",
       "       'Colonial, Custom', 'Single Detached, Prairie, Traditional',\n",
       "       '1 Story, Modern', 'Ranch, One Story, Split-Level',\n",
       "       '2 Story, Colonial', '1 Story, Traditional, Craftsman',\n",
       "       'Contemporary, Craftsman', 'Attached or 1/2 Duplex, Mediterranean',\n",
       "       'Colonial, Contemporary/Modern', '1 1/2 Story with Basement',\n",
       "       'End Unit, Ranch',\n",
       "       'Less Than 4 Floors, 4+ Floors, Art Deco, Multi-Level',\n",
       "       'Custom, Traditional', 'Contemporary/Modern, Ranch, One Story',\n",
       "       'Contemporary, Modern, Transitional, Other (See Remarks)',\n",
       "       'Contemporary, Mid-Century Modern', '2 Story, Modern',\n",
       "       'Condo/Unit, Contemporary, Traditional',\n",
       "       'Condo/Townhome, Contemporary/Modern, Split Level',\n",
       "       'Manufactured House, Multi-Level, Manufactured Home',\n",
       "       '30X40 building', 'Carriage',\n",
       "       'Single Detached, Contemporary/Modern, Ranch, Traditional',\n",
       "       'Patio Home, One Story', '1 Story, Spanish, Ranch, Traditional',\n",
       "       'Condo/Townhome, Single Detached', 'Bungalow, Colonial',\n",
       "       'High Rise, Multiplex',\n",
       "       '1 Story, Contemporary, Other (See Remarks)', 'Post and Beam',\n",
       "       'Manufactured House, Coach/Carriage, Manufactured Home',\n",
       "       'Mid-Century Modern, Traditional',\n",
       "       '2 Stories, Historic/Older, Craftsman',\n",
       "       'Farm/Ranch House, Single Detached, Contemporary/Modern, Ranch',\n",
       "       'Traditional, Art Deco, Beaux Arts',\n",
       "       'Contemporary/Modern, Split Level', 'Manuf/Mobile',\n",
       "       'Single Detached, Contemporary/Modern, Mid-Century Modern, Prairie',\n",
       "       'Single Detached, Craftsman, Traditional, Tudor',\n",
       "       'Detached, Spanish/Mediterranean',\n",
       "       'Manufactured Home, Mobile Home, Ranch',\n",
       "       '1 1/2 Story with Basement, Cape Cod',\n",
       "       '1 Story, Historic/Older, Other (See Remarks)',\n",
       "       'Contemporary, Loft with Bedrooms', 'Farm/Ranch House, Ranch',\n",
       "       '1 Story, Contemporary, Ranch', 'Florida, Mid-Century Modern',\n",
       "       'Manufactured Home, One Story',\n",
       "       'Condo/Townhome, Mediterranean, Traditional',\n",
       "       'Mobile Manu - Double Wide, Ranch', 'Bungalow, Craftsman, Cottage',\n",
       "       'Contemporary/Modern, Other Style, Traditional', '1 Story, Cabin',\n",
       "       'French, Traditional', '1 Story, Texas Hill Country, A-Frame',\n",
       "       'Single Detached, Contemporary/Modern, Mid-Century Modern, Traditional',\n",
       "       'Ranch, Spanish', '2 Stories with Basement, Cabin',\n",
       "       'Colonial, Tudor', 'Mediterranean, Townhouse',\n",
       "       'Ranch, Split Level', 'Bungalow, Multi Generational',\n",
       "       'Bi-Level, Cape', 'Bungalow, Craftsman, Ranch',\n",
       "       'Condo/Townhome, Single Detached, Split Level, Traditional',\n",
       "       'Attached or 1/2 Duplex, Single Detached, A-Frame, Traditional',\n",
       "       'Bungalow, Cape Cod, Colonial', 'YES',\n",
       "       'Detached, Patio Home, One Story', 'Contemporary, Florida, Ranch',\n",
       "       'Hi Ranch', 'Mobile Home', 'Patio, Ranch', 'Historic Vintage',\n",
       "       'Contemporary, Condo/Unit, Loft with Bedrooms',\n",
       "       'Double-Wide Mobile With Land', 'Camp, Cottage',\n",
       "       'Detached, Split-Level', 'Florida, Patio, Ranch',\n",
       "       'Federal, Colonial',\n",
       "       'Condo/Townhome, Hi-Rise, Resort Property, Vacation Home, Contemporary/Modern, Other (See Remarks)',\n",
       "       'English, Other Style, Traditional',\n",
       "       'Modular/Prefab, Manufactured Home, Mobile Home',\n",
       "       'Bungalow, Historical, Traditional',\n",
       "       'Condo/Townhome, Other (See Remarks), Traditional',\n",
       "       '2 Stories, Colonial, Ranch', '1 Story, Ranch, Craftsman',\n",
       "       'Farm House, Modernist', 'Cape, Other Style',\n",
       "       '2 Stories, Tudor, Victorian', 'Condo/Townhome, Studio',\n",
       "       'Traditional, Zero-Lot Line', 'Side-by-Side, Colonial', '1 story',\n",
       "       'Single Detached, A-Frame, Craftsman',\n",
       "       'Condo/Townhome, Vacation Home, Contemporary/Modern, Early American, Traditional',\n",
       "       'Hill Country', '1 Story with Basement, Traditional',\n",
       "       'Single Detached, Mediterranean, Traditional',\n",
       "       'Contemporary, Villa', '2 story condo',\n",
       "       'Courtyard, Spanish/Mediterranean',\n",
       "       'Attached, End Unit, Ranch, Side by Side',\n",
       "       'Condo/Townhome, Split Level, Traditional',\n",
       "       'Farm/Ranch House, Single Detached, Early American',\n",
       "       'Cluster Home, Tri-Level', 'Charleston, Bungalow',\n",
       "       'Contemporary, High Rise', 'Florida, Key West, Other',\n",
       "       '2 Stories, Historic/Older, Traditional', '2 Stories, Colonial',\n",
       "       'Contemporary, Saltbox', 'Craftsman, Traditional',\n",
       "       'Attached, Townhouse', 'Mid Rise',\n",
       "       'Designated Historical Home, Single Detached, Craftsman',\n",
       "       'Courtyard', 'Contemporary, Detached',\n",
       "       'Attached or 1/2 Duplex, Condo/Townhome, Colonial, English, Traditional',\n",
       "       '1 1/2 Story, Northwestern Contemporary', 'Coastal Beach Home',\n",
       "       'Manufactured Home - Double Wide',\n",
       "       'Lake House, Single Detached, Traditional',\n",
       "       'Condo/Townhome, Hi-Rise, Mid-Century Modern',\n",
       "       'Townhouse, Zero-Lot Line', 'Coastal Modern',\n",
       "       '1 Story, Manufactured Home - Double Wide', 'Co-op, Traditional',\n",
       "       'Farm/Ranch House', 'Farmhouse/National Folk',\n",
       "       'Florida, Ranch, Traditional',\n",
       "       'Single Detached, Craftsman, Early American',\n",
       "       'Attached Duplex, End Unit, Ranch',\n",
       "       'Condo/Townhome, Hi-Rise, Loft',\n",
       "       'Condo/Townhome, English, Traditional',\n",
       "       'Bungalow, Mid-Century Modern', 'Single Wide MH', 'Cape, Cottage',\n",
       "       'Condo/Townhome, Spanish', 'Arts & Crafts', 'Mediterranean, Villa',\n",
       "       'Designated Historical Home, Historical/Conservation District, Single Detached, Traditional',\n",
       "       'Loft, Split Level, Townhouse, Traditional', 'Mid-Level',\n",
       "       'Contemporary, Modern, Rustic', 'Contemporary, Split Level',\n",
       "       'Ranch, Single Wide',\n",
       "       'Condo/Townhome, Hi-Rise, Contemporary/Modern, Traditional',\n",
       "       'Contemporary, Patio', 'Contemporary, Elevated, Florida',\n",
       "       'French, Other Style, Traditional', 'Bungalow, Cape Cod, Ranch',\n",
       "       'Condominium (Single Level), Craftsman',\n",
       "       'Condo/Townhome, Hi-Rise, Contemporary/Modern, Mid-Century Modern, Other (See Remarks)',\n",
       "       'Condo/Townhome, Hi-Rise, Other (See Remarks)',\n",
       "       'Single-Wide Mobile With Land, Traditional',\n",
       "       'Contemporary, Elevated, Key West', 'Colonial, Converted Dwelling',\n",
       "       'Georgian, Traditional', 'A-Frame, Cape Cod',\n",
       "       'Attached, End Unit, Lower Level, Ranch',\n",
       "       'Single Detached, Mid-Century Modern, Ranch, Traditional', 'Villa',\n",
       "       'Mountain Contemporary', 'Multi Generational, Ranch, Traditional',\n",
       "       'Apartment, Condo/Townhome', 'Split Level, Ranch',\n",
       "       'Single Detached, Mediterranean, Ranch, Southwestern',\n",
       "       '1 1/2 Story, Traditional', 'Florida, Patio',\n",
       "       'Two Story, Split-Level', 'Spanish/Mediterranean, Traditional',\n",
       "       'Manufactured Double-Wide',\n",
       "       'Single Detached, Single-Wide Mobile With Land',\n",
       "       'Condo/Townhome, Hi-Rise, Contemporary/Modern, Loft',\n",
       "       'Florida, Other', 'Townhouse, Tri-Level', 'Patio Home, Two Story',\n",
       "       'Craftsman, Bungalow', 'Victorian/Federal',\n",
       "       'Contemporary, Courtyard', 'Colonial, Ranch',\n",
       "       'Cape Cod, Victorian/Federal', 'Bilevel, Condo/Unit',\n",
       "       'Other, Duplex', '1 Story, Contemporary, Colonial, Traditional',\n",
       "       'Condo/Townhome, Hi-Rise, Mediterranean',\n",
       "       '1 Story with Basement, Northwestern Contemporary',\n",
       "       '1 Story, Spanish, Traditional, Mediterranean',\n",
       "       'Contemporary/Modern, Spanish', 'Single-Wide Mobile With Land',\n",
       "       'Attached, Attached Duplex, End Unit',\n",
       "       'Condo/Townhome, Mediterranean, Spanish',\n",
       "       'Attached, Attached Duplex, End Unit, Ranch, Side by Side',\n",
       "       'Walk-Out Ranch',\n",
       "       'Garden/Zero Lot Line, Single Detached, Contemporary/Modern, Mid-Century Modern',\n",
       "       'Cape Cod, Florida, Ranch, Traditional',\n",
       "       'Courtyard, Florida, Patio', 'Cottage, English',\n",
       "       'Condo/Townhome, Hi-Rise, Mediterranean, Traditional',\n",
       "       '2 Stories, Spanish, Historic/Older, Traditional',\n",
       "       'Contemporary, Custom, Elevated, Florida', 'Two Story, Duplex',\n",
       "       'Carriage, Contemporary, Ranch, Walkout Lower Level, Craftsman',\n",
       "       'Mid-Century', 'Cluster Home, Penthouse', 'Contemporary, Dome',\n",
       "       'Georgian, Colonial', 'Contemporary, Other',\n",
       "       '1 Story, Split Level, Traditional', '1 1/2 Story, Craftsman',\n",
       "       'Condo/Townhome, Contemporary/Modern, French',\n",
       "       'Camp, Cottage, Ranch', 'Mediterranean, Spanish',\n",
       "       'Flat, Walkout Lower Level', '1 Story, Cape Cod',\n",
       "       'Cluster Home, Split-Level, Tri-Level',\n",
       "       'Manufactured Double-Wide, Traditional', 'Triplex',\n",
       "       'Condominium (3+ Levels), Traditional', '1 Story Traditional',\n",
       "       'Attached Duplex, End Unit', 'Cape Cod, Ranch',\n",
       "       'Ranch, Spanish/Mediterranean', '1 1/2 Story, Tudor',\n",
       "       'Townhouse, Two Story, Traditional',\n",
       "       'Colonial, Contemporary/Modern, Conventional',\n",
       "       'Ranch, Transitional', 'Less Than 4 Floors, Villa',\n",
       "       'Federal, Loft',\n",
       "       '1 Story, Manufactured Home - Double Wide, Other (See Remarks)',\n",
       "       'Mid Century Modern', 'Split-Entry, Northwestern Contemporary',\n",
       "       'Ranch, Territorial/Santa Fe', 'Contemporary, Other Style',\n",
       "       'Traditional, Loft with Bedrooms', 'Less Than 4 Floors, Townhouse',\n",
       "       'Craftsman, Custom, Florida, Patio, Ranch',\n",
       "       'Detached, One Story, Two Story', 'Coach/Carriage, Cluster Home',\n",
       "       'Less Than 4 Floors, Traditional',\n",
       "       '2 Stories, Spanish, Mediterranean',\n",
       "       'Custom, Florida, Spanish/Mediterranean',\n",
       "       '1 Story, Manufactured Home - Single Wide, Manufactured Home - Double Wide',\n",
       "       '1 Story, Contemporary, Traditional',\n",
       "       'Split Level, Contemporary, Historic/Older', 'Cape, Log',\n",
       "       'Condo/Townhome, Mediterranean, Other (See Remarks)',\n",
       "       '2 Stories, Contemporary, Craftsman',\n",
       "       '1 1/2 Story with Basement, Traditional',\n",
       "       'Bungalow, Craftsman, Historical',\n",
       "       'Condo/Townhome, Hi-Rise, Contemporary/Modern, Studio',\n",
       "       'Ground Floor, Studio, Walkout Lower Level',\n",
       "       'Less Than 4 Floors, Contemporary, Townhouse', 'Fairway house',\n",
       "       'Manuf/Mobile, Ranch',\n",
       "       'Single Detached, Contemporary/Modern, Split Level',\n",
       "       'Cabin, Bungalow, Rustic', 'Dutch Colonial',\n",
       "       'Bungalow, Craftsman, Custom', 'Raised Ranch, Split Level',\n",
       "       'Single Detached, Contemporary/Modern, Craftsman', 'Cape, Chalet',\n",
       "       'Arts & Crafts, Bungalow, Craftsman, Ranch',\n",
       "       'Elevated, Spanish/Mediterranean', 'Bi-Level, Ranch',\n",
       "       '2 Stories, Ranch',\n",
       "       'Condo/Townhome, Hi-Rise, Historical/Conservation District, Mid-Century Modern, Traditional',\n",
       "       'Straight Thru, Contemporary', 'Tri-Level, Contemporary',\n",
       "       'Colonial, Contemporary/Modern, Other Style, Traditional',\n",
       "       'Contemporary/Modern, Ranch, Traditional', '1 Story, Colonial',\n",
       "       'Condo/Unit, Bilevel, Converted Dwelling',\n",
       "       'Garden/Zero Lot Line, Single Detached, Contemporary/Modern, Traditional',\n",
       "       'Hi-Rise, Contemporary/Modern, Traditional',\n",
       "       'Condominium (Single Level), Loft', 'Contemporary, Straight Thru',\n",
       "       'Cape Cod, Williamsburg, Cottage', 'Victorian, Bilevel',\n",
       "       'Art Deco, Straight Thru', '2-Story', 'Denver Square',\n",
       "       'Condominium (2 Levels), Loft', '4+ Floors, Art Deco',\n",
       "       'Loft, Loft with Bedrooms, Condo/Unit',\n",
       "       'Apartment, Condo/Townhome, Garden/Zero Lot Line',\n",
       "       'Contemporary, Spanish/Mediterranean', '2 Story, Contemporary',\n",
       "       'Coach/Carriage, Garden Home', 'Less Than 4 Floors, European',\n",
       "       'Arts & Crafts, Traditional', 'Traditional, Straight Thru',\n",
       "       'Garden Home, Traditional', 'Less Than 4 Floors, Courtyard, Ranch',\n",
       "       'Condo/Townhome, Hi-Rise, Contemporary/Modern, Mid-Century Modern',\n",
       "       'Single Detached, Craftsman, Tudor',\n",
       "       'Bungalow, Contemporary, Florida',\n",
       "       'Single Detached, Craftsman, Mid-Century Modern',\n",
       "       'Attached or 1/2 Duplex, Southwestern', 'Cottage/Camp',\n",
       "       'Condominium (2 Levels), Townhouse',\n",
       "       'Houseboat, Northwestern Contemporary', 'Townhouse, Villa',\n",
       "       '2 Stories, Contemporary, Mediterranean',\n",
       "       'Single Detached, Early American, Traditional',\n",
       "       'Bilevel, Converted Dwelling, Loft with Bedrooms, Condo/Unit'],\n",
       "      dtype=object)"
      ]
     },
     "execution_count": 355,
     "metadata": {},
     "output_type": "execute_result"
    }
   ],
   "source": [
    "data['propertyType'].unique()"
   ]
  },
  {
   "cell_type": "code",
   "execution_count": 356,
   "metadata": {},
   "outputs": [],
   "source": [
    "data['propertyType'].astype('str')\n",
    "list = ['single-family home', 'Single Family','Single Family Home']\n",
    "list1 = ['condo', 'Condo', 'Condo/']\n",
    "list2 = ['townhouse', 'Townhouse']\n",
    "def get_property_type(arg):\n",
    "    if arg in list: return 'Single Family Home'\n",
    "    elif arg in list1: return 'Condo'\n",
    "    elif arg in list2: return 'Townhouse'\n",
    "    else: return 'other'\n",
    "data['propertyType'] = data['propertyType'].apply(get_property_type)"
   ]
  },
  {
   "cell_type": "code",
   "execution_count": 357,
   "metadata": {},
   "outputs": [
    {
     "data": {
      "text/plain": [
       "(139198, 18)"
      ]
     },
     "execution_count": 357,
     "metadata": {},
     "output_type": "execute_result"
    }
   ],
   "source": [
    "list = ['other']\n",
    "data = data[data.propertyType.isin(list) == False]#оставляем строки не содержащие значение типа дома - другой\n",
    "data.shape"
   ]
  },
  {
   "cell_type": "code",
   "execution_count": 358,
   "metadata": {},
   "outputs": [
    {
     "data": {
      "text/plain": [
       "for sale                      75083\n",
       "For sale                      14794\n",
       "Active                        13467\n",
       "foreclosure                    4447\n",
       "Pending                        2489\n",
       "                              ...  \n",
       "Pending   Continue To Show        1\n",
       "Pending (Do Not Show)             1\n",
       "Temporary Active                  1\n",
       "Pending Bring Backup              1\n",
       "Accepting backups                 1\n",
       "Name: status, Length: 85, dtype: int64"
      ]
     },
     "execution_count": 358,
     "metadata": {},
     "output_type": "execute_result"
    }
   ],
   "source": [
    "data['status'].value_counts()#предобработка статуса объявлений"
   ]
  },
  {
   "cell_type": "code",
   "execution_count": 359,
   "metadata": {},
   "outputs": [
    {
     "data": {
      "text/plain": [
       "array(['for sale', nan, 'For sale', 'Pending', 'Active', ' / auction',\n",
       "       'New construction', 'Under Contract   Showing', 'P',\n",
       "       'Under Contract', 'Under Contract Backups', 'foreclosure',\n",
       "       'Option Pending', 'Active Under Contract', 'A Active',\n",
       "       'Contingent', 'Foreclosed', 'Under Contract Show', 'New',\n",
       "       'Contingent Finance And Inspection', 'Pre-foreclosure',\n",
       "       'P Pending Sale', 'Active With Contingencies',\n",
       "       'Contingent Take Backup', 'Option Contract',\n",
       "       'Pending Continue To Show', 'pending', 'C',\n",
       "       'Pre-foreclosure / auction', 'Contingent Show',\n",
       "       'Contingent   Show', 'Pi', 'Contract Contingent On Buyer Sale',\n",
       "       'U Under Contract', 'Active Contingency',\n",
       "       'Pending With Contingencies', 'Pending Bring Backup', 'Auction',\n",
       "       'Pending Taking Backups', 'Price Change', 'Foreclosure',\n",
       "       'C Continue Show', 'Contingency Contract', 'Contingent Escape',\n",
       "       'Active/Contingent', 'Active Backup', 'Active With Offer',\n",
       "       'Condo for rent', 'Active Contingent', 'Pending Offer Approval',\n",
       "       'Pending In', 'Contract P', 'Temporary Active',\n",
       "       'Pending (Do Not Show)', 'Pending   Continue To Show',\n",
       "       'Under contract', 'Pending W/Escape Clause',\n",
       "       'Pending W/Insp Finance', 'Offer Pending Signature',\n",
       "       'Pending   Continue To Show   Financing', 'Coming soon: Dec 14.',\n",
       "       'Coming soon: Dec 7.', 'Pending W/Backup Wanted',\n",
       "       'Coming soon: Oct 30.', 'Contingent   No Show',\n",
       "       'Coming soon: Nov 30.', 'Coming soon: Nov 13.',\n",
       "       'Contingent   Foreclosure', 'Ct', 'Conting Accpt Backups', 'Pf',\n",
       "       'Coming soon: Nov 29.', 'Lease/Purchase Pending', 'Ps',\n",
       "       'Coming soon: Nov 19.', 'Under Contract W/ Bckp',\n",
       "       'Coming soon: Dec 5.', 'Uc Continue To Show',\n",
       "       'Contingent   Release', 'Pending Inspection',\n",
       "       'Coming soon: Nov 21.', 'Accepted Offer',\n",
       "       'Contingency 48 Hr (+/ )', 'Coming soon: Nov 25.',\n",
       "       'Coming soon: Dec 3.', 'Accepting backups'], dtype=object)"
      ]
     },
     "execution_count": 359,
     "metadata": {},
     "output_type": "execute_result"
    }
   ],
   "source": [
    "data['status'].unique()"
   ]
  },
  {
   "cell_type": "code",
   "execution_count": 360,
   "metadata": {},
   "outputs": [],
   "source": [
    "list = ['for sale', 'For sale']\n",
    "list1 = ['Active', 'active', 'A Active', 'Active Contingent', 'Active/Contingent']\n",
    "\n",
    "def get_status(arg):\n",
    "    if arg in list: return 'For sale'\n",
    "    elif arg in list1: return 'Active'\n",
    "    else: return 'other'\n",
    "data['status'] = data['status'].apply(get_status)"
   ]
  },
  {
   "cell_type": "code",
   "execution_count": 361,
   "metadata": {},
   "outputs": [
    {
     "data": {
      "text/plain": [
       "(103586, 18)"
      ]
     },
     "execution_count": 361,
     "metadata": {},
     "output_type": "execute_result"
    }
   ],
   "source": [
    "list = ['other']\n",
    "data = data[data.status.isin(list) == False]#оставляем строки не содержащие сомнительные объявления\n",
    "data.shape"
   ]
  },
  {
   "cell_type": "code",
   "execution_count": 362,
   "metadata": {},
   "outputs": [
    {
     "data": {
      "text/plain": [
       "array([\"{'atAGlanceFacts': [{'factValue': '2019', 'factLabel': 'Year built'}, {'factValue': '', 'factLabel': 'Remodeled year'}, {'factValue': '', 'factLabel': 'Heating'}, {'factValue': '', 'factLabel': 'Cooling'}, {'factValue': '', 'factLabel': 'Parking'}, {'factValue': '5828 sqft', 'factLabel': 'lotsize'}, {'factValue': '$159/sqft', 'factLabel': 'Price/sqft'}]}\",\n",
       "       \"{'atAGlanceFacts': [{'factValue': '1920', 'factLabel': 'Year built'}, {'factValue': '', 'factLabel': 'Remodeled year'}, {'factValue': 'Forced Air', 'factLabel': 'Heating'}, {'factValue': 'Central', 'factLabel': 'Cooling'}, {'factValue': '', 'factLabel': 'Parking'}, {'factValue': '680 sqft', 'factLabel': 'lotsize'}, {'factValue': '$233/sqft', 'factLabel': 'Price/sqft'}]}\",\n",
       "       \"{'atAGlanceFacts': [{'factValue': '1989', 'factLabel': 'Year built'}, {'factValue': '', 'factLabel': 'Remodeled year'}, {'factValue': 'Forced air', 'factLabel': 'Heating'}, {'factValue': 'Central, Evaporative', 'factLabel': 'Cooling'}, {'factValue': 'Attached Garage', 'factLabel': 'Parking'}, {'factValue': '1.18 acres', 'factLabel': 'lotsize'}, {'factValue': '$217', 'factLabel': 'Price/sqft'}]}\",\n",
       "       ...,\n",
       "       \"{'atAGlanceFacts': [{'factValue': '2010', 'factLabel': 'Year built'}, {'factValue': None, 'factLabel': 'Remodeled year'}, {'factValue': 'Forced air', 'factLabel': 'Heating'}, {'factValue': 'Central', 'factLabel': 'Cooling'}, {'factValue': '1 space', 'factLabel': 'Parking'}, {'factValue': None, 'factLabel': 'lotsize'}, {'factValue': '$564', 'factLabel': 'Price/sqft'}]}\",\n",
       "       \"{'atAGlanceFacts': [{'factValue': '1924', 'factLabel': 'Year built'}, {'factValue': '', 'factLabel': 'Remodeled year'}, {'factValue': 'Radiant', 'factLabel': 'Heating'}, {'factValue': '', 'factLabel': 'Cooling'}, {'factValue': 'None', 'factLabel': 'Parking'}, {'factValue': '', 'factLabel': 'lotsize'}, {'factValue': '$337/sqft', 'factLabel': 'Price/sqft'}]}\",\n",
       "       \"{'atAGlanceFacts': [{'factValue': '1950', 'factLabel': 'Year built'}, {'factValue': '1950', 'factLabel': 'Remodeled year'}, {'factValue': 'Other', 'factLabel': 'Heating'}, {'factValue': '', 'factLabel': 'Cooling'}, {'factValue': '2', 'factLabel': 'Parking'}, {'factValue': '1,600 sqft', 'factLabel': 'lotsize'}, {'factValue': '$458/sqft', 'factLabel': 'Price/sqft'}]}\"],\n",
       "      dtype=object)"
      ]
     },
     "execution_count": 362,
     "metadata": {},
     "output_type": "execute_result"
    }
   ],
   "source": [
    "data['homeFacts'].unique()#предобработка фактов о доме, извлечение года постройки"
   ]
  },
  {
   "cell_type": "code",
   "execution_count": 363,
   "metadata": {},
   "outputs": [
    {
     "data": {
      "text/plain": [
       "1     2019\n",
       "5     1920\n",
       "20    1989\n",
       "24    2014\n",
       "32    1977\n",
       "Name: Year_built, dtype: object"
      ]
     },
     "execution_count": 363,
     "metadata": {},
     "output_type": "execute_result"
    }
   ],
   "source": [
    "data['Year1'] = data['homeFacts'].apply(lambda x: x.split('Year built')[0])#выбираем строку до интересуемого признака\n",
    "data['Year2'] = data['Year1'].apply(lambda x: x.split(',')[0])#оставляем запись до первой запятой, в конце получившейся записи остается дата\n",
    "data['Year_built'] = data['Year2'].apply(lambda x: x.split('factValue')[-1][4:8])#оставляем запись года строительства здания\n",
    "data['Year_built'].head()"
   ]
  },
  {
   "cell_type": "code",
   "execution_count": 364,
   "metadata": {},
   "outputs": [],
   "source": [
    "data = data.drop(['Year1', 'Year2'], axis=1)#удаляем вспомагательные столбцы"
   ]
  },
  {
   "cell_type": "code",
   "execution_count": 365,
   "metadata": {},
   "outputs": [],
   "source": [
    "data['Year_built'] = data['Year_built'].astype('str')\n",
    "list = [\"'\", \"N\"]\n",
    "def get_Year_built(arg):\n",
    "    if arg[0] in list: return 0#убираем из значения запятые\n",
    "    else: return arg\n",
    "data['Year_built'] = data['Year_built'].apply(get_Year_built)"
   ]
  },
  {
   "cell_type": "code",
   "execution_count": 366,
   "metadata": {},
   "outputs": [],
   "source": [
    "data['Year_built'] = data['Year_built'].astype('int64')#преобразовываем тип данных в числовой целочислительный"
   ]
  },
  {
   "cell_type": "code",
   "execution_count": 367,
   "metadata": {},
   "outputs": [
    {
     "data": {
      "text/plain": [
       "0"
      ]
     },
     "execution_count": 367,
     "metadata": {},
     "output_type": "execute_result"
    }
   ],
   "source": [
    "data['Year_built'].min()"
   ]
  },
  {
   "cell_type": "code",
   "execution_count": 368,
   "metadata": {},
   "outputs": [],
   "source": [
    "def get_Year(arg):\n",
    "    if 1950 < arg < 2023: return arg#убираем не интересующие значения\n",
    "    else: return 0\n",
    "data['Year_built'] = data['Year_built'].apply(get_Year)"
   ]
  },
  {
   "cell_type": "code",
   "execution_count": 369,
   "metadata": {},
   "outputs": [
    {
     "data": {
      "text/plain": [
       "(75319, 19)"
      ]
     },
     "execution_count": 369,
     "metadata": {},
     "output_type": "execute_result"
    }
   ],
   "source": [
    "list = [0]\n",
    "data = data[data.Year_built.isin(list) == False]#убираем строки содержащие стоимость = 0\n",
    "data.shape"
   ]
  },
  {
   "cell_type": "code",
   "execution_count": 370,
   "metadata": {},
   "outputs": [
    {
     "name": "stdout",
     "output_type": "stream",
     "text": [
      "<class 'pandas.core.frame.DataFrame'>\n",
      "Int64Index: 75319 entries, 1 to 377179\n",
      "Data columns (total 19 columns):\n",
      " #   Column        Non-Null Count  Dtype \n",
      "---  ------        --------------  ----- \n",
      " 0   status        75319 non-null  object\n",
      " 1   private pool  0 non-null      object\n",
      " 2   propertyType  75319 non-null  object\n",
      " 3   street        75319 non-null  object\n",
      " 4   baths         67071 non-null  object\n",
      " 5   homeFacts     75319 non-null  object\n",
      " 6   fireplace     22420 non-null  object\n",
      " 7   city          75319 non-null  object\n",
      " 8   schools       75319 non-null  object\n",
      " 9   sqft          75319 non-null  int64 \n",
      " 10  zipcode       75319 non-null  object\n",
      " 11  beds          69400 non-null  object\n",
      " 12  state         75319 non-null  object\n",
      " 13  stories       54593 non-null  object\n",
      " 14  mls-id        2644 non-null   object\n",
      " 15  PrivatePool   12706 non-null  object\n",
      " 16  MlsId         71536 non-null  object\n",
      " 17  target        75319 non-null  int64 \n",
      " 18  Year_built    75319 non-null  int64 \n",
      "dtypes: int64(3), object(16)\n",
      "memory usage: 11.5+ MB\n"
     ]
    }
   ],
   "source": [
    "data.info()"
   ]
  },
  {
   "cell_type": "code",
   "execution_count": 371,
   "metadata": {},
   "outputs": [],
   "source": [
    "dt = data.drop(['private pool', 'street', 'baths', 'homeFacts', 'fireplace', 'schools', 'beds', 'stories', 'mls-id', 'PrivatePool', 'MlsId'], axis=1)#удаляем неинформативные столбцы"
   ]
  },
  {
   "cell_type": "code",
   "execution_count": 372,
   "metadata": {},
   "outputs": [
    {
     "name": "stdout",
     "output_type": "stream",
     "text": [
      "<class 'pandas.core.frame.DataFrame'>\n",
      "Int64Index: 75319 entries, 1 to 377179\n",
      "Data columns (total 8 columns):\n",
      " #   Column        Non-Null Count  Dtype \n",
      "---  ------        --------------  ----- \n",
      " 0   status        75319 non-null  object\n",
      " 1   propertyType  75319 non-null  object\n",
      " 2   city          75319 non-null  object\n",
      " 3   sqft          75319 non-null  int64 \n",
      " 4   zipcode       75319 non-null  object\n",
      " 5   state         75319 non-null  object\n",
      " 6   target        75319 non-null  int64 \n",
      " 7   Year_built    75319 non-null  int64 \n",
      "dtypes: int64(3), object(5)\n",
      "memory usage: 5.2+ MB\n"
     ]
    }
   ],
   "source": [
    "dt.info()"
   ]
  },
  {
   "cell_type": "code",
   "execution_count": 373,
   "metadata": {},
   "outputs": [
    {
     "data": {
      "text/plain": [
       "4083"
      ]
     },
     "execution_count": 373,
     "metadata": {},
     "output_type": "execute_result"
    }
   ],
   "source": [
    "dt.duplicated().sum()#находим дубликаты строк"
   ]
  },
  {
   "cell_type": "code",
   "execution_count": 374,
   "metadata": {},
   "outputs": [
    {
     "data": {
      "text/plain": [
       "(71236, 8)"
      ]
     },
     "execution_count": 374,
     "metadata": {},
     "output_type": "execute_result"
    }
   ],
   "source": [
    "dt.drop_duplicates(inplace= True)#удаляем дубликаты строк\n",
    "dt.shape"
   ]
  },
  {
   "attachments": {},
   "cell_type": "markdown",
   "metadata": {},
   "source": [
    "Определяем интересующие нас признаки недвижимости, для подготовки модели"
   ]
  },
  {
   "attachments": {},
   "cell_type": "markdown",
   "metadata": {},
   "source": [
    "status -категориальный\n",
    "propertyType - 'Single Family Home', 'Condo', 'Townhouse' - категориальный\n",
    "sqft - числовой\n",
    "zipcode - категориальный\n",
    "state - категориальный\n",
    "Year_built - числовой\n",
    "target - целевая переменная - числовой"
   ]
  },
  {
   "attachments": {},
   "cell_type": "markdown",
   "metadata": {},
   "source": [
    "ПОДГОТАВЛИВАЕМ ДАТАСЕТ"
   ]
  },
  {
   "cell_type": "code",
   "execution_count": 387,
   "metadata": {},
   "outputs": [],
   "source": [
    "df = dt.copy()"
   ]
  },
  {
   "cell_type": "code",
   "execution_count": 376,
   "metadata": {},
   "outputs": [
    {
     "name": "stdout",
     "output_type": "stream",
     "text": [
      "<class 'pandas.core.frame.DataFrame'>\n",
      "Int64Index: 71236 entries, 1 to 377179\n",
      "Data columns (total 8 columns):\n",
      " #   Column        Non-Null Count  Dtype \n",
      "---  ------        --------------  ----- \n",
      " 0   status        71236 non-null  object\n",
      " 1   propertyType  71236 non-null  object\n",
      " 2   city          71236 non-null  object\n",
      " 3   sqft          71236 non-null  int64 \n",
      " 4   zipcode       71236 non-null  object\n",
      " 5   state         71236 non-null  object\n",
      " 6   target        71236 non-null  int64 \n",
      " 7   Year_built    71236 non-null  int64 \n",
      "dtypes: int64(3), object(5)\n",
      "memory usage: 4.9+ MB\n"
     ]
    }
   ],
   "source": [
    "df.info()"
   ]
  },
  {
   "cell_type": "code",
   "execution_count": 388,
   "metadata": {},
   "outputs": [],
   "source": [
    "df['status'] = df['status'].astype('str')\n",
    "df['propertyType'] = df['propertyType'].astype('str')\n",
    "df['sqft'] = df['sqft'].astype('int32')\n",
    "df['city'] = df['city'].astype('str')\n",
    "df['state'] = df['state'].astype('str')\n",
    "df['target'] = df['target'].astype('int32')\n",
    "df['zipcode'] = df['zipcode'].astype('str')\n",
    "df['Year_built'] = df['Year_built'].astype('int16')"
   ]
  },
  {
   "cell_type": "code",
   "execution_count": 378,
   "metadata": {},
   "outputs": [
    {
     "name": "stdout",
     "output_type": "stream",
     "text": [
      "<class 'pandas.core.frame.DataFrame'>\n",
      "Int64Index: 71236 entries, 1 to 377179\n",
      "Data columns (total 8 columns):\n",
      " #   Column        Non-Null Count  Dtype \n",
      "---  ------        --------------  ----- \n",
      " 0   status        71236 non-null  object\n",
      " 1   propertyType  71236 non-null  object\n",
      " 2   city          71236 non-null  object\n",
      " 3   sqft          71236 non-null  int32 \n",
      " 4   zipcode       71236 non-null  object\n",
      " 5   state         71236 non-null  object\n",
      " 6   target        71236 non-null  int32 \n",
      " 7   Year_built    71236 non-null  int16 \n",
      "dtypes: int16(1), int32(2), object(5)\n",
      "memory usage: 3.9+ MB\n"
     ]
    }
   ],
   "source": [
    "df.info()"
   ]
  },
  {
   "cell_type": "code",
   "execution_count": 288,
   "metadata": {},
   "outputs": [
    {
     "data": {
      "text/plain": [
       "FL    13167\n",
       "TX     8640\n",
       "NV     2381\n",
       "TN     2354\n",
       "NC     2303\n",
       "CA     1316\n",
       "WA     1239\n",
       "GA      880\n",
       "IL      737\n",
       "AZ      712\n",
       "OH      572\n",
       "CO      501\n",
       "OR      394\n",
       "NY      373\n",
       "PA      256\n",
       "IN      215\n",
       "MI      170\n",
       "UT      164\n",
       "MD      111\n",
       "VT       96\n",
       "DC       52\n",
       "MO       39\n",
       "MA       26\n",
       "VA       20\n",
       "IA       18\n",
       "NJ       14\n",
       "WI       12\n",
       "ME        8\n",
       "KY        7\n",
       "OK        4\n",
       "SC        3\n",
       "MS        1\n",
       "Name: state, dtype: int64"
      ]
     },
     "execution_count": 288,
     "metadata": {},
     "output_type": "execute_result"
    }
   ],
   "source": [
    "df['state'].value_counts()"
   ]
  },
  {
   "cell_type": "code",
   "execution_count": 390,
   "metadata": {},
   "outputs": [],
   "source": [
    "list = ['FL', 'TX', 'NC', 'TN', 'NV', 'CA', 'WA', 'OH', 'GA', 'IL']\n",
    "def get_state(arg):#оставляем популярные штаты\n",
    "    if arg in list: return arg#\n",
    "    else: return 'other'\n",
    "df['state'] = df['state'].apply(get_state)"
   ]
  },
  {
   "cell_type": "code",
   "execution_count": 391,
   "metadata": {},
   "outputs": [
    {
     "data": {
      "text/plain": [
       "(75319, 19)"
      ]
     },
     "execution_count": 391,
     "metadata": {},
     "output_type": "execute_result"
    }
   ],
   "source": [
    "list = ['other']\n",
    "df = df[df.state.isin(list) == False]#оставляем строки не содержащие не популярные штаты\n",
    "data.shape"
   ]
  },
  {
   "cell_type": "code",
   "execution_count": 392,
   "metadata": {},
   "outputs": [],
   "source": [
    "categorical_columns_names = ['status', 'propertyType', 'state', 'zipcode']\n",
    "encoded_columns = pd.get_dummies(df, columns = categorical_columns_names)#кодируем категориальные признаки"
   ]
  },
  {
   "cell_type": "code",
   "execution_count": 393,
   "metadata": {},
   "outputs": [
    {
     "data": {
      "text/html": [
       "<div>\n",
       "<style scoped>\n",
       "    .dataframe tbody tr th:only-of-type {\n",
       "        vertical-align: middle;\n",
       "    }\n",
       "\n",
       "    .dataframe tbody tr th {\n",
       "        vertical-align: top;\n",
       "    }\n",
       "\n",
       "    .dataframe thead th {\n",
       "        text-align: right;\n",
       "    }\n",
       "</style>\n",
       "<table border=\"1\" class=\"dataframe\">\n",
       "  <thead>\n",
       "    <tr style=\"text-align: right;\">\n",
       "      <th></th>\n",
       "      <th>city</th>\n",
       "      <th>sqft</th>\n",
       "      <th>target</th>\n",
       "      <th>Year_built</th>\n",
       "      <th>status_Active</th>\n",
       "      <th>status_For sale</th>\n",
       "      <th>propertyType_Condo</th>\n",
       "      <th>propertyType_Single Family Home</th>\n",
       "      <th>propertyType_Townhouse</th>\n",
       "      <th>state_CA</th>\n",
       "      <th>...</th>\n",
       "      <th>zipcode_99208</th>\n",
       "      <th>zipcode_99212</th>\n",
       "      <th>zipcode_99216</th>\n",
       "      <th>zipcode_99217</th>\n",
       "      <th>zipcode_99218</th>\n",
       "      <th>zipcode_99223</th>\n",
       "      <th>zipcode_99224</th>\n",
       "      <th>zipcode_99336</th>\n",
       "      <th>zipcode_99337</th>\n",
       "      <th>zipcode_99338</th>\n",
       "    </tr>\n",
       "  </thead>\n",
       "  <tbody>\n",
       "    <tr>\n",
       "      <th>1</th>\n",
       "      <td>Spokane Valley</td>\n",
       "      <td>1947</td>\n",
       "      <td>310000</td>\n",
       "      <td>2019</td>\n",
       "      <td>0</td>\n",
       "      <td>1</td>\n",
       "      <td>0</td>\n",
       "      <td>1</td>\n",
       "      <td>0</td>\n",
       "      <td>0</td>\n",
       "      <td>...</td>\n",
       "      <td>0</td>\n",
       "      <td>0</td>\n",
       "      <td>1</td>\n",
       "      <td>0</td>\n",
       "      <td>0</td>\n",
       "      <td>0</td>\n",
       "      <td>0</td>\n",
       "      <td>0</td>\n",
       "      <td>0</td>\n",
       "      <td>0</td>\n",
       "    </tr>\n",
       "    <tr>\n",
       "      <th>20</th>\n",
       "      <td>Palmdale</td>\n",
       "      <td>1731</td>\n",
       "      <td>375000</td>\n",
       "      <td>1989</td>\n",
       "      <td>0</td>\n",
       "      <td>1</td>\n",
       "      <td>0</td>\n",
       "      <td>1</td>\n",
       "      <td>0</td>\n",
       "      <td>1</td>\n",
       "      <td>...</td>\n",
       "      <td>0</td>\n",
       "      <td>0</td>\n",
       "      <td>0</td>\n",
       "      <td>0</td>\n",
       "      <td>0</td>\n",
       "      <td>0</td>\n",
       "      <td>0</td>\n",
       "      <td>0</td>\n",
       "      <td>0</td>\n",
       "      <td>0</td>\n",
       "    </tr>\n",
       "    <tr>\n",
       "      <th>24</th>\n",
       "      <td>Killeen</td>\n",
       "      <td>1953</td>\n",
       "      <td>182000</td>\n",
       "      <td>2014</td>\n",
       "      <td>0</td>\n",
       "      <td>1</td>\n",
       "      <td>0</td>\n",
       "      <td>1</td>\n",
       "      <td>0</td>\n",
       "      <td>0</td>\n",
       "      <td>...</td>\n",
       "      <td>0</td>\n",
       "      <td>0</td>\n",
       "      <td>0</td>\n",
       "      <td>0</td>\n",
       "      <td>0</td>\n",
       "      <td>0</td>\n",
       "      <td>0</td>\n",
       "      <td>0</td>\n",
       "      <td>0</td>\n",
       "      <td>0</td>\n",
       "    </tr>\n",
       "    <tr>\n",
       "      <th>32</th>\n",
       "      <td>Pt Saint Lucie</td>\n",
       "      <td>1176</td>\n",
       "      <td>204800</td>\n",
       "      <td>1977</td>\n",
       "      <td>0</td>\n",
       "      <td>1</td>\n",
       "      <td>0</td>\n",
       "      <td>1</td>\n",
       "      <td>0</td>\n",
       "      <td>0</td>\n",
       "      <td>...</td>\n",
       "      <td>0</td>\n",
       "      <td>0</td>\n",
       "      <td>0</td>\n",
       "      <td>0</td>\n",
       "      <td>0</td>\n",
       "      <td>0</td>\n",
       "      <td>0</td>\n",
       "      <td>0</td>\n",
       "      <td>0</td>\n",
       "      <td>0</td>\n",
       "    </tr>\n",
       "    <tr>\n",
       "      <th>34</th>\n",
       "      <td>Jacksonville</td>\n",
       "      <td>864</td>\n",
       "      <td>105000</td>\n",
       "      <td>1963</td>\n",
       "      <td>0</td>\n",
       "      <td>1</td>\n",
       "      <td>0</td>\n",
       "      <td>1</td>\n",
       "      <td>0</td>\n",
       "      <td>0</td>\n",
       "      <td>...</td>\n",
       "      <td>0</td>\n",
       "      <td>0</td>\n",
       "      <td>0</td>\n",
       "      <td>0</td>\n",
       "      <td>0</td>\n",
       "      <td>0</td>\n",
       "      <td>0</td>\n",
       "      <td>0</td>\n",
       "      <td>0</td>\n",
       "      <td>0</td>\n",
       "    </tr>\n",
       "  </tbody>\n",
       "</table>\n",
       "<p>5 rows × 2240 columns</p>\n",
       "</div>"
      ],
      "text/plain": [
       "              city  sqft  target  Year_built  status_Active  status_For sale  \\\n",
       "1   Spokane Valley  1947  310000        2019              0                1   \n",
       "20        Palmdale  1731  375000        1989              0                1   \n",
       "24         Killeen  1953  182000        2014              0                1   \n",
       "32  Pt Saint Lucie  1176  204800        1977              0                1   \n",
       "34    Jacksonville   864  105000        1963              0                1   \n",
       "\n",
       "    propertyType_Condo  propertyType_Single Family Home  \\\n",
       "1                    0                                1   \n",
       "20                   0                                1   \n",
       "24                   0                                1   \n",
       "32                   0                                1   \n",
       "34                   0                                1   \n",
       "\n",
       "    propertyType_Townhouse  state_CA  ...  zipcode_99208  zipcode_99212  \\\n",
       "1                        0         0  ...              0              0   \n",
       "20                       0         1  ...              0              0   \n",
       "24                       0         0  ...              0              0   \n",
       "32                       0         0  ...              0              0   \n",
       "34                       0         0  ...              0              0   \n",
       "\n",
       "    zipcode_99216  zipcode_99217  zipcode_99218  zipcode_99223  zipcode_99224  \\\n",
       "1               1              0              0              0              0   \n",
       "20              0              0              0              0              0   \n",
       "24              0              0              0              0              0   \n",
       "32              0              0              0              0              0   \n",
       "34              0              0              0              0              0   \n",
       "\n",
       "    zipcode_99336  zipcode_99337  zipcode_99338  \n",
       "1               0              0              0  \n",
       "20              0              0              0  \n",
       "24              0              0              0  \n",
       "32              0              0              0  \n",
       "34              0              0              0  \n",
       "\n",
       "[5 rows x 2240 columns]"
      ]
     },
     "execution_count": 393,
     "metadata": {},
     "output_type": "execute_result"
    }
   ],
   "source": [
    "df = encoded_columns\n",
    "df.head()"
   ]
  },
  {
   "cell_type": "code",
   "execution_count": 294,
   "metadata": {},
   "outputs": [
    {
     "name": "stdout",
     "output_type": "stream",
     "text": [
      "<class 'pandas.core.frame.DataFrame'>\n",
      "Int64Index: 33589 entries, 1 to 377175\n",
      "Columns: 1814 entries, city to zipcode_99338\n",
      "dtypes: int16(1), int32(2), object(1), uint8(1810)\n",
      "memory usage: 58.8+ MB\n"
     ]
    }
   ],
   "source": [
    "df.info()"
   ]
  },
  {
   "cell_type": "code",
   "execution_count": 394,
   "metadata": {},
   "outputs": [],
   "source": [
    "X = df.drop(['target', 'city'], axis=1)\n",
    "y = df['target']"
   ]
  },
  {
   "cell_type": "code",
   "execution_count": 395,
   "metadata": {},
   "outputs": [
    {
     "name": "stdout",
     "output_type": "stream",
     "text": [
      "Train shape: (50375, 2238)\n",
      "Test shape: (12594, 2238)\n"
     ]
    }
   ],
   "source": [
    "from sklearn import model_selection\n",
    "#Создаем тренировочную и тестовую выборки с помощью train_test_split\n",
    "X_train, X_test, y_train, y_test = model_selection.train_test_split(\n",
    "    X, y, #таблица с наблюдениями и столбец с правильным ответами\n",
    "    test_size=0.2, #размер тестовой выборки\n",
    "    random_state=40 #число отвечающее за генерацию случайных чисел\n",
    ")\n",
    "#Выводим размеры полученных выборок\n",
    "print('Train shape: {}'.format(X_train.shape))\n",
    "print('Test shape: {}'.format(X_test.shape))"
   ]
  },
  {
   "cell_type": "code",
   "execution_count": 396,
   "metadata": {},
   "outputs": [],
   "source": [
    "from sklearn import metrics\n",
    "\n",
    "def print_metrics(y_train, y_train_predict, y_test, y_test_predict):\n",
    "    print('Train R^2: {:.3f}'.format(metrics.r2_score(y_train, y_train_predict)))#коэффициент детерминации\n",
    "    print('Train MAE: {:.3f}'.format(metrics.mean_absolute_error(y_train, y_train_predict)))#средняя абсолютная ошибка (целевая метрика)\n",
    "    print('Train MAPE: {:.3f}'.format(metrics.mean_absolute_percentage_error(y_train, y_train_predict)*100))#средняя абсолютная ошибка в процентах\n",
    "    print('\\n')\n",
    "    print('Test R^2: {:.3f}'.format(metrics.r2_score(y_test, y_test_predict)))#коэффициент детерминации\n",
    "    print('Test MAE: {:.3f}'.format(metrics.mean_absolute_error(y_test, y_test_predict)))#средняя абсолютная ошибка (целевая метрика)\n",
    "    print('Train MAPE: {:.3f}'.format(metrics.mean_absolute_percentage_error(y_test, y_test_predict)*100))#средняя абсолютная ошибка в процентах"
   ]
  },
  {
   "cell_type": "code",
   "execution_count": 397,
   "metadata": {},
   "outputs": [],
   "source": [
    "#Инициализируем объект класса линейная регрессия\n",
    "lr = linear_model.LinearRegression()"
   ]
  },
  {
   "cell_type": "code",
   "execution_count": 398,
   "metadata": {},
   "outputs": [
    {
     "data": {
      "text/html": [
       "<style>#sk-container-id-16 {color: black;background-color: white;}#sk-container-id-16 pre{padding: 0;}#sk-container-id-16 div.sk-toggleable {background-color: white;}#sk-container-id-16 label.sk-toggleable__label {cursor: pointer;display: block;width: 100%;margin-bottom: 0;padding: 0.3em;box-sizing: border-box;text-align: center;}#sk-container-id-16 label.sk-toggleable__label-arrow:before {content: \"▸\";float: left;margin-right: 0.25em;color: #696969;}#sk-container-id-16 label.sk-toggleable__label-arrow:hover:before {color: black;}#sk-container-id-16 div.sk-estimator:hover label.sk-toggleable__label-arrow:before {color: black;}#sk-container-id-16 div.sk-toggleable__content {max-height: 0;max-width: 0;overflow: hidden;text-align: left;background-color: #f0f8ff;}#sk-container-id-16 div.sk-toggleable__content pre {margin: 0.2em;color: black;border-radius: 0.25em;background-color: #f0f8ff;}#sk-container-id-16 input.sk-toggleable__control:checked~div.sk-toggleable__content {max-height: 200px;max-width: 100%;overflow: auto;}#sk-container-id-16 input.sk-toggleable__control:checked~label.sk-toggleable__label-arrow:before {content: \"▾\";}#sk-container-id-16 div.sk-estimator input.sk-toggleable__control:checked~label.sk-toggleable__label {background-color: #d4ebff;}#sk-container-id-16 div.sk-label input.sk-toggleable__control:checked~label.sk-toggleable__label {background-color: #d4ebff;}#sk-container-id-16 input.sk-hidden--visually {border: 0;clip: rect(1px 1px 1px 1px);clip: rect(1px, 1px, 1px, 1px);height: 1px;margin: -1px;overflow: hidden;padding: 0;position: absolute;width: 1px;}#sk-container-id-16 div.sk-estimator {font-family: monospace;background-color: #f0f8ff;border: 1px dotted black;border-radius: 0.25em;box-sizing: border-box;margin-bottom: 0.5em;}#sk-container-id-16 div.sk-estimator:hover {background-color: #d4ebff;}#sk-container-id-16 div.sk-parallel-item::after {content: \"\";width: 100%;border-bottom: 1px solid gray;flex-grow: 1;}#sk-container-id-16 div.sk-label:hover label.sk-toggleable__label {background-color: #d4ebff;}#sk-container-id-16 div.sk-serial::before {content: \"\";position: absolute;border-left: 1px solid gray;box-sizing: border-box;top: 0;bottom: 0;left: 50%;z-index: 0;}#sk-container-id-16 div.sk-serial {display: flex;flex-direction: column;align-items: center;background-color: white;padding-right: 0.2em;padding-left: 0.2em;position: relative;}#sk-container-id-16 div.sk-item {position: relative;z-index: 1;}#sk-container-id-16 div.sk-parallel {display: flex;align-items: stretch;justify-content: center;background-color: white;position: relative;}#sk-container-id-16 div.sk-item::before, #sk-container-id-16 div.sk-parallel-item::before {content: \"\";position: absolute;border-left: 1px solid gray;box-sizing: border-box;top: 0;bottom: 0;left: 50%;z-index: -1;}#sk-container-id-16 div.sk-parallel-item {display: flex;flex-direction: column;z-index: 1;position: relative;background-color: white;}#sk-container-id-16 div.sk-parallel-item:first-child::after {align-self: flex-end;width: 50%;}#sk-container-id-16 div.sk-parallel-item:last-child::after {align-self: flex-start;width: 50%;}#sk-container-id-16 div.sk-parallel-item:only-child::after {width: 0;}#sk-container-id-16 div.sk-dashed-wrapped {border: 1px dashed gray;margin: 0 0.4em 0.5em 0.4em;box-sizing: border-box;padding-bottom: 0.4em;background-color: white;}#sk-container-id-16 div.sk-label label {font-family: monospace;font-weight: bold;display: inline-block;line-height: 1.2em;}#sk-container-id-16 div.sk-label-container {text-align: center;}#sk-container-id-16 div.sk-container {/* jupyter's `normalize.less` sets `[hidden] { display: none; }` but bootstrap.min.css set `[hidden] { display: none !important; }` so we also need the `!important` here to be able to override the default hidden behavior on the sphinx rendered scikit-learn.org. See: https://github.com/scikit-learn/scikit-learn/issues/21755 */display: inline-block !important;position: relative;}#sk-container-id-16 div.sk-text-repr-fallback {display: none;}</style><div id=\"sk-container-id-16\" class=\"sk-top-container\"><div class=\"sk-text-repr-fallback\"><pre>LinearRegression()</pre><b>In a Jupyter environment, please rerun this cell to show the HTML representation or trust the notebook. <br />On GitHub, the HTML representation is unable to render, please try loading this page with nbviewer.org.</b></div><div class=\"sk-container\" hidden><div class=\"sk-item\"><div class=\"sk-estimator sk-toggleable\"><input class=\"sk-toggleable__control sk-hidden--visually\" id=\"sk-estimator-id-26\" type=\"checkbox\" checked><label for=\"sk-estimator-id-26\" class=\"sk-toggleable__label sk-toggleable__label-arrow\">LinearRegression</label><div class=\"sk-toggleable__content\"><pre>LinearRegression()</pre></div></div></div></div></div>"
      ],
      "text/plain": [
       "LinearRegression()"
      ]
     },
     "execution_count": 398,
     "metadata": {},
     "output_type": "execute_result"
    }
   ],
   "source": [
    "#Обучаем модель - ищем параметры\n",
    "lr.fit(X_train, y_train)"
   ]
  },
  {
   "cell_type": "code",
   "execution_count": 399,
   "metadata": {},
   "outputs": [],
   "source": [
    "#Делаем предсказание для каждой из выборок\n",
    "y_train_pred = lr.predict(X_train)"
   ]
  },
  {
   "cell_type": "code",
   "execution_count": 400,
   "metadata": {},
   "outputs": [],
   "source": [
    "y_test_pred = lr.predict(X_test)"
   ]
  },
  {
   "cell_type": "code",
   "execution_count": 401,
   "metadata": {},
   "outputs": [
    {
     "name": "stdout",
     "output_type": "stream",
     "text": [
      "Train R^2: 0.753\n",
      "Train MAE: 62150.606\n",
      "Train MAPE: 23.758\n",
      "\n",
      "\n",
      "Test R^2: -249651098827578.531\n",
      "Test MAE: 125045194154.710\n",
      "Train MAPE: 72419555.262\n"
     ]
    }
   ],
   "source": [
    "#Выводим результирующие метрики\n",
    "print_metrics(y_train, y_train_pred, y_test, y_test_pred)"
   ]
  },
  {
   "cell_type": "code",
   "execution_count": 402,
   "metadata": {},
   "outputs": [
    {
     "name": "stderr",
     "output_type": "stream",
     "text": [
      "c:\\Users\\SEMEN\\AppData\\Local\\Programs\\Python\\Python39\\lib\\site-packages\\sklearn\\linear_model\\_stochastic_gradient.py:1527: ConvergenceWarning: Maximum number of iteration reached before convergence. Consider increasing max_iter to improve the fit.\n",
      "  warnings.warn(\n"
     ]
    },
    {
     "name": "stdout",
     "output_type": "stream",
     "text": [
      "Train R^2: 0.720\n",
      "Train MAE: 66022.122\n",
      "Train MAPE: 24.843\n",
      "\n",
      "\n",
      "Test R^2: 0.708\n",
      "Test MAE: 67537.149\n",
      "Train MAPE: 24.786\n"
     ]
    }
   ],
   "source": [
    "from sklearn import preprocessing\n",
    "#Создаем объект для min-max нормализации\n",
    "scaler = preprocessing.MinMaxScaler()\n",
    "#Вычисляем параметры для нормализации - min и max для каждого столбца\n",
    "scaler.fit(X_train)\n",
    "#Производим преобразование для каждой из выборок\n",
    "X_train_scaled = scaler.transform(X_train)\n",
    "X_test_scaled = scaler.transform(X_test)\n",
    "\n",
    "#Инициализируем объект класса линейная регрессия\n",
    "sgd_lr = linear_model.SGDRegressor(random_state=42)\n",
    "#Обучаем модель - ищем параметры\n",
    "sgd_lr.fit(X_train_scaled, y_train)\n",
    "#Делаем предсказание для каждой из выборок\n",
    "y_train_pred = sgd_lr.predict(X_train_scaled)\n",
    "y_test_pred = sgd_lr.predict(X_test_scaled)\n",
    "#Выводим результирующие метрики\n",
    "print_metrics(y_train, y_train_pred, y_test, y_test_pred)"
   ]
  },
  {
   "cell_type": "code",
   "execution_count": 403,
   "metadata": {},
   "outputs": [],
   "source": [
    "#создаем логарифмированный целевой признак цены\n",
    "y_train_log = np.log(y_train)\n",
    "\n",
    "#Инициализируем объект класса линейная регрессия\n",
    "lr = linear_model.LinearRegression()"
   ]
  },
  {
   "cell_type": "code",
   "execution_count": 404,
   "metadata": {},
   "outputs": [
    {
     "data": {
      "text/html": [
       "<style>#sk-container-id-17 {color: black;background-color: white;}#sk-container-id-17 pre{padding: 0;}#sk-container-id-17 div.sk-toggleable {background-color: white;}#sk-container-id-17 label.sk-toggleable__label {cursor: pointer;display: block;width: 100%;margin-bottom: 0;padding: 0.3em;box-sizing: border-box;text-align: center;}#sk-container-id-17 label.sk-toggleable__label-arrow:before {content: \"▸\";float: left;margin-right: 0.25em;color: #696969;}#sk-container-id-17 label.sk-toggleable__label-arrow:hover:before {color: black;}#sk-container-id-17 div.sk-estimator:hover label.sk-toggleable__label-arrow:before {color: black;}#sk-container-id-17 div.sk-toggleable__content {max-height: 0;max-width: 0;overflow: hidden;text-align: left;background-color: #f0f8ff;}#sk-container-id-17 div.sk-toggleable__content pre {margin: 0.2em;color: black;border-radius: 0.25em;background-color: #f0f8ff;}#sk-container-id-17 input.sk-toggleable__control:checked~div.sk-toggleable__content {max-height: 200px;max-width: 100%;overflow: auto;}#sk-container-id-17 input.sk-toggleable__control:checked~label.sk-toggleable__label-arrow:before {content: \"▾\";}#sk-container-id-17 div.sk-estimator input.sk-toggleable__control:checked~label.sk-toggleable__label {background-color: #d4ebff;}#sk-container-id-17 div.sk-label input.sk-toggleable__control:checked~label.sk-toggleable__label {background-color: #d4ebff;}#sk-container-id-17 input.sk-hidden--visually {border: 0;clip: rect(1px 1px 1px 1px);clip: rect(1px, 1px, 1px, 1px);height: 1px;margin: -1px;overflow: hidden;padding: 0;position: absolute;width: 1px;}#sk-container-id-17 div.sk-estimator {font-family: monospace;background-color: #f0f8ff;border: 1px dotted black;border-radius: 0.25em;box-sizing: border-box;margin-bottom: 0.5em;}#sk-container-id-17 div.sk-estimator:hover {background-color: #d4ebff;}#sk-container-id-17 div.sk-parallel-item::after {content: \"\";width: 100%;border-bottom: 1px solid gray;flex-grow: 1;}#sk-container-id-17 div.sk-label:hover label.sk-toggleable__label {background-color: #d4ebff;}#sk-container-id-17 div.sk-serial::before {content: \"\";position: absolute;border-left: 1px solid gray;box-sizing: border-box;top: 0;bottom: 0;left: 50%;z-index: 0;}#sk-container-id-17 div.sk-serial {display: flex;flex-direction: column;align-items: center;background-color: white;padding-right: 0.2em;padding-left: 0.2em;position: relative;}#sk-container-id-17 div.sk-item {position: relative;z-index: 1;}#sk-container-id-17 div.sk-parallel {display: flex;align-items: stretch;justify-content: center;background-color: white;position: relative;}#sk-container-id-17 div.sk-item::before, #sk-container-id-17 div.sk-parallel-item::before {content: \"\";position: absolute;border-left: 1px solid gray;box-sizing: border-box;top: 0;bottom: 0;left: 50%;z-index: -1;}#sk-container-id-17 div.sk-parallel-item {display: flex;flex-direction: column;z-index: 1;position: relative;background-color: white;}#sk-container-id-17 div.sk-parallel-item:first-child::after {align-self: flex-end;width: 50%;}#sk-container-id-17 div.sk-parallel-item:last-child::after {align-self: flex-start;width: 50%;}#sk-container-id-17 div.sk-parallel-item:only-child::after {width: 0;}#sk-container-id-17 div.sk-dashed-wrapped {border: 1px dashed gray;margin: 0 0.4em 0.5em 0.4em;box-sizing: border-box;padding-bottom: 0.4em;background-color: white;}#sk-container-id-17 div.sk-label label {font-family: monospace;font-weight: bold;display: inline-block;line-height: 1.2em;}#sk-container-id-17 div.sk-label-container {text-align: center;}#sk-container-id-17 div.sk-container {/* jupyter's `normalize.less` sets `[hidden] { display: none; }` but bootstrap.min.css set `[hidden] { display: none !important; }` so we also need the `!important` here to be able to override the default hidden behavior on the sphinx rendered scikit-learn.org. See: https://github.com/scikit-learn/scikit-learn/issues/21755 */display: inline-block !important;position: relative;}#sk-container-id-17 div.sk-text-repr-fallback {display: none;}</style><div id=\"sk-container-id-17\" class=\"sk-top-container\"><div class=\"sk-text-repr-fallback\"><pre>LinearRegression()</pre><b>In a Jupyter environment, please rerun this cell to show the HTML representation or trust the notebook. <br />On GitHub, the HTML representation is unable to render, please try loading this page with nbviewer.org.</b></div><div class=\"sk-container\" hidden><div class=\"sk-item\"><div class=\"sk-estimator sk-toggleable\"><input class=\"sk-toggleable__control sk-hidden--visually\" id=\"sk-estimator-id-27\" type=\"checkbox\" checked><label for=\"sk-estimator-id-27\" class=\"sk-toggleable__label sk-toggleable__label-arrow\">LinearRegression</label><div class=\"sk-toggleable__content\"><pre>LinearRegression()</pre></div></div></div></div></div>"
      ],
      "text/plain": [
       "LinearRegression()"
      ]
     },
     "execution_count": 404,
     "metadata": {},
     "output_type": "execute_result"
    }
   ],
   "source": [
    "#Обучаем модель предсказывать логарифм целевого признака\n",
    "lr.fit(X_train, y_train_log)"
   ]
  },
  {
   "cell_type": "code",
   "execution_count": 405,
   "metadata": {},
   "outputs": [
    {
     "name": "stderr",
     "output_type": "stream",
     "text": [
      "C:\\Users\\SEMEN\\AppData\\Local\\Temp\\ipykernel_5212\\1268739094.py:4: RuntimeWarning: overflow encountered in exp\n",
      "  y_test_pred = np.exp(lr.predict(X_test))\n"
     ]
    }
   ],
   "source": [
    "#Делаем предсказание для каждой из выборок\n",
    "#Если обучили на логарифме, то от результата необходимо взять обратную функцию - экспоненту\n",
    "y_train_pred = np.exp(lr.predict(X_train))\n",
    "y_test_pred = np.exp(lr.predict(X_test))"
   ]
  },
  {
   "cell_type": "code",
   "execution_count": 406,
   "metadata": {},
   "outputs": [
    {
     "name": "stdout",
     "output_type": "stream",
     "text": [
      "Train R^2: 0.763\n",
      "Train MAE: 56607.883\n",
      "Train MAPE: 19.498\n",
      "\n",
      "\n"
     ]
    },
    {
     "ename": "ValueError",
     "evalue": "Input contains infinity or a value too large for dtype('float64').",
     "output_type": "error",
     "traceback": [
      "\u001b[1;31m---------------------------------------------------------------------------\u001b[0m",
      "\u001b[1;31mValueError\u001b[0m                                Traceback (most recent call last)",
      "\u001b[1;32mc:\\IDE\\Итоговый проект. Бриф“Агентство недвижимости”\\Агентство недвижимости.ipynb Ячейка 76\u001b[0m in \u001b[0;36m<module>\u001b[1;34m\u001b[0m\n\u001b[0;32m      <a href='vscode-notebook-cell:/c%3A/IDE/%D0%98%D1%82%D0%BE%D0%B3%D0%BE%D0%B2%D1%8B%D0%B9%20%D0%BF%D1%80%D0%BE%D0%B5%D0%BA%D1%82.%20%D0%91%D1%80%D0%B8%D1%84%E2%80%9C%D0%90%D0%B3%D0%B5%D0%BD%D1%82%D1%81%D1%82%D0%B2%D0%BE%20%D0%BD%D0%B5%D0%B4%D0%B2%D0%B8%D0%B6%D0%B8%D0%BC%D0%BE%D1%81%D1%82%D0%B8%E2%80%9D/%D0%90%D0%B3%D0%B5%D0%BD%D1%82%D1%81%D1%82%D0%B2%D0%BE%20%D0%BD%D0%B5%D0%B4%D0%B2%D0%B8%D0%B6%D0%B8%D0%BC%D0%BE%D1%81%D1%82%D0%B8.ipynb#Y136sZmlsZQ%3D%3D?line=0'>1</a>\u001b[0m \u001b[39m#Выводим результирующие метрики\u001b[39;00m\n\u001b[1;32m----> <a href='vscode-notebook-cell:/c%3A/IDE/%D0%98%D1%82%D0%BE%D0%B3%D0%BE%D0%B2%D1%8B%D0%B9%20%D0%BF%D1%80%D0%BE%D0%B5%D0%BA%D1%82.%20%D0%91%D1%80%D0%B8%D1%84%E2%80%9C%D0%90%D0%B3%D0%B5%D0%BD%D1%82%D1%81%D1%82%D0%B2%D0%BE%20%D0%BD%D0%B5%D0%B4%D0%B2%D0%B8%D0%B6%D0%B8%D0%BC%D0%BE%D1%81%D1%82%D0%B8%E2%80%9D/%D0%90%D0%B3%D0%B5%D0%BD%D1%82%D1%81%D1%82%D0%B2%D0%BE%20%D0%BD%D0%B5%D0%B4%D0%B2%D0%B8%D0%B6%D0%B8%D0%BC%D0%BE%D1%81%D1%82%D0%B8.ipynb#Y136sZmlsZQ%3D%3D?line=1'>2</a>\u001b[0m print_metrics(y_train, y_train_pred, y_test, y_test_pred)\n",
      "\u001b[1;32mc:\\IDE\\Итоговый проект. Бриф“Агентство недвижимости”\\Агентство недвижимости.ipynb Ячейка 76\u001b[0m in \u001b[0;36mprint_metrics\u001b[1;34m(y_train, y_train_predict, y_test, y_test_predict)\u001b[0m\n\u001b[0;32m      <a href='vscode-notebook-cell:/c%3A/IDE/%D0%98%D1%82%D0%BE%D0%B3%D0%BE%D0%B2%D1%8B%D0%B9%20%D0%BF%D1%80%D0%BE%D0%B5%D0%BA%D1%82.%20%D0%91%D1%80%D0%B8%D1%84%E2%80%9C%D0%90%D0%B3%D0%B5%D0%BD%D1%82%D1%81%D1%82%D0%B2%D0%BE%20%D0%BD%D0%B5%D0%B4%D0%B2%D0%B8%D0%B6%D0%B8%D0%BC%D0%BE%D1%81%D1%82%D0%B8%E2%80%9D/%D0%90%D0%B3%D0%B5%D0%BD%D1%82%D1%81%D1%82%D0%B2%D0%BE%20%D0%BD%D0%B5%D0%B4%D0%B2%D0%B8%D0%B6%D0%B8%D0%BC%D0%BE%D1%81%D1%82%D0%B8.ipynb#Y136sZmlsZQ%3D%3D?line=5'>6</a>\u001b[0m \u001b[39mprint\u001b[39m(\u001b[39m'\u001b[39m\u001b[39mTrain MAPE: \u001b[39m\u001b[39m{:.3f}\u001b[39;00m\u001b[39m'\u001b[39m\u001b[39m.\u001b[39mformat(metrics\u001b[39m.\u001b[39mmean_absolute_percentage_error(y_train, y_train_predict)\u001b[39m*\u001b[39m\u001b[39m100\u001b[39m))\u001b[39m#средняя абсолютная ошибка в процентах\u001b[39;00m\n\u001b[0;32m      <a href='vscode-notebook-cell:/c%3A/IDE/%D0%98%D1%82%D0%BE%D0%B3%D0%BE%D0%B2%D1%8B%D0%B9%20%D0%BF%D1%80%D0%BE%D0%B5%D0%BA%D1%82.%20%D0%91%D1%80%D0%B8%D1%84%E2%80%9C%D0%90%D0%B3%D0%B5%D0%BD%D1%82%D1%81%D1%82%D0%B2%D0%BE%20%D0%BD%D0%B5%D0%B4%D0%B2%D0%B8%D0%B6%D0%B8%D0%BC%D0%BE%D1%81%D1%82%D0%B8%E2%80%9D/%D0%90%D0%B3%D0%B5%D0%BD%D1%82%D1%81%D1%82%D0%B2%D0%BE%20%D0%BD%D0%B5%D0%B4%D0%B2%D0%B8%D0%B6%D0%B8%D0%BC%D0%BE%D1%81%D1%82%D0%B8.ipynb#Y136sZmlsZQ%3D%3D?line=6'>7</a>\u001b[0m \u001b[39mprint\u001b[39m(\u001b[39m'\u001b[39m\u001b[39m\\n\u001b[39;00m\u001b[39m'\u001b[39m)\n\u001b[1;32m----> <a href='vscode-notebook-cell:/c%3A/IDE/%D0%98%D1%82%D0%BE%D0%B3%D0%BE%D0%B2%D1%8B%D0%B9%20%D0%BF%D1%80%D0%BE%D0%B5%D0%BA%D1%82.%20%D0%91%D1%80%D0%B8%D1%84%E2%80%9C%D0%90%D0%B3%D0%B5%D0%BD%D1%82%D1%81%D1%82%D0%B2%D0%BE%20%D0%BD%D0%B5%D0%B4%D0%B2%D0%B8%D0%B6%D0%B8%D0%BC%D0%BE%D1%81%D1%82%D0%B8%E2%80%9D/%D0%90%D0%B3%D0%B5%D0%BD%D1%82%D1%81%D1%82%D0%B2%D0%BE%20%D0%BD%D0%B5%D0%B4%D0%B2%D0%B8%D0%B6%D0%B8%D0%BC%D0%BE%D1%81%D1%82%D0%B8.ipynb#Y136sZmlsZQ%3D%3D?line=7'>8</a>\u001b[0m \u001b[39mprint\u001b[39m(\u001b[39m'\u001b[39m\u001b[39mTest R^2: \u001b[39m\u001b[39m{:.3f}\u001b[39;00m\u001b[39m'\u001b[39m\u001b[39m.\u001b[39mformat(metrics\u001b[39m.\u001b[39;49mr2_score(y_test, y_test_predict)))\u001b[39m#коэффициент детерминации\u001b[39;00m\n\u001b[0;32m      <a href='vscode-notebook-cell:/c%3A/IDE/%D0%98%D1%82%D0%BE%D0%B3%D0%BE%D0%B2%D1%8B%D0%B9%20%D0%BF%D1%80%D0%BE%D0%B5%D0%BA%D1%82.%20%D0%91%D1%80%D0%B8%D1%84%E2%80%9C%D0%90%D0%B3%D0%B5%D0%BD%D1%82%D1%81%D1%82%D0%B2%D0%BE%20%D0%BD%D0%B5%D0%B4%D0%B2%D0%B8%D0%B6%D0%B8%D0%BC%D0%BE%D1%81%D1%82%D0%B8%E2%80%9D/%D0%90%D0%B3%D0%B5%D0%BD%D1%82%D1%81%D1%82%D0%B2%D0%BE%20%D0%BD%D0%B5%D0%B4%D0%B2%D0%B8%D0%B6%D0%B8%D0%BC%D0%BE%D1%81%D1%82%D0%B8.ipynb#Y136sZmlsZQ%3D%3D?line=8'>9</a>\u001b[0m \u001b[39mprint\u001b[39m(\u001b[39m'\u001b[39m\u001b[39mTest MAE: \u001b[39m\u001b[39m{:.3f}\u001b[39;00m\u001b[39m'\u001b[39m\u001b[39m.\u001b[39mformat(metrics\u001b[39m.\u001b[39mmean_absolute_error(y_test, y_test_predict)))\u001b[39m#средняя абсолютная ошибка (целевая метрика)\u001b[39;00m\n\u001b[0;32m     <a href='vscode-notebook-cell:/c%3A/IDE/%D0%98%D1%82%D0%BE%D0%B3%D0%BE%D0%B2%D1%8B%D0%B9%20%D0%BF%D1%80%D0%BE%D0%B5%D0%BA%D1%82.%20%D0%91%D1%80%D0%B8%D1%84%E2%80%9C%D0%90%D0%B3%D0%B5%D0%BD%D1%82%D1%81%D1%82%D0%B2%D0%BE%20%D0%BD%D0%B5%D0%B4%D0%B2%D0%B8%D0%B6%D0%B8%D0%BC%D0%BE%D1%81%D1%82%D0%B8%E2%80%9D/%D0%90%D0%B3%D0%B5%D0%BD%D1%82%D1%81%D1%82%D0%B2%D0%BE%20%D0%BD%D0%B5%D0%B4%D0%B2%D0%B8%D0%B6%D0%B8%D0%BC%D0%BE%D1%81%D1%82%D0%B8.ipynb#Y136sZmlsZQ%3D%3D?line=9'>10</a>\u001b[0m \u001b[39mprint\u001b[39m(\u001b[39m'\u001b[39m\u001b[39mTrain MAPE: \u001b[39m\u001b[39m{:.3f}\u001b[39;00m\u001b[39m'\u001b[39m\u001b[39m.\u001b[39mformat(metrics\u001b[39m.\u001b[39mmean_absolute_percentage_error(y_test, y_test_predict)\u001b[39m*\u001b[39m\u001b[39m100\u001b[39m))\n",
      "File \u001b[1;32mc:\\Users\\SEMEN\\AppData\\Local\\Programs\\Python\\Python39\\lib\\site-packages\\sklearn\\metrics\\_regression.py:911\u001b[0m, in \u001b[0;36mr2_score\u001b[1;34m(y_true, y_pred, sample_weight, multioutput, force_finite)\u001b[0m\n\u001b[0;32m    784\u001b[0m \u001b[39mdef\u001b[39;00m \u001b[39mr2_score\u001b[39m(\n\u001b[0;32m    785\u001b[0m     y_true,\n\u001b[0;32m    786\u001b[0m     y_pred,\n\u001b[1;32m   (...)\u001b[0m\n\u001b[0;32m    790\u001b[0m     force_finite\u001b[39m=\u001b[39m\u001b[39mTrue\u001b[39;00m,\n\u001b[0;32m    791\u001b[0m ):\n\u001b[0;32m    792\u001b[0m     \u001b[39m\"\"\":math:`R^2` (coefficient of determination) regression score function.\u001b[39;00m\n\u001b[0;32m    793\u001b[0m \n\u001b[0;32m    794\u001b[0m \u001b[39m    Best possible score is 1.0 and it can be negative (because the\u001b[39;00m\n\u001b[1;32m   (...)\u001b[0m\n\u001b[0;32m    909\u001b[0m \u001b[39m    -inf\u001b[39;00m\n\u001b[0;32m    910\u001b[0m \u001b[39m    \"\"\"\u001b[39;00m\n\u001b[1;32m--> 911\u001b[0m     y_type, y_true, y_pred, multioutput \u001b[39m=\u001b[39m _check_reg_targets(\n\u001b[0;32m    912\u001b[0m         y_true, y_pred, multioutput\n\u001b[0;32m    913\u001b[0m     )\n\u001b[0;32m    914\u001b[0m     check_consistent_length(y_true, y_pred, sample_weight)\n\u001b[0;32m    916\u001b[0m     \u001b[39mif\u001b[39;00m _num_samples(y_pred) \u001b[39m<\u001b[39m \u001b[39m2\u001b[39m:\n",
      "File \u001b[1;32mc:\\Users\\SEMEN\\AppData\\Local\\Programs\\Python\\Python39\\lib\\site-packages\\sklearn\\metrics\\_regression.py:102\u001b[0m, in \u001b[0;36m_check_reg_targets\u001b[1;34m(y_true, y_pred, multioutput, dtype)\u001b[0m\n\u001b[0;32m    100\u001b[0m check_consistent_length(y_true, y_pred)\n\u001b[0;32m    101\u001b[0m y_true \u001b[39m=\u001b[39m check_array(y_true, ensure_2d\u001b[39m=\u001b[39m\u001b[39mFalse\u001b[39;00m, dtype\u001b[39m=\u001b[39mdtype)\n\u001b[1;32m--> 102\u001b[0m y_pred \u001b[39m=\u001b[39m check_array(y_pred, ensure_2d\u001b[39m=\u001b[39;49m\u001b[39mFalse\u001b[39;49;00m, dtype\u001b[39m=\u001b[39;49mdtype)\n\u001b[0;32m    104\u001b[0m \u001b[39mif\u001b[39;00m y_true\u001b[39m.\u001b[39mndim \u001b[39m==\u001b[39m \u001b[39m1\u001b[39m:\n\u001b[0;32m    105\u001b[0m     y_true \u001b[39m=\u001b[39m y_true\u001b[39m.\u001b[39mreshape((\u001b[39m-\u001b[39m\u001b[39m1\u001b[39m, \u001b[39m1\u001b[39m))\n",
      "File \u001b[1;32mc:\\Users\\SEMEN\\AppData\\Local\\Programs\\Python\\Python39\\lib\\site-packages\\sklearn\\utils\\validation.py:899\u001b[0m, in \u001b[0;36mcheck_array\u001b[1;34m(array, accept_sparse, accept_large_sparse, dtype, order, copy, force_all_finite, ensure_2d, allow_nd, ensure_min_samples, ensure_min_features, estimator, input_name)\u001b[0m\n\u001b[0;32m    893\u001b[0m         \u001b[39mraise\u001b[39;00m \u001b[39mValueError\u001b[39;00m(\n\u001b[0;32m    894\u001b[0m             \u001b[39m\"\u001b[39m\u001b[39mFound array with dim \u001b[39m\u001b[39m%d\u001b[39;00m\u001b[39m. \u001b[39m\u001b[39m%s\u001b[39;00m\u001b[39m expected <= 2.\u001b[39m\u001b[39m\"\u001b[39m\n\u001b[0;32m    895\u001b[0m             \u001b[39m%\u001b[39m (array\u001b[39m.\u001b[39mndim, estimator_name)\n\u001b[0;32m    896\u001b[0m         )\n\u001b[0;32m    898\u001b[0m     \u001b[39mif\u001b[39;00m force_all_finite:\n\u001b[1;32m--> 899\u001b[0m         _assert_all_finite(\n\u001b[0;32m    900\u001b[0m             array,\n\u001b[0;32m    901\u001b[0m             input_name\u001b[39m=\u001b[39;49minput_name,\n\u001b[0;32m    902\u001b[0m             estimator_name\u001b[39m=\u001b[39;49mestimator_name,\n\u001b[0;32m    903\u001b[0m             allow_nan\u001b[39m=\u001b[39;49mforce_all_finite \u001b[39m==\u001b[39;49m \u001b[39m\"\u001b[39;49m\u001b[39mallow-nan\u001b[39;49m\u001b[39m\"\u001b[39;49m,\n\u001b[0;32m    904\u001b[0m         )\n\u001b[0;32m    906\u001b[0m \u001b[39mif\u001b[39;00m ensure_min_samples \u001b[39m>\u001b[39m \u001b[39m0\u001b[39m:\n\u001b[0;32m    907\u001b[0m     n_samples \u001b[39m=\u001b[39m _num_samples(array)\n",
      "File \u001b[1;32mc:\\Users\\SEMEN\\AppData\\Local\\Programs\\Python\\Python39\\lib\\site-packages\\sklearn\\utils\\validation.py:146\u001b[0m, in \u001b[0;36m_assert_all_finite\u001b[1;34m(X, allow_nan, msg_dtype, estimator_name, input_name)\u001b[0m\n\u001b[0;32m    124\u001b[0m         \u001b[39mif\u001b[39;00m (\n\u001b[0;32m    125\u001b[0m             \u001b[39mnot\u001b[39;00m allow_nan\n\u001b[0;32m    126\u001b[0m             \u001b[39mand\u001b[39;00m estimator_name\n\u001b[1;32m   (...)\u001b[0m\n\u001b[0;32m    130\u001b[0m             \u001b[39m# Improve the error message on how to handle missing values in\u001b[39;00m\n\u001b[0;32m    131\u001b[0m             \u001b[39m# scikit-learn.\u001b[39;00m\n\u001b[0;32m    132\u001b[0m             msg_err \u001b[39m+\u001b[39m\u001b[39m=\u001b[39m (\n\u001b[0;32m    133\u001b[0m                 \u001b[39mf\u001b[39m\u001b[39m\"\u001b[39m\u001b[39m\\n\u001b[39;00m\u001b[39m{\u001b[39;00mestimator_name\u001b[39m}\u001b[39;00m\u001b[39m does not accept missing values\u001b[39m\u001b[39m\"\u001b[39m\n\u001b[0;32m    134\u001b[0m                 \u001b[39m\"\u001b[39m\u001b[39m encoded as NaN natively. For supervised learning, you might want\u001b[39m\u001b[39m\"\u001b[39m\n\u001b[1;32m   (...)\u001b[0m\n\u001b[0;32m    144\u001b[0m                 \u001b[39m\"\u001b[39m\u001b[39m#estimators-that-handle-nan-values\u001b[39m\u001b[39m\"\u001b[39m\n\u001b[0;32m    145\u001b[0m             )\n\u001b[1;32m--> 146\u001b[0m         \u001b[39mraise\u001b[39;00m \u001b[39mValueError\u001b[39;00m(msg_err)\n\u001b[0;32m    148\u001b[0m \u001b[39m# for object dtype data, we only check for NaNs (GH-13254)\u001b[39;00m\n\u001b[0;32m    149\u001b[0m \u001b[39melif\u001b[39;00m X\u001b[39m.\u001b[39mdtype \u001b[39m==\u001b[39m np\u001b[39m.\u001b[39mdtype(\u001b[39m\"\u001b[39m\u001b[39mobject\u001b[39m\u001b[39m\"\u001b[39m) \u001b[39mand\u001b[39;00m \u001b[39mnot\u001b[39;00m allow_nan:\n",
      "\u001b[1;31mValueError\u001b[0m: Input contains infinity or a value too large for dtype('float64')."
     ]
    }
   ],
   "source": [
    "#Выводим результирующие метрики\n",
    "print_metrics(y_train, y_train_pred, y_test, y_test_pred)"
   ]
  },
  {
   "cell_type": "code",
   "execution_count": 407,
   "metadata": {},
   "outputs": [],
   "source": [
    "#Создаем объект для min-max нормализации\n",
    "scaler = preprocessing.MinMaxScaler()\n",
    "#Вычисляем параметры для нормализации - min и max для каждого столбца\n",
    "scaler.fit(X_train)\n",
    "#Производим преобразование для каждой из выборок\n",
    "X_train_scaled = scaler.transform(X_train)\n",
    "X_test_scaled = scaler.transform(X_test)"
   ]
  },
  {
   "cell_type": "code",
   "execution_count": 408,
   "metadata": {},
   "outputs": [
    {
     "name": "stdout",
     "output_type": "stream",
     "text": [
      "Train R^2: 0.758\n",
      "Train MAE: 57371.930\n",
      "Train MAPE: 19.749\n",
      "\n",
      "\n",
      "Test R^2: 0.738\n",
      "Test MAE: 60009.156\n",
      "Train MAPE: 19.998\n"
     ]
    }
   ],
   "source": [
    "#Инициализируем объект класса линейная регрессия с L2-регуляризацией \n",
    "ridge_lr_poly = linear_model.Ridge()\n",
    "#Обучаем модель предсказывать логарифм целевого признака\n",
    "ridge_lr_poly.fit(X_train_scaled, y_train_log)\n",
    "#Делаем предсказание для каждой из выборок\n",
    "#Если обучили на логарифме, то от результата необходимо взять обратную функцию - экспоненту\n",
    "y_train_pred = np.exp(ridge_lr_poly.predict(X_train_scaled))\n",
    "y_test_pred = np.exp(ridge_lr_poly.predict(X_test_scaled))\n",
    "#Выводим результирующие метрики\n",
    "print_metrics(y_train, y_train_pred, y_test, y_test_pred)"
   ]
  },
  {
   "cell_type": "code",
   "execution_count": 409,
   "metadata": {},
   "outputs": [
    {
     "data": {
      "image/png": "[encoded data removed]",
      "text/plain": [
       "<Figure size 864x288 with 1 Axes>"
      ]
     },
     "metadata": {},
     "output_type": "display_data"
    }
   ],
   "source": [
    "#Создаем список из 20 возможных значений от 0.001 до 10\n",
    "alpha_list = np.linspace(0.01, 10, 20)\n",
    "#Создаем пустые списки, в которые будем добавлять результаты \n",
    "train_scores = []\n",
    "test_scores = []\n",
    "for alpha in alpha_list:\n",
    "    #Создаем объект класса линейная регрессия с L2-регуляризацией\n",
    "    ridge_lr_poly = linear_model.Ridge(alpha=alpha, max_iter=10000)\n",
    "    #Обучаем модель предсказывать логарифм целевого признака\n",
    "    ridge_lr_poly.fit(X_train_scaled, y_train_log)\n",
    "    #Делаем предсказание для каждой из выборок\n",
    "    #Если обучили на логарифме, то от результата необходимо взять обратную функцию - экспоненту\n",
    "    y_train_predict_poly = np.exp(ridge_lr_poly.predict(X_train_scaled))\n",
    "    y_test_predict_poly = np.exp(ridge_lr_poly.predict(X_test_scaled))\n",
    "    #Рассчитываем метрику для двух выборок и добавляем их в списки\n",
    "    train_scores.append(metrics.mean_absolute_error(y_train, y_train_predict_poly))\n",
    "    test_scores.append(metrics.mean_absolute_error(y_test, y_test_predict_poly))\n",
    "\n",
    "#Визуализируем изменение R^2 в зависимости от alpha\n",
    "fig, ax = plt.subplots(figsize=(12, 4)) #фигура + координатная плоскость\n",
    "ax.plot(alpha_list, train_scores, label='Train') #линейный график для тренировочной выборки\n",
    "ax.plot(alpha_list, test_scores, label='Test') #линейный график для тестовой выборки\n",
    "ax.set_xlabel('Alpha') #название оси абсцисс\n",
    "ax.set_ylabel('MAE') #название оси ординат\n",
    "ax.set_xticks(alpha_list) #метки по оси абцисс\n",
    "ax.xaxis.set_tick_params(rotation=45) #поворот меток на оси абсцисс\n",
    "ax.legend(); #отображение легенды"
   ]
  },
  {
   "cell_type": "code",
   "execution_count": 410,
   "metadata": {},
   "outputs": [
    {
     "name": "stdout",
     "output_type": "stream",
     "text": [
      "Train R^2: 0.763\n",
      "Train MAE: 56604.838\n",
      "Train MAPE: 19.498\n",
      "\n",
      "\n",
      "Test R^2: 0.737\n",
      "Test MAE: 60026.129\n",
      "Train MAPE: 19.974\n"
     ]
    }
   ],
   "source": [
    "#Создаем объект класса линейная регрессия с L2-регуляризацией\n",
    "#Выставляем параметр alpha в подобранное выше значение\n",
    "ridge_lr = linear_model.Ridge(alpha=0.01)\n",
    "#Обучаем модель предсказывать логарифм целевого признака\n",
    "ridge_lr.fit(X_train_scaled, y_train_log)\n",
    "#Делаем предсказание для каждой из выборок\n",
    "#Если обучили на логарифме, то от результата необходимо взять обратную функцию - экспоненту\n",
    "y_train_pred = np.exp(ridge_lr.predict(X_train_scaled))\n",
    "y_test_pred = np.exp(ridge_lr.predict(X_test_scaled))\n",
    "\n",
    "print_metrics(y_train, y_train_pred, y_test, y_test_pred)"
   ]
  },
  {
   "cell_type": "code",
   "execution_count": 411,
   "metadata": {},
   "outputs": [
    {
     "data": {
      "image/png": "[encoded data removed]",
      "text/plain": [
       "<Figure size 864x432 with 1 Axes>"
      ]
     },
     "metadata": {},
     "output_type": "display_data"
    }
   ],
   "source": [
    "#Визуализируем ошибки\n",
    "fig, ax = plt.subplots(figsize=(12, 6)) #фигура+координатная плоскость\n",
    "#Ошибки модели на тренировочной выборке \n",
    "y_train_errors = y_train - y_train_pred\n",
    "#Ошибки модели на тестовой выборке\n",
    "y_test_errors = y_test - y_test_pred\n",
    "#Для удобства визуализации составим DataFrame из ошибок\n",
    "predict_df = pd.DataFrame(\n",
    "    {'Train errors': y_train_errors, \n",
    "     'Test errors': y_test_errors\n",
    "    }\n",
    ")\n",
    "#Строим boxplot для ошибок\n",
    "sns.boxplot(data=predict_df, ax=ax) \n",
    "ax.set_xlabel('Model errors') #название оси абсцисс\n",
    "ax.set_ylabel('Model'); #название оси ординат"
   ]
  },
  {
   "cell_type": "code",
   "execution_count": 413,
   "metadata": {},
   "outputs": [
    {
     "name": "stdout",
     "output_type": "stream",
     "text": [
      "Качество предсказания по MSE для решающего дерева 15313370903.91\n",
      "Качество предсказания по MSE для случайного леса  12986194036.4\n"
     ]
    }
   ],
   "source": [
    "from sklearn.ensemble import RandomForestRegressor\n",
    "from sklearn.metrics import mean_squared_error\n",
    "from sklearn.tree import DecisionTreeRegressor\n",
    "\n",
    "\n",
    "regr1 = DecisionTreeRegressor(\n",
    "    max_depth=20, #максимальная глубина дерева\n",
    "    random_state=42 #датчик генератора случайных чисел\n",
    ")\n",
    "# Обучаем модель\n",
    "regr1.fit(X_train, y_train)\n",
    "\n",
    "\n",
    " \n",
    "# Создаем модель случайного леса из 10 деревьев с максимальной глубиной 10 для каждого дерева\n",
    "regr2 = RandomForestRegressor(\n",
    "    max_depth=20, #максимальная глубина дерева\n",
    "    n_estimators=10, #количество деревьев в ансамбле\n",
    "    random_state=42 #датчик генератора случайных чисел\n",
    ")\n",
    "# Обучаем модель\n",
    "regr2.fit(X_train, y_train)\n",
    "\n",
    "\n",
    "# Формируем предсказания каждой из моделей\n",
    "y_pred1 = regr1.predict(X_test)\n",
    "y_pred2 = regr2.predict(X_test)\n",
    " \n",
    "# Оцениваем качество по метрике MSE\n",
    "print(f'Качество предсказания по MSE для решающего дерева {round(mean_squared_error(y_test, y_pred1), 2)}')\n",
    "print(f'Качество предсказания по MSE для случайного леса  {round(mean_squared_error(y_test, y_pred2), 2)}')"
   ]
  },
  {
   "cell_type": "code",
   "execution_count": 418,
   "metadata": {},
   "outputs": [
    {
     "data": {
      "text/html": [
       "<style>#sk-container-id-19 {color: black;background-color: white;}#sk-container-id-19 pre{padding: 0;}#sk-container-id-19 div.sk-toggleable {background-color: white;}#sk-container-id-19 label.sk-toggleable__label {cursor: pointer;display: block;width: 100%;margin-bottom: 0;padding: 0.3em;box-sizing: border-box;text-align: center;}#sk-container-id-19 label.sk-toggleable__label-arrow:before {content: \"▸\";float: left;margin-right: 0.25em;color: #696969;}#sk-container-id-19 label.sk-toggleable__label-arrow:hover:before {color: black;}#sk-container-id-19 div.sk-estimator:hover label.sk-toggleable__label-arrow:before {color: black;}#sk-container-id-19 div.sk-toggleable__content {max-height: 0;max-width: 0;overflow: hidden;text-align: left;background-color: #f0f8ff;}#sk-container-id-19 div.sk-toggleable__content pre {margin: 0.2em;color: black;border-radius: 0.25em;background-color: #f0f8ff;}#sk-container-id-19 input.sk-toggleable__control:checked~div.sk-toggleable__content {max-height: 200px;max-width: 100%;overflow: auto;}#sk-container-id-19 input.sk-toggleable__control:checked~label.sk-toggleable__label-arrow:before {content: \"▾\";}#sk-container-id-19 div.sk-estimator input.sk-toggleable__control:checked~label.sk-toggleable__label {background-color: #d4ebff;}#sk-container-id-19 div.sk-label input.sk-toggleable__control:checked~label.sk-toggleable__label {background-color: #d4ebff;}#sk-container-id-19 input.sk-hidden--visually {border: 0;clip: rect(1px 1px 1px 1px);clip: rect(1px, 1px, 1px, 1px);height: 1px;margin: -1px;overflow: hidden;padding: 0;position: absolute;width: 1px;}#sk-container-id-19 div.sk-estimator {font-family: monospace;background-color: #f0f8ff;border: 1px dotted black;border-radius: 0.25em;box-sizing: border-box;margin-bottom: 0.5em;}#sk-container-id-19 div.sk-estimator:hover {background-color: #d4ebff;}#sk-container-id-19 div.sk-parallel-item::after {content: \"\";width: 100%;border-bottom: 1px solid gray;flex-grow: 1;}#sk-container-id-19 div.sk-label:hover label.sk-toggleable__label {background-color: #d4ebff;}#sk-container-id-19 div.sk-serial::before {content: \"\";position: absolute;border-left: 1px solid gray;box-sizing: border-box;top: 0;bottom: 0;left: 50%;z-index: 0;}#sk-container-id-19 div.sk-serial {display: flex;flex-direction: column;align-items: center;background-color: white;padding-right: 0.2em;padding-left: 0.2em;position: relative;}#sk-container-id-19 div.sk-item {position: relative;z-index: 1;}#sk-container-id-19 div.sk-parallel {display: flex;align-items: stretch;justify-content: center;background-color: white;position: relative;}#sk-container-id-19 div.sk-item::before, #sk-container-id-19 div.sk-parallel-item::before {content: \"\";position: absolute;border-left: 1px solid gray;box-sizing: border-box;top: 0;bottom: 0;left: 50%;z-index: -1;}#sk-container-id-19 div.sk-parallel-item {display: flex;flex-direction: column;z-index: 1;position: relative;background-color: white;}#sk-container-id-19 div.sk-parallel-item:first-child::after {align-self: flex-end;width: 50%;}#sk-container-id-19 div.sk-parallel-item:last-child::after {align-self: flex-start;width: 50%;}#sk-container-id-19 div.sk-parallel-item:only-child::after {width: 0;}#sk-container-id-19 div.sk-dashed-wrapped {border: 1px dashed gray;margin: 0 0.4em 0.5em 0.4em;box-sizing: border-box;padding-bottom: 0.4em;background-color: white;}#sk-container-id-19 div.sk-label label {font-family: monospace;font-weight: bold;display: inline-block;line-height: 1.2em;}#sk-container-id-19 div.sk-label-container {text-align: center;}#sk-container-id-19 div.sk-container {/* jupyter's `normalize.less` sets `[hidden] { display: none; }` but bootstrap.min.css set `[hidden] { display: none !important; }` so we also need the `!important` here to be able to override the default hidden behavior on the sphinx rendered scikit-learn.org. See: https://github.com/scikit-learn/scikit-learn/issues/21755 */display: inline-block !important;position: relative;}#sk-container-id-19 div.sk-text-repr-fallback {display: none;}</style><div id=\"sk-container-id-19\" class=\"sk-top-container\"><div class=\"sk-text-repr-fallback\"><pre>StackingRegressor(estimators=[(&#x27;lr&#x27;, RidgeCV()),\n",
       "                              (&#x27;dt&#x27;, DecisionTreeRegressor(random_state=42))],\n",
       "                  final_estimator=RandomForestRegressor(n_estimators=50,\n",
       "                                                        random_state=42))</pre><b>In a Jupyter environment, please rerun this cell to show the HTML representation or trust the notebook. <br />On GitHub, the HTML representation is unable to render, please try loading this page with nbviewer.org.</b></div><div class=\"sk-container\" hidden><div class=\"sk-item sk-dashed-wrapped\"><div class=\"sk-label-container\"><div class=\"sk-label sk-toggleable\"><input class=\"sk-toggleable__control sk-hidden--visually\" id=\"sk-estimator-id-32\" type=\"checkbox\" ><label for=\"sk-estimator-id-32\" class=\"sk-toggleable__label sk-toggleable__label-arrow\">StackingRegressor</label><div class=\"sk-toggleable__content\"><pre>StackingRegressor(estimators=[(&#x27;lr&#x27;, RidgeCV()),\n",
       "                              (&#x27;dt&#x27;, DecisionTreeRegressor(random_state=42))],\n",
       "                  final_estimator=RandomForestRegressor(n_estimators=50,\n",
       "                                                        random_state=42))</pre></div></div></div><div class=\"sk-serial\"><div class=\"sk-item\"><div class=\"sk-parallel\"><div class=\"sk-parallel-item\"><div class=\"sk-item\"><div class=\"sk-label-container\"><div class=\"sk-label sk-toggleable\"><label>lr</label></div></div><div class=\"sk-serial\"><div class=\"sk-item\"><div class=\"sk-estimator sk-toggleable\"><input class=\"sk-toggleable__control sk-hidden--visually\" id=\"sk-estimator-id-33\" type=\"checkbox\" ><label for=\"sk-estimator-id-33\" class=\"sk-toggleable__label sk-toggleable__label-arrow\">RidgeCV</label><div class=\"sk-toggleable__content\"><pre>RidgeCV()</pre></div></div></div></div></div></div><div class=\"sk-parallel-item\"><div class=\"sk-item\"><div class=\"sk-label-container\"><div class=\"sk-label sk-toggleable\"><label>dt</label></div></div><div class=\"sk-serial\"><div class=\"sk-item\"><div class=\"sk-estimator sk-toggleable\"><input class=\"sk-toggleable__control sk-hidden--visually\" id=\"sk-estimator-id-34\" type=\"checkbox\" ><label for=\"sk-estimator-id-34\" class=\"sk-toggleable__label sk-toggleable__label-arrow\">DecisionTreeRegressor</label><div class=\"sk-toggleable__content\"><pre>DecisionTreeRegressor(random_state=42)</pre></div></div></div></div></div></div></div></div><div class=\"sk-item\"><div class=\"sk-parallel\"><div class=\"sk-parallel-item\"><div class=\"sk-item\"><div class=\"sk-label-container\"><div class=\"sk-label sk-toggleable\"><label>final_estimator</label></div></div><div class=\"sk-serial\"><div class=\"sk-item\"><div class=\"sk-estimator sk-toggleable\"><input class=\"sk-toggleable__control sk-hidden--visually\" id=\"sk-estimator-id-35\" type=\"checkbox\" ><label for=\"sk-estimator-id-35\" class=\"sk-toggleable__label sk-toggleable__label-arrow\">RandomForestRegressor</label><div class=\"sk-toggleable__content\"><pre>RandomForestRegressor(n_estimators=50, random_state=42)</pre></div></div></div></div></div></div></div></div></div></div></div></div>"
      ],
      "text/plain": [
       "StackingRegressor(estimators=[('lr', RidgeCV()),\n",
       "                              ('dt', DecisionTreeRegressor(random_state=42))],\n",
       "                  final_estimator=RandomForestRegressor(n_estimators=50,\n",
       "                                                        random_state=42))"
      ]
     },
     "execution_count": 418,
     "metadata": {},
     "output_type": "execute_result"
    }
   ],
   "source": [
    "from sklearn.ensemble import StackingRegressor\n",
    "from sklearn.linear_model import RidgeCV\n",
    "#Создаем список кортежей вида: (наименование модели, модель)\n",
    "estimators = [\n",
    "    ('lr', RidgeCV()),\n",
    "    ('dt',  DecisionTreeRegressor(random_state=42))\n",
    "]\n",
    "# Создаем объект класса стекинг\n",
    "reg = StackingRegressor(\n",
    "    estimators=estimators, #базовые модели в стекинге\n",
    "    final_estimator=RandomForestRegressor( #метамодель\n",
    "        n_estimators=30, #количество деревьев в ансамбле                    \n",
    "        random_state=42 #датчик генератора случайных чисел\n",
    "    )\n",
    ")\n",
    "# Обучаем модель\n",
    "reg.fit(X_train, y_train)"
   ]
  },
  {
   "cell_type": "code",
   "execution_count": 419,
   "metadata": {},
   "outputs": [
    {
     "name": "stdout",
     "output_type": "stream",
     "text": [
      "Train R^2: 0.856\n",
      "Train MAE: 44922.858\n",
      "Train MAPE: 16.912\n",
      "\n",
      "\n",
      "Test R^2: 0.750\n",
      "Test MAE: 61326.544\n",
      "Train MAPE: 22.188\n"
     ]
    }
   ],
   "source": [
    "# Формируем предсказания каждой из моделей\n",
    "y_train_pred = reg.predict(X_train)\n",
    "y_test_pred = reg.predict(X_test)\n",
    "print_metrics(y_train, y_train_pred, y_test, y_test_pred)"
   ]
  },
  {
   "cell_type": "code",
   "execution_count": 416,
   "metadata": {},
   "outputs": [
    {
     "name": "stdout",
     "output_type": "stream",
     "text": [
      "Качество предсказания по MSE для стекинга 9232921453.67\n"
     ]
    }
   ],
   "source": [
    "# Формируем предсказание для тестовой выборки\n",
    "y_pred_stack = reg.predict(X_test)\n",
    "# Оцениваем качество по метрике MSE\n",
    "print(f'Качество предсказания по MSE для стекинга {round(mean_squared_error(y_test, y_pred_stack), 2)}')"
   ]
  },
  {
   "cell_type": "code",
   "execution_count": 417,
   "metadata": {},
   "outputs": [
    {
     "name": "stdout",
     "output_type": "stream",
     "text": [
      "Качество предсказания по MSE для AdaBoost 26128968138.42\n"
     ]
    }
   ],
   "source": [
    "from sklearn.ensemble import AdaBoostRegressor\n",
    "\n",
    "# Создаем объект класса дерева решений\n",
    "dt = DecisionTreeRegressor(\n",
    "    max_depth=3, #максимальная глубина дерева\n",
    "    random_state=42 #датчик генератора случайных чисел\n",
    ")\n",
    "# Создаем объект класса AdaBoost\n",
    "ada = AdaBoostRegressor(\n",
    "    base_estimator=dt, #базовая модель\n",
    "    random_state=42, #датчик генератора случайных чисел\n",
    "    n_estimators=10 #количество моделей в ансамбле\n",
    ")\n",
    "# Обучаем модель\n",
    "ada.fit(X_train, y_train)\n",
    "\n",
    "# Формируем предсказание для тестовой выборки\n",
    "ada_pred  = ada.predict(X_test)\n",
    "\n",
    "# Оцениваем качество по метрике MSE\n",
    "print(f'Качество предсказания по MSE для AdaBoost {round(mean_squared_error(y_test, ada_pred),2)}')"
   ]
  },
  {
   "cell_type": "code",
   "execution_count": 324,
   "metadata": {},
   "outputs": [
    {
     "name": "stdout",
     "output_type": "stream",
     "text": [
      "Train R^2: 0.128\n",
      "Train MAE: 76678.521\n",
      "Train MAPE: 27.342\n",
      "\n",
      "\n",
      "Test R^2: 0.124\n",
      "Test MAE: 77185.774\n",
      "Train MAPE: 27.463\n"
     ]
    }
   ],
   "source": [
    "# Формируем предсказания каждой из моделей\n",
    "y_train_pred = ada.predict(X_train)\n",
    "y_test_pred = ada.predict(X_test)\n",
    "print_metrics(y_train, y_train_pred, y_test, y_test_pred)"
   ]
  },
  {
   "cell_type": "code",
   "execution_count": 325,
   "metadata": {},
   "outputs": [
    {
     "name": "stdout",
     "output_type": "stream",
     "text": [
      "Качество предсказания по MSE для GradientBoostingRegressor 8199496780.25\n"
     ]
    }
   ],
   "source": [
    "from sklearn.ensemble import GradientBoostingRegressor\n",
    "\n",
    "# Создаем объект класса градиентный бустинг\n",
    "gb = GradientBoostingRegressor(\n",
    "    max_depth=3, #максимальная глубина дерева\n",
    "    n_estimators=10, #количество деревьев в ансамбле\n",
    "    random_state=42 #датчик генератора случайных чисел\n",
    ")\n",
    "\n",
    "# Обучаем модель\n",
    "gb.fit(X_train, y_train)\n",
    "\n",
    "# Формируем предсказание для тестовой выборки\n",
    "gb_pred  = gb.predict(X_test)\n",
    "\n",
    "# Оцениваем качество по метрике MSE\n",
    "print(f'Качество предсказания по MSE для GradientBoostingRegressor {round(mean_squared_error(y_test, gb_pred),2)}')\n"
   ]
  },
  {
   "cell_type": "code",
   "execution_count": 326,
   "metadata": {},
   "outputs": [
    {
     "name": "stdout",
     "output_type": "stream",
     "text": [
      "Train R^2: 0.153\n",
      "Train MAE: 72743.446\n",
      "Train MAPE: 24.477\n",
      "\n",
      "\n",
      "Test R^2: 0.147\n",
      "Test MAE: 73109.429\n",
      "Train MAPE: 24.553\n"
     ]
    }
   ],
   "source": [
    "# Формируем предсказания каждой из моделей\n",
    "y_train_pred = gb.predict(X_train)\n",
    "y_test_pred = gb.predict(X_test)\n",
    "print_metrics(y_train, y_train_pred, y_test, y_test_pred)"
   ]
  },
  {
   "cell_type": "code",
   "execution_count": 327,
   "metadata": {},
   "outputs": [],
   "source": [
    "def rmse(y_hat, y):\n",
    "    return mean_squared_error(y_hat, y, squared = False)"
   ]
  },
  {
   "cell_type": "code",
   "execution_count": 420,
   "metadata": {},
   "outputs": [
    {
     "data": {
      "text/html": [
       "<style>#sk-container-id-20 {color: black;background-color: white;}#sk-container-id-20 pre{padding: 0;}#sk-container-id-20 div.sk-toggleable {background-color: white;}#sk-container-id-20 label.sk-toggleable__label {cursor: pointer;display: block;width: 100%;margin-bottom: 0;padding: 0.3em;box-sizing: border-box;text-align: center;}#sk-container-id-20 label.sk-toggleable__label-arrow:before {content: \"▸\";float: left;margin-right: 0.25em;color: #696969;}#sk-container-id-20 label.sk-toggleable__label-arrow:hover:before {color: black;}#sk-container-id-20 div.sk-estimator:hover label.sk-toggleable__label-arrow:before {color: black;}#sk-container-id-20 div.sk-toggleable__content {max-height: 0;max-width: 0;overflow: hidden;text-align: left;background-color: #f0f8ff;}#sk-container-id-20 div.sk-toggleable__content pre {margin: 0.2em;color: black;border-radius: 0.25em;background-color: #f0f8ff;}#sk-container-id-20 input.sk-toggleable__control:checked~div.sk-toggleable__content {max-height: 200px;max-width: 100%;overflow: auto;}#sk-container-id-20 input.sk-toggleable__control:checked~label.sk-toggleable__label-arrow:before {content: \"▾\";}#sk-container-id-20 div.sk-estimator input.sk-toggleable__control:checked~label.sk-toggleable__label {background-color: #d4ebff;}#sk-container-id-20 div.sk-label input.sk-toggleable__control:checked~label.sk-toggleable__label {background-color: #d4ebff;}#sk-container-id-20 input.sk-hidden--visually {border: 0;clip: rect(1px 1px 1px 1px);clip: rect(1px, 1px, 1px, 1px);height: 1px;margin: -1px;overflow: hidden;padding: 0;position: absolute;width: 1px;}#sk-container-id-20 div.sk-estimator {font-family: monospace;background-color: #f0f8ff;border: 1px dotted black;border-radius: 0.25em;box-sizing: border-box;margin-bottom: 0.5em;}#sk-container-id-20 div.sk-estimator:hover {background-color: #d4ebff;}#sk-container-id-20 div.sk-parallel-item::after {content: \"\";width: 100%;border-bottom: 1px solid gray;flex-grow: 1;}#sk-container-id-20 div.sk-label:hover label.sk-toggleable__label {background-color: #d4ebff;}#sk-container-id-20 div.sk-serial::before {content: \"\";position: absolute;border-left: 1px solid gray;box-sizing: border-box;top: 0;bottom: 0;left: 50%;z-index: 0;}#sk-container-id-20 div.sk-serial {display: flex;flex-direction: column;align-items: center;background-color: white;padding-right: 0.2em;padding-left: 0.2em;position: relative;}#sk-container-id-20 div.sk-item {position: relative;z-index: 1;}#sk-container-id-20 div.sk-parallel {display: flex;align-items: stretch;justify-content: center;background-color: white;position: relative;}#sk-container-id-20 div.sk-item::before, #sk-container-id-20 div.sk-parallel-item::before {content: \"\";position: absolute;border-left: 1px solid gray;box-sizing: border-box;top: 0;bottom: 0;left: 50%;z-index: -1;}#sk-container-id-20 div.sk-parallel-item {display: flex;flex-direction: column;z-index: 1;position: relative;background-color: white;}#sk-container-id-20 div.sk-parallel-item:first-child::after {align-self: flex-end;width: 50%;}#sk-container-id-20 div.sk-parallel-item:last-child::after {align-self: flex-start;width: 50%;}#sk-container-id-20 div.sk-parallel-item:only-child::after {width: 0;}#sk-container-id-20 div.sk-dashed-wrapped {border: 1px dashed gray;margin: 0 0.4em 0.5em 0.4em;box-sizing: border-box;padding-bottom: 0.4em;background-color: white;}#sk-container-id-20 div.sk-label label {font-family: monospace;font-weight: bold;display: inline-block;line-height: 1.2em;}#sk-container-id-20 div.sk-label-container {text-align: center;}#sk-container-id-20 div.sk-container {/* jupyter's `normalize.less` sets `[hidden] { display: none; }` but bootstrap.min.css set `[hidden] { display: none !important; }` so we also need the `!important` here to be able to override the default hidden behavior on the sphinx rendered scikit-learn.org. See: https://github.com/scikit-learn/scikit-learn/issues/21755 */display: inline-block !important;position: relative;}#sk-container-id-20 div.sk-text-repr-fallback {display: none;}</style><div id=\"sk-container-id-20\" class=\"sk-top-container\"><div class=\"sk-text-repr-fallback\"><pre>Pipeline(steps=[(&#x27;scaler&#x27;, StandardScaler()), (&#x27;rf&#x27;, RandomForestRegressor())])</pre><b>In a Jupyter environment, please rerun this cell to show the HTML representation or trust the notebook. <br />On GitHub, the HTML representation is unable to render, please try loading this page with nbviewer.org.</b></div><div class=\"sk-container\" hidden><div class=\"sk-item sk-dashed-wrapped\"><div class=\"sk-label-container\"><div class=\"sk-label sk-toggleable\"><input class=\"sk-toggleable__control sk-hidden--visually\" id=\"sk-estimator-id-36\" type=\"checkbox\" ><label for=\"sk-estimator-id-36\" class=\"sk-toggleable__label sk-toggleable__label-arrow\">Pipeline</label><div class=\"sk-toggleable__content\"><pre>Pipeline(steps=[(&#x27;scaler&#x27;, StandardScaler()), (&#x27;rf&#x27;, RandomForestRegressor())])</pre></div></div></div><div class=\"sk-serial\"><div class=\"sk-item\"><div class=\"sk-estimator sk-toggleable\"><input class=\"sk-toggleable__control sk-hidden--visually\" id=\"sk-estimator-id-37\" type=\"checkbox\" ><label for=\"sk-estimator-id-37\" class=\"sk-toggleable__label sk-toggleable__label-arrow\">StandardScaler</label><div class=\"sk-toggleable__content\"><pre>StandardScaler()</pre></div></div></div><div class=\"sk-item\"><div class=\"sk-estimator sk-toggleable\"><input class=\"sk-toggleable__control sk-hidden--visually\" id=\"sk-estimator-id-38\" type=\"checkbox\" ><label for=\"sk-estimator-id-38\" class=\"sk-toggleable__label sk-toggleable__label-arrow\">RandomForestRegressor</label><div class=\"sk-toggleable__content\"><pre>RandomForestRegressor()</pre></div></div></div></div></div></div></div>"
      ],
      "text/plain": [
       "Pipeline(steps=[('scaler', StandardScaler()), ('rf', RandomForestRegressor())])"
      ]
     },
     "execution_count": 420,
     "metadata": {},
     "output_type": "execute_result"
    }
   ],
   "source": [
    "from sklearn.pipeline import Pipeline\n",
    "from sklearn.preprocessing import StandardScaler\n",
    "\n",
    "pipeline = Pipeline([('scaler', StandardScaler()), ('rf', RandomForestRegressor())])\n",
    "pipeline.fit(X_train, y_train)"
   ]
  },
  {
   "cell_type": "code",
   "execution_count": 421,
   "metadata": {},
   "outputs": [
    {
     "name": "stdout",
     "output_type": "stream",
     "text": [
      "Качество по метрике R2: 0.7392\n",
      "Качество по RSME: 97859.6933\n"
     ]
    }
   ],
   "source": [
    "from sklearn.metrics import r2_score\n",
    "\n",
    "y_pred = pipeline.predict(X_test)\n",
    "print(f'Качество по метрике R2: { round(r2_score(y_test, y_pred),4)}')\n",
    "print(f'Качество по RSME: {round(rmse(y_test, y_pred),4)}')"
   ]
  },
  {
   "attachments": {},
   "cell_type": "markdown",
   "metadata": {},
   "source": [
    "основные итоги работы"
   ]
  },
  {
   "attachments": {},
   "cell_type": "markdown",
   "metadata": {},
   "source": [
    "Лучший результат показала модель со стекингом.\n",
    "Вместе с тем, прогноз осложнялся разнородными данными.\n",
    "За основные данные взяты площадь здания, цена, в первую очередь.\n",
    "Тип объявления - так как компании интересны объявления о продаже недвижимости, активные объявления (срочные), без авантюр в виде залоговой недвижимости, аукциона и т.п.\n",
    "Вид недвижимости, определяющий ее класс.\n",
    "Отельного внимания заслуживает zipcode - почтовый индекс, которые показывает город и район расположения недвижимости.\n",
    "Полученные метрики на стеке оцениваю как допустимые, при таких разнородных данных.\n",
    "Манипуляции с количеством ванн, кроватей, года реконструкции, вида отопления, охлаждения, парковки не возымели эффекта, компьютер раз 20 приходилось вынужденно отключать из-за зависания. Город оставил в датафрейме больше для описания.\n",
    "По факту для большой компании должен иметь принцип разделения по штатам, так увеличит точность предсказания модели.\n",
    "\n",
    "P.S. насколько ненавидил функции, на столько разобрался в них (в том числе используя дополнительную литературу) и полюбил)))\n",
    "До свидания!"
   ]
  }
 ],
 "metadata": {
  "kernelspec": {
   "display_name": "Python 3",
   "language": "python",
   "name": "python3"
  },
  "language_info": {
   "codemirror_mode": {
    "name": "ipython",
    "version": 3
   },
   "file_extension": ".py",
   "mimetype": "text/x-python",
   "name": "python",
   "nbconvert_exporter": "python",
   "pygments_lexer": "ipython3",
   "version": "3.9.10"
  },
  "orig_nbformat": 4
 },
 "nbformat": 4,
 "nbformat_minor": 2
}
