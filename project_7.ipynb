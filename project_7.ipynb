{
 "cells": [
  {
   "cell_type": "code",
   "execution_count": 35,
   "metadata": {},
   "outputs": [
    {
     "data": {
      "text/html": [
       "<div>\n",
       "<style scoped>\n",
       "    .dataframe tbody tr th:only-of-type {\n",
       "        vertical-align: middle;\n",
       "    }\n",
       "\n",
       "    .dataframe tbody tr th {\n",
       "        vertical-align: top;\n",
       "    }\n",
       "\n",
       "    .dataframe thead th {\n",
       "        text-align: right;\n",
       "    }\n",
       "</style>\n",
       "<table border=\"1\" class=\"dataframe\">\n",
       "  <thead>\n",
       "    <tr style=\"text-align: right;\">\n",
       "      <th></th>\n",
       "      <th>GDP (current US$)</th>\n",
       "    </tr>\n",
       "    <tr>\n",
       "      <th>year</th>\n",
       "      <th></th>\n",
       "    </tr>\n",
       "  </thead>\n",
       "  <tbody>\n",
       "    <tr>\n",
       "      <th>2017-01-01</th>\n",
       "      <td>6.040638e+10</td>\n",
       "    </tr>\n",
       "    <tr>\n",
       "      <th>2018-01-01</th>\n",
       "      <td>6.729928e+10</td>\n",
       "    </tr>\n",
       "    <tr>\n",
       "      <th>2019-01-01</th>\n",
       "      <td>6.833754e+10</td>\n",
       "    </tr>\n",
       "    <tr>\n",
       "      <th>2020-01-01</th>\n",
       "      <td>7.004320e+10</td>\n",
       "    </tr>\n",
       "    <tr>\n",
       "      <th>2021-01-01</th>\n",
       "      <td>7.759428e+10</td>\n",
       "    </tr>\n",
       "  </tbody>\n",
       "</table>\n",
       "</div>"
      ],
      "text/plain": [
       "            GDP (current US$)\n",
       "year                         \n",
       "2017-01-01       6.040638e+10\n",
       "2018-01-01       6.729928e+10\n",
       "2019-01-01       6.833754e+10\n",
       "2020-01-01       7.004320e+10\n",
       "2021-01-01       7.759428e+10"
      ]
     },
     "execution_count": 35,
     "metadata": {},
     "output_type": "execute_result"
    }
   ],
   "source": [
    "import pandas as pd\n",
    "data = pd.read_csv('data/ghana_gdp.csv', parse_dates=[\"year\"], index_col = [\"year\"])\n",
    "data.tail()"
   ]
  },
  {
   "cell_type": "code",
   "execution_count": 36,
   "metadata": {},
   "outputs": [
    {
     "data": {
      "text/plain": [
       "<AxesSubplot:xlabel='year'>"
      ]
     },
     "execution_count": 36,
     "metadata": {},
     "output_type": "execute_result"
    },
    {
     "data": {
      "image/png": "[encoded data removed]",
      "text/plain": [
       "<Figure size 432x288 with 1 Axes>"
      ]
     },
     "metadata": {
      "needs_background": "light"
     },
     "output_type": "display_data"
    }
   ],
   "source": [
    "%matplotlib inline \n",
    "data.plot()"
   ]
  },
  {
   "attachments": {},
   "cell_type": "markdown",
   "metadata": {},
   "source": [
    "Отложите последние три года датасета как тестовую выборку для оценки результатов предсказания."
   ]
  },
  {
   "cell_type": "code",
   "execution_count": 37,
   "metadata": {},
   "outputs": [
    {
     "data": {
      "text/plain": [
       "((60, 1), (3, 1))"
      ]
     },
     "execution_count": 37,
     "metadata": {},
     "output_type": "execute_result"
    }
   ],
   "source": [
    "train_df = data.loc[:\"2019-01-01\"]\n",
    "test_df = data.loc[\"2019-01-01\":]\n",
    "train_df.shape, test_df.shape"
   ]
  },
  {
   "attachments": {},
   "cell_type": "markdown",
   "metadata": {},
   "source": [
    "Постройте модель скользящего среднего, проанализируйте результат. Для построения MA используйте метод rolling, который принимает в качестве параметра размер окна. Используйте среднее как функцию для сглаживания. Ширину окна подберите самостоятельно."
   ]
  },
  {
   "cell_type": "code",
   "execution_count": 38,
   "metadata": {},
   "outputs": [
    {
     "data": {
      "text/html": [
       "<div>\n",
       "<style scoped>\n",
       "    .dataframe tbody tr th:only-of-type {\n",
       "        vertical-align: middle;\n",
       "    }\n",
       "\n",
       "    .dataframe tbody tr th {\n",
       "        vertical-align: top;\n",
       "    }\n",
       "\n",
       "    .dataframe thead th {\n",
       "        text-align: right;\n",
       "    }\n",
       "</style>\n",
       "<table border=\"1\" class=\"dataframe\">\n",
       "  <thead>\n",
       "    <tr style=\"text-align: right;\">\n",
       "      <th></th>\n",
       "      <th>GDP (current US$)</th>\n",
       "    </tr>\n",
       "    <tr>\n",
       "      <th>year</th>\n",
       "      <th></th>\n",
       "    </tr>\n",
       "  </thead>\n",
       "  <tbody>\n",
       "    <tr>\n",
       "      <th>1960-01-01</th>\n",
       "      <td>NaN</td>\n",
       "    </tr>\n",
       "    <tr>\n",
       "      <th>1961-01-01</th>\n",
       "      <td>6.085434e+08</td>\n",
       "    </tr>\n",
       "    <tr>\n",
       "      <th>1962-01-01</th>\n",
       "      <td>6.911765e+08</td>\n",
       "    </tr>\n",
       "    <tr>\n",
       "      <th>1963-01-01</th>\n",
       "      <td>1.461485e+09</td>\n",
       "    </tr>\n",
       "    <tr>\n",
       "      <th>1964-01-01</th>\n",
       "      <td>1.635854e+09</td>\n",
       "    </tr>\n",
       "    <tr>\n",
       "      <th>1965-01-01</th>\n",
       "      <td>1.892157e+09</td>\n",
       "    </tr>\n",
       "    <tr>\n",
       "      <th>1966-01-01</th>\n",
       "      <td>2.089636e+09</td>\n",
       "    </tr>\n",
       "    <tr>\n",
       "      <th>1967-01-01</th>\n",
       "      <td>1.936428e+09</td>\n",
       "    </tr>\n",
       "    <tr>\n",
       "      <th>1968-01-01</th>\n",
       "      <td>1.706858e+09</td>\n",
       "    </tr>\n",
       "    <tr>\n",
       "      <th>1969-01-01</th>\n",
       "      <td>1.814481e+09</td>\n",
       "    </tr>\n",
       "    <tr>\n",
       "      <th>1970-01-01</th>\n",
       "      <td>2.088540e+09</td>\n",
       "    </tr>\n",
       "    <tr>\n",
       "      <th>1971-01-01</th>\n",
       "      <td>2.316069e+09</td>\n",
       "    </tr>\n",
       "    <tr>\n",
       "      <th>1972-01-01</th>\n",
       "      <td>2.264700e+09</td>\n",
       "    </tr>\n",
       "    <tr>\n",
       "      <th>1973-01-01</th>\n",
       "      <td>2.288893e+09</td>\n",
       "    </tr>\n",
       "    <tr>\n",
       "      <th>1974-01-01</th>\n",
       "      <td>2.679951e+09</td>\n",
       "    </tr>\n",
       "    <tr>\n",
       "      <th>1975-01-01</th>\n",
       "      <td>2.852258e+09</td>\n",
       "    </tr>\n",
       "    <tr>\n",
       "      <th>1976-01-01</th>\n",
       "      <td>2.787680e+09</td>\n",
       "    </tr>\n",
       "    <tr>\n",
       "      <th>1977-01-01</th>\n",
       "      <td>2.977341e+09</td>\n",
       "    </tr>\n",
       "    <tr>\n",
       "      <th>1978-01-01</th>\n",
       "      <td>3.425953e+09</td>\n",
       "    </tr>\n",
       "    <tr>\n",
       "      <th>1979-01-01</th>\n",
       "      <td>3.841353e+09</td>\n",
       "    </tr>\n",
       "    <tr>\n",
       "      <th>1980-01-01</th>\n",
       "      <td>4.232728e+09</td>\n",
       "    </tr>\n",
       "    <tr>\n",
       "      <th>1981-01-01</th>\n",
       "      <td>4.333835e+09</td>\n",
       "    </tr>\n",
       "    <tr>\n",
       "      <th>1982-01-01</th>\n",
       "      <td>4.129218e+09</td>\n",
       "    </tr>\n",
       "    <tr>\n",
       "      <th>1983-01-01</th>\n",
       "      <td>4.046635e+09</td>\n",
       "    </tr>\n",
       "    <tr>\n",
       "      <th>1984-01-01</th>\n",
       "      <td>4.234777e+09</td>\n",
       "    </tr>\n",
       "    <tr>\n",
       "      <th>1985-01-01</th>\n",
       "      <td>4.458311e+09</td>\n",
       "    </tr>\n",
       "    <tr>\n",
       "      <th>1986-01-01</th>\n",
       "      <td>5.115972e+09</td>\n",
       "    </tr>\n",
       "    <tr>\n",
       "      <th>1987-01-01</th>\n",
       "      <td>5.401216e+09</td>\n",
       "    </tr>\n",
       "    <tr>\n",
       "      <th>1988-01-01</th>\n",
       "      <td>5.136335e+09</td>\n",
       "    </tr>\n",
       "    <tr>\n",
       "      <th>1989-01-01</th>\n",
       "      <td>5.224803e+09</td>\n",
       "    </tr>\n",
       "    <tr>\n",
       "      <th>1990-01-01</th>\n",
       "      <td>5.570470e+09</td>\n",
       "    </tr>\n",
       "    <tr>\n",
       "      <th>1991-01-01</th>\n",
       "      <td>6.242861e+09</td>\n",
       "    </tr>\n",
       "    <tr>\n",
       "      <th>1992-01-01</th>\n",
       "      <td>6.505224e+09</td>\n",
       "    </tr>\n",
       "    <tr>\n",
       "      <th>1993-01-01</th>\n",
       "      <td>6.190079e+09</td>\n",
       "    </tr>\n",
       "    <tr>\n",
       "      <th>1994-01-01</th>\n",
       "      <td>5.705408e+09</td>\n",
       "    </tr>\n",
       "    <tr>\n",
       "      <th>1995-01-01</th>\n",
       "      <td>5.954849e+09</td>\n",
       "    </tr>\n",
       "    <tr>\n",
       "      <th>1996-01-01</th>\n",
       "      <td>6.700061e+09</td>\n",
       "    </tr>\n",
       "    <tr>\n",
       "      <th>1997-01-01</th>\n",
       "      <td>6.913147e+09</td>\n",
       "    </tr>\n",
       "    <tr>\n",
       "      <th>1998-01-01</th>\n",
       "      <td>7.186139e+09</td>\n",
       "    </tr>\n",
       "    <tr>\n",
       "      <th>1999-01-01</th>\n",
       "      <td>7.600162e+09</td>\n",
       "    </tr>\n",
       "    <tr>\n",
       "      <th>2000-01-01</th>\n",
       "      <td>6.351190e+09</td>\n",
       "    </tr>\n",
       "    <tr>\n",
       "      <th>2001-01-01</th>\n",
       "      <td>5.148967e+09</td>\n",
       "    </tr>\n",
       "    <tr>\n",
       "      <th>2002-01-01</th>\n",
       "      <td>5.740620e+09</td>\n",
       "    </tr>\n",
       "    <tr>\n",
       "      <th>2003-01-01</th>\n",
       "      <td>6.899368e+09</td>\n",
       "    </tr>\n",
       "    <tr>\n",
       "      <th>2004-01-01</th>\n",
       "      <td>8.256888e+09</td>\n",
       "    </tr>\n",
       "    <tr>\n",
       "      <th>2005-01-01</th>\n",
       "      <td>9.813022e+09</td>\n",
       "    </tr>\n",
       "    <tr>\n",
       "      <th>2006-01-01</th>\n",
       "      <td>1.559278e+10</td>\n",
       "    </tr>\n",
       "    <tr>\n",
       "      <th>2007-01-01</th>\n",
       "      <td>2.263437e+10</td>\n",
       "    </tr>\n",
       "    <tr>\n",
       "      <th>2008-01-01</th>\n",
       "      <td>2.675327e+10</td>\n",
       "    </tr>\n",
       "    <tr>\n",
       "      <th>2009-01-01</th>\n",
       "      <td>2.736341e+10</td>\n",
       "    </tr>\n",
       "    <tr>\n",
       "      <th>2010-01-01</th>\n",
       "      <td>2.912269e+10</td>\n",
       "    </tr>\n",
       "    <tr>\n",
       "      <th>2011-01-01</th>\n",
       "      <td>3.576729e+10</td>\n",
       "    </tr>\n",
       "    <tr>\n",
       "      <th>2012-01-01</th>\n",
       "      <td>4.030413e+10</td>\n",
       "    </tr>\n",
       "    <tr>\n",
       "      <th>2013-01-01</th>\n",
       "      <td>5.204700e+10</td>\n",
       "    </tr>\n",
       "    <tr>\n",
       "      <th>2014-01-01</th>\n",
       "      <td>5.880295e+10</td>\n",
       "    </tr>\n",
       "    <tr>\n",
       "      <th>2015-01-01</th>\n",
       "      <td>5.209471e+10</td>\n",
       "    </tr>\n",
       "    <tr>\n",
       "      <th>2016-01-01</th>\n",
       "      <td>5.278587e+10</td>\n",
       "    </tr>\n",
       "    <tr>\n",
       "      <th>2017-01-01</th>\n",
       "      <td>5.828578e+10</td>\n",
       "    </tr>\n",
       "    <tr>\n",
       "      <th>2018-01-01</th>\n",
       "      <td>6.385283e+10</td>\n",
       "    </tr>\n",
       "    <tr>\n",
       "      <th>2019-01-01</th>\n",
       "      <td>6.781841e+10</td>\n",
       "    </tr>\n",
       "  </tbody>\n",
       "</table>\n",
       "</div>"
      ],
      "text/plain": [
       "            GDP (current US$)\n",
       "year                         \n",
       "1960-01-01                NaN\n",
       "1961-01-01       6.085434e+08\n",
       "1962-01-01       6.911765e+08\n",
       "1963-01-01       1.461485e+09\n",
       "1964-01-01       1.635854e+09\n",
       "1965-01-01       1.892157e+09\n",
       "1966-01-01       2.089636e+09\n",
       "1967-01-01       1.936428e+09\n",
       "1968-01-01       1.706858e+09\n",
       "1969-01-01       1.814481e+09\n",
       "1970-01-01       2.088540e+09\n",
       "1971-01-01       2.316069e+09\n",
       "1972-01-01       2.264700e+09\n",
       "1973-01-01       2.288893e+09\n",
       "1974-01-01       2.679951e+09\n",
       "1975-01-01       2.852258e+09\n",
       "1976-01-01       2.787680e+09\n",
       "1977-01-01       2.977341e+09\n",
       "1978-01-01       3.425953e+09\n",
       "1979-01-01       3.841353e+09\n",
       "1980-01-01       4.232728e+09\n",
       "1981-01-01       4.333835e+09\n",
       "1982-01-01       4.129218e+09\n",
       "1983-01-01       4.046635e+09\n",
       "1984-01-01       4.234777e+09\n",
       "1985-01-01       4.458311e+09\n",
       "1986-01-01       5.115972e+09\n",
       "1987-01-01       5.401216e+09\n",
       "1988-01-01       5.136335e+09\n",
       "1989-01-01       5.224803e+09\n",
       "1990-01-01       5.570470e+09\n",
       "1991-01-01       6.242861e+09\n",
       "1992-01-01       6.505224e+09\n",
       "1993-01-01       6.190079e+09\n",
       "1994-01-01       5.705408e+09\n",
       "1995-01-01       5.954849e+09\n",
       "1996-01-01       6.700061e+09\n",
       "1997-01-01       6.913147e+09\n",
       "1998-01-01       7.186139e+09\n",
       "1999-01-01       7.600162e+09\n",
       "2000-01-01       6.351190e+09\n",
       "2001-01-01       5.148967e+09\n",
       "2002-01-01       5.740620e+09\n",
       "2003-01-01       6.899368e+09\n",
       "2004-01-01       8.256888e+09\n",
       "2005-01-01       9.813022e+09\n",
       "2006-01-01       1.559278e+10\n",
       "2007-01-01       2.263437e+10\n",
       "2008-01-01       2.675327e+10\n",
       "2009-01-01       2.736341e+10\n",
       "2010-01-01       2.912269e+10\n",
       "2011-01-01       3.576729e+10\n",
       "2012-01-01       4.030413e+10\n",
       "2013-01-01       5.204700e+10\n",
       "2014-01-01       5.880295e+10\n",
       "2015-01-01       5.209471e+10\n",
       "2016-01-01       5.278587e+10\n",
       "2017-01-01       5.828578e+10\n",
       "2018-01-01       6.385283e+10\n",
       "2019-01-01       6.781841e+10"
      ]
     },
     "execution_count": 38,
     "metadata": {},
     "output_type": "execute_result"
    }
   ],
   "source": [
    "#train_df.rolling(2).sum()\n",
    "train_df.rolling(window=2).mean()"
   ]
  },
  {
   "cell_type": "code",
   "execution_count": 39,
   "metadata": {},
   "outputs": [
    {
     "data": {
      "text/plain": [
       "<AxesSubplot:xlabel='year'>"
      ]
     },
     "execution_count": 39,
     "metadata": {},
     "output_type": "execute_result"
    },
    {
     "data": {
      "image/png": "[encoded data removed]",
      "text/plain": [
       "<Figure size 432x288 with 1 Axes>"
      ]
     },
     "metadata": {
      "needs_background": "light"
     },
     "output_type": "display_data"
    }
   ],
   "source": [
    "%matplotlib inline \n",
    "train_df.rolling(window=2).mean().plot()"
   ]
  },
  {
   "attachments": {},
   "cell_type": "markdown",
   "metadata": {},
   "source": [
    "Оцените стационарность временного ряда и примите решение о выборе модели ARMA/ARIMA. Выберите парамeтры p и q по коррелограммам ACF и PACF. Также постройте модель с параметрами, ближайшими к p и q, и сравните коэффициент AIC или подберите наилучшие параметры с помощью pmdarima, как в скринкасте."
   ]
  },
  {
   "cell_type": "code",
   "execution_count": 40,
   "metadata": {},
   "outputs": [
    {
     "data": {
      "text/plain": [
       "(0.5782902144237619,\n",
       " 0.9870681153049116,\n",
       " 10,\n",
       " 49,\n",
       " {'1%': -3.5714715250448363,\n",
       "  '5%': -2.922629480573571,\n",
       "  '10%': -2.5993358475635153},\n",
       " 2239.7989988859235)"
      ]
     },
     "execution_count": 40,
     "metadata": {},
     "output_type": "execute_result"
    }
   ],
   "source": [
    "from statsmodels.tsa.stattools import adfuller\n",
    "\n",
    "adfuller(train_df[\"GDP (current US$)\"])"
   ]
  },
  {
   "cell_type": "code",
   "execution_count": 41,
   "metadata": {},
   "outputs": [
    {
     "name": "stdout",
     "output_type": "stream",
     "text": [
      "adf:  0.5782902144237619\n",
      "p-value:  0.9870681153049116\n",
      "Critical values:  {'1%': -3.5714715250448363, '5%': -2.922629480573571, '10%': -2.5993358475635153}\n",
      "ряд нестационарен\n"
     ]
    }
   ],
   "source": [
    "test1 = adfuller(train_df[\"GDP (current US$)\"])\n",
    "print ('adf: ', test1[0])\n",
    "print ('p-value: ', test1[1])\n",
    "print ('Critical values: ', test1[4])\n",
    "if test1[0]> test1[4]['5%']: \n",
    "    print ('ряд нестационарен')\n",
    "else:\n",
    "    print ('ряд стационарен')"
   ]
  },
  {
   "cell_type": "code",
   "execution_count": 42,
   "metadata": {},
   "outputs": [],
   "source": [
    "from matplotlib import pyplot as plt\n",
    "import statsmodels.graphics.tsaplots as sgt\n",
    "\n",
    "def plot_acf_pacf(series):\n",
    "    plt.rcParams[\"figure.figsize\"] = 18, 5\n",
    "\n",
    "    fig, axes = plt.subplots(1, 2)\n",
    "    \n",
    "    sgt.plot_acf(series, lags = 58, ax = axes[0])\n",
    "    sgt.plot_pacf(series, lags = 28, ax = axes[1])\n",
    "    plt.show()"
   ]
  },
  {
   "cell_type": "code",
   "execution_count": 43,
   "metadata": {},
   "outputs": [
    {
     "name": "stderr",
     "output_type": "stream",
     "text": [
      "c:\\Users\\SEMEN\\AppData\\Local\\Programs\\Python\\Python39\\lib\\site-packages\\statsmodels\\graphics\\tsaplots.py:348: FutureWarning: The default method 'yw' can produce PACF values outside of the [-1,1] interval. After 0.13, the default will change tounadjusted Yule-Walker ('ywm'). You can use this method now by setting method='ywm'.\n",
      "  warnings.warn(\n"
     ]
    },
    {
     "data": {
      "image/png": "[encoded data removed]",
      "text/plain": [
       "<Figure size 1296x360 with 2 Axes>"
      ]
     },
     "metadata": {
      "needs_background": "light"
     },
     "output_type": "display_data"
    },
    {
     "name": "stdout",
     "output_type": "stream",
     "text": [
      "adf:  -1.5585831471388791\n",
      "p-value:  0.5043580595671024\n",
      "Critical values:  {'1%': -3.5714715250448363, '5%': -2.922629480573571, '10%': -2.5993358475635153}\n",
      "ряд нестационарен\n"
     ]
    }
   ],
   "source": [
    "plot_acf_pacf(train_df[\"GDP (current US$)\"].diff(1).dropna())\n",
    "test2 = adfuller(train_df[\"GDP (current US$)\"].diff(1).dropna())\n",
    "print ('adf: ', test2[0])\n",
    "print ('p-value: ', test2[1])\n",
    "print ('Critical values: ', test2[4])\n",
    "if test2[0]> test2[4]['5%']: \n",
    "    print ('ряд нестационарен')\n",
    "else:\n",
    "    print ('ряд стационарен')"
   ]
  },
  {
   "cell_type": "code",
   "execution_count": 44,
   "metadata": {},
   "outputs": [
    {
     "name": "stderr",
     "output_type": "stream",
     "text": [
      "c:\\Users\\SEMEN\\AppData\\Local\\Programs\\Python\\Python39\\lib\\site-packages\\statsmodels\\tsa\\base\\tsa_model.py:471: ValueWarning: No frequency information was provided, so inferred frequency AS-JAN will be used.\n",
      "  self._init_dates(dates, freq)\n",
      "c:\\Users\\SEMEN\\AppData\\Local\\Programs\\Python\\Python39\\lib\\site-packages\\statsmodels\\tsa\\base\\tsa_model.py:471: ValueWarning: No frequency information was provided, so inferred frequency AS-JAN will be used.\n",
      "  self._init_dates(dates, freq)\n",
      "c:\\Users\\SEMEN\\AppData\\Local\\Programs\\Python\\Python39\\lib\\site-packages\\statsmodels\\tsa\\base\\tsa_model.py:471: ValueWarning: No frequency information was provided, so inferred frequency AS-JAN will be used.\n",
      "  self._init_dates(dates, freq)\n",
      "c:\\Users\\SEMEN\\AppData\\Local\\Programs\\Python\\Python39\\lib\\site-packages\\statsmodels\\tsa\\statespace\\sarimax.py:966: UserWarning: Non-stationary starting autoregressive parameters found. Using zeros as starting parameters.\n",
      "  warn('Non-stationary starting autoregressive parameters'\n",
      "c:\\Users\\SEMEN\\AppData\\Local\\Programs\\Python\\Python39\\lib\\site-packages\\statsmodels\\tsa\\statespace\\sarimax.py:978: UserWarning: Non-invertible starting MA parameters found. Using zeros as starting parameters.\n",
      "  warn('Non-invertible starting MA parameters found.'\n"
     ]
    },
    {
     "data": {
      "text/html": [
       "<table class=\"simpletable\">\n",
       "<caption>SARIMAX Results</caption>\n",
       "<tr>\n",
       "  <th>Dep. Variable:</th>   <td>GDP (current US$)</td> <th>  No. Observations:  </th>    <td>60</td>    \n",
       "</tr>\n",
       "<tr>\n",
       "  <th>Model:</th>            <td>ARIMA(1, 1, 1)</td>   <th>  Log Likelihood     </th> <td>-1385.001</td>\n",
       "</tr>\n",
       "<tr>\n",
       "  <th>Date:</th>            <td>Tue, 24 Jan 2023</td>  <th>  AIC                </th> <td>2776.003</td> \n",
       "</tr>\n",
       "<tr>\n",
       "  <th>Time:</th>                <td>13:40:42</td>      <th>  BIC                </th> <td>2782.235</td> \n",
       "</tr>\n",
       "<tr>\n",
       "  <th>Sample:</th>             <td>01-01-1960</td>     <th>  HQIC               </th> <td>2778.436</td> \n",
       "</tr>\n",
       "<tr>\n",
       "  <th></th>                   <td>- 01-01-2019</td>    <th>                     </th>     <td> </td>    \n",
       "</tr>\n",
       "<tr>\n",
       "  <th>Covariance Type:</th>        <td>opg</td>        <th>                     </th>     <td> </td>    \n",
       "</tr>\n",
       "</table>\n",
       "<table class=\"simpletable\">\n",
       "<tr>\n",
       "     <td></td>       <th>coef</th>     <th>std err</th>      <th>z</th>      <th>P>|z|</th>  <th>[0.025</th>    <th>0.975]</th>  \n",
       "</tr>\n",
       "<tr>\n",
       "  <th>ar.L1</th>  <td>    0.9788</td> <td>    0.149</td> <td>    6.581</td> <td> 0.000</td> <td>    0.687</td> <td>    1.270</td>\n",
       "</tr>\n",
       "<tr>\n",
       "  <th>ma.L1</th>  <td>   -0.8944</td> <td>    0.210</td> <td>   -4.261</td> <td> 0.000</td> <td>   -1.306</td> <td>   -0.483</td>\n",
       "</tr>\n",
       "<tr>\n",
       "  <th>sigma2</th> <td> 1.598e+19</td> <td>      nan</td> <td>      nan</td> <td>   nan</td> <td>      nan</td> <td>      nan</td>\n",
       "</tr>\n",
       "</table>\n",
       "<table class=\"simpletable\">\n",
       "<tr>\n",
       "  <th>Ljung-Box (L1) (Q):</th>      <td>1.75</td>  <th>  Jarque-Bera (JB):  </th> <td>368.62</td>\n",
       "</tr>\n",
       "<tr>\n",
       "  <th>Prob(Q):</th>                 <td>0.19</td>  <th>  Prob(JB):          </th>  <td>0.00</td> \n",
       "</tr>\n",
       "<tr>\n",
       "  <th>Heteroskedasticity (H):</th> <td>166.44</td> <th>  Skew:              </th>  <td>1.74</td> \n",
       "</tr>\n",
       "<tr>\n",
       "  <th>Prob(H) (two-sided):</th>     <td>0.00</td>  <th>  Kurtosis:          </th>  <td>14.74</td>\n",
       "</tr>\n",
       "</table><br/><br/>Warnings:<br/>[1] Covariance matrix calculated using the outer product of gradients (complex-step).<br/>[2] Covariance matrix is singular or near-singular, with condition number 5.34e+55. Standard errors may be unstable."
      ],
      "text/plain": [
       "<class 'statsmodels.iolib.summary.Summary'>\n",
       "\"\"\"\n",
       "                               SARIMAX Results                                \n",
       "==============================================================================\n",
       "Dep. Variable:      GDP (current US$)   No. Observations:                   60\n",
       "Model:                 ARIMA(1, 1, 1)   Log Likelihood               -1385.001\n",
       "Date:                Tue, 24 Jan 2023   AIC                           2776.003\n",
       "Time:                        13:40:42   BIC                           2782.235\n",
       "Sample:                    01-01-1960   HQIC                          2778.436\n",
       "                         - 01-01-2019                                         \n",
       "Covariance Type:                  opg                                         \n",
       "==============================================================================\n",
       "                 coef    std err          z      P>|z|      [0.025      0.975]\n",
       "------------------------------------------------------------------------------\n",
       "ar.L1          0.9788      0.149      6.581      0.000       0.687       1.270\n",
       "ma.L1         -0.8944      0.210     -4.261      0.000      -1.306      -0.483\n",
       "sigma2      1.598e+19        nan        nan        nan         nan         nan\n",
       "===================================================================================\n",
       "Ljung-Box (L1) (Q):                   1.75   Jarque-Bera (JB):               368.62\n",
       "Prob(Q):                              0.19   Prob(JB):                         0.00\n",
       "Heteroskedasticity (H):             166.44   Skew:                             1.74\n",
       "Prob(H) (two-sided):                  0.00   Kurtosis:                        14.74\n",
       "===================================================================================\n",
       "\n",
       "Warnings:\n",
       "[1] Covariance matrix calculated using the outer product of gradients (complex-step).\n",
       "[2] Covariance matrix is singular or near-singular, with condition number 5.34e+55. Standard errors may be unstable.\n",
       "\"\"\""
      ]
     },
     "execution_count": 44,
     "metadata": {},
     "output_type": "execute_result"
    }
   ],
   "source": [
    "from statsmodels.tsa.arima.model import ARIMA\n",
    "\n",
    "arima_model = ARIMA(train_df[\"GDP (current US$)\"].dropna(), order = (1, 1, 1))\n",
    "arima_model_fit = arima_model.fit()\n",
    "arima_model_fit.summary()"
   ]
  },
  {
   "cell_type": "code",
   "execution_count": 45,
   "metadata": {},
   "outputs": [
    {
     "name": "stdout",
     "output_type": "stream",
     "text": [
      "Performing stepwise search to minimize aic\n",
      " ARIMA(1,1,1)(0,1,1)[10]             : AIC=2315.922, Time=0.28 sec\n",
      " ARIMA(0,1,0)(0,1,0)[10]             : AIC=2313.238, Time=0.02 sec\n",
      " ARIMA(1,1,0)(1,1,0)[10]             : AIC=2314.932, Time=0.08 sec\n",
      " ARIMA(0,1,1)(0,1,1)[10]             : AIC=2315.329, Time=0.08 sec\n",
      " ARIMA(0,1,0)(1,1,0)[10]             : AIC=2314.082, Time=0.05 sec\n",
      " ARIMA(0,1,0)(0,1,1)[10]             : AIC=2330.967, Time=0.06 sec\n",
      " ARIMA(0,1,0)(1,1,1)[10]             : AIC=2331.985, Time=0.08 sec\n",
      " ARIMA(1,1,0)(0,1,0)[10]             : AIC=2314.098, Time=0.03 sec\n",
      " ARIMA(0,1,1)(0,1,0)[10]             : AIC=2314.248, Time=0.04 sec\n",
      " ARIMA(1,1,1)(0,1,0)[10]             : AIC=2315.649, Time=0.13 sec\n",
      " ARIMA(0,1,0)(0,1,0)[10] intercept   : AIC=2312.131, Time=0.03 sec\n",
      " ARIMA(0,1,0)(1,1,0)[10] intercept   : AIC=2312.174, Time=0.07 sec\n",
      " ARIMA(0,1,0)(0,1,1)[10] intercept   : AIC=2312.360, Time=0.07 sec\n",
      " ARIMA(0,1,0)(1,1,1)[10] intercept   : AIC=2314.091, Time=0.12 sec\n",
      " ARIMA(1,1,0)(0,1,0)[10] intercept   : AIC=2314.141, Time=0.04 sec\n",
      " ARIMA(0,1,1)(0,1,0)[10] intercept   : AIC=2314.276, Time=0.04 sec\n",
      " ARIMA(1,1,1)(0,1,0)[10] intercept   : AIC=2316.258, Time=0.10 sec\n",
      "\n",
      "Best model:  ARIMA(0,1,0)(0,1,0)[10] intercept\n",
      "Total fit time: 1.333 seconds\n"
     ]
    },
    {
     "data": {
      "text/html": [
       "<table class=\"simpletable\">\n",
       "<caption>SARIMAX Results</caption>\n",
       "<tr>\n",
       "  <th>Dep. Variable:</th>                  <td>y</td>               <th>  No. Observations:  </th>    <td>60</td>    \n",
       "</tr>\n",
       "<tr>\n",
       "  <th>Model:</th>           <td>SARIMAX(0, 1, 0)x(0, 1, 0, 10)</td> <th>  Log Likelihood     </th> <td>-1154.065</td>\n",
       "</tr>\n",
       "<tr>\n",
       "  <th>Date:</th>                   <td>Tue, 24 Jan 2023</td>        <th>  AIC                </th> <td>2312.131</td> \n",
       "</tr>\n",
       "<tr>\n",
       "  <th>Time:</th>                       <td>13:40:44</td>            <th>  BIC                </th> <td>2315.914</td> \n",
       "</tr>\n",
       "<tr>\n",
       "  <th>Sample:</th>                    <td>01-01-1960</td>           <th>  HQIC               </th> <td>2313.566</td> \n",
       "</tr>\n",
       "<tr>\n",
       "  <th></th>                          <td>- 01-01-2019</td>          <th>                     </th>     <td> </td>    \n",
       "</tr>\n",
       "<tr>\n",
       "  <th>Covariance Type:</th>               <td>opg</td>              <th>                     </th>     <td> </td>    \n",
       "</tr>\n",
       "</table>\n",
       "<table class=\"simpletable\">\n",
       "<tr>\n",
       "      <td></td>         <th>coef</th>     <th>std err</th>      <th>z</th>      <th>P>|z|</th>  <th>[0.025</th>    <th>0.975]</th>  \n",
       "</tr>\n",
       "<tr>\n",
       "  <th>intercept</th> <td> 8.427e+08</td> <td> 5.85e+08</td> <td>    1.440</td> <td> 0.150</td> <td>-3.04e+08</td> <td> 1.99e+09</td>\n",
       "</tr>\n",
       "<tr>\n",
       "  <th>sigma2</th>    <td> 1.678e+19</td> <td>    0.143</td> <td> 1.17e+20</td> <td> 0.000</td> <td> 1.68e+19</td> <td> 1.68e+19</td>\n",
       "</tr>\n",
       "</table>\n",
       "<table class=\"simpletable\">\n",
       "<tr>\n",
       "  <th>Ljung-Box (L1) (Q):</th>     <td>0.00</td>  <th>  Jarque-Bera (JB):  </th> <td>192.34</td>\n",
       "</tr>\n",
       "<tr>\n",
       "  <th>Prob(Q):</th>                <td>0.98</td>  <th>  Prob(JB):          </th>  <td>0.00</td> \n",
       "</tr>\n",
       "<tr>\n",
       "  <th>Heteroskedasticity (H):</th> <td>47.79</td> <th>  Skew:              </th>  <td>2.00</td> \n",
       "</tr>\n",
       "<tr>\n",
       "  <th>Prob(H) (two-sided):</th>    <td>0.00</td>  <th>  Kurtosis:          </th>  <td>11.84</td>\n",
       "</tr>\n",
       "</table><br/><br/>Warnings:<br/>[1] Covariance matrix calculated using the outer product of gradients (complex-step).<br/>[2] Covariance matrix is singular or near-singular, with condition number    inf. Standard errors may be unstable."
      ],
      "text/plain": [
       "<class 'statsmodels.iolib.summary.Summary'>\n",
       "\"\"\"\n",
       "                                     SARIMAX Results                                      \n",
       "==========================================================================================\n",
       "Dep. Variable:                                  y   No. Observations:                   60\n",
       "Model:             SARIMAX(0, 1, 0)x(0, 1, 0, 10)   Log Likelihood               -1154.065\n",
       "Date:                            Tue, 24 Jan 2023   AIC                           2312.131\n",
       "Time:                                    13:40:44   BIC                           2315.914\n",
       "Sample:                                01-01-1960   HQIC                          2313.566\n",
       "                                     - 01-01-2019                                         \n",
       "Covariance Type:                              opg                                         \n",
       "==============================================================================\n",
       "                 coef    std err          z      P>|z|      [0.025      0.975]\n",
       "------------------------------------------------------------------------------\n",
       "intercept   8.427e+08   5.85e+08      1.440      0.150   -3.04e+08    1.99e+09\n",
       "sigma2      1.678e+19      0.143   1.17e+20      0.000    1.68e+19    1.68e+19\n",
       "===================================================================================\n",
       "Ljung-Box (L1) (Q):                   0.00   Jarque-Bera (JB):               192.34\n",
       "Prob(Q):                              0.98   Prob(JB):                         0.00\n",
       "Heteroskedasticity (H):              47.79   Skew:                             2.00\n",
       "Prob(H) (two-sided):                  0.00   Kurtosis:                        11.84\n",
       "===================================================================================\n",
       "\n",
       "Warnings:\n",
       "[1] Covariance matrix calculated using the outer product of gradients (complex-step).\n",
       "[2] Covariance matrix is singular or near-singular, with condition number    inf. Standard errors may be unstable.\n",
       "\"\"\""
      ]
     },
     "execution_count": 45,
     "metadata": {},
     "output_type": "execute_result"
    }
   ],
   "source": [
    "import pmdarima as pm\n",
    "\n",
    "smodel = pm.auto_arima(train_df, start_p=1, start_q=1,\n",
    "                         test='adf',\n",
    "                         max_p=3, max_q=3, m=10,\n",
    "                         start_P=0, seasonal=True,\n",
    "                         d=1, D=1, trace=True,\n",
    "                         error_action='ignore',  \n",
    "                         suppress_warnings=True, \n",
    "                         stepwise=True)\n",
    "\n",
    "smodel.summary()"
   ]
  },
  {
   "attachments": {},
   "cell_type": "markdown",
   "metadata": {},
   "source": [
    "Постройте модель с наилучшими параметрами и выполните предсказание на три года."
   ]
  },
  {
   "cell_type": "code",
   "execution_count": 46,
   "metadata": {},
   "outputs": [
    {
     "name": "stderr",
     "output_type": "stream",
     "text": [
      "c:\\Users\\SEMEN\\AppData\\Local\\Programs\\Python\\Python39\\lib\\site-packages\\statsmodels\\tsa\\base\\tsa_model.py:471: ValueWarning: No frequency information was provided, so inferred frequency AS-JAN will be used.\n",
      "  self._init_dates(dates, freq)\n",
      "c:\\Users\\SEMEN\\AppData\\Local\\Programs\\Python\\Python39\\lib\\site-packages\\statsmodels\\tsa\\base\\tsa_model.py:471: ValueWarning: No frequency information was provided, so inferred frequency AS-JAN will be used.\n",
      "  self._init_dates(dates, freq)\n"
     ]
    },
    {
     "data": {
      "text/html": [
       "<table class=\"simpletable\">\n",
       "<caption>SARIMAX Results</caption>\n",
       "<tr>\n",
       "  <th>Dep. Variable:</th>          <td>GDP (current US$)</td>       <th>  No. Observations:  </th>    <td>60</td>    \n",
       "</tr>\n",
       "<tr>\n",
       "  <th>Model:</th>           <td>SARIMAX(0, 1, 0)x(0, 1, 0, 10)</td> <th>  Log Likelihood     </th> <td>-1155.619</td>\n",
       "</tr>\n",
       "<tr>\n",
       "  <th>Date:</th>                   <td>Tue, 24 Jan 2023</td>        <th>  AIC                </th> <td>2313.238</td> \n",
       "</tr>\n",
       "<tr>\n",
       "  <th>Time:</th>                       <td>13:40:44</td>            <th>  BIC                </th> <td>2315.129</td> \n",
       "</tr>\n",
       "<tr>\n",
       "  <th>Sample:</th>                    <td>01-01-1960</td>           <th>  HQIC               </th> <td>2313.955</td> \n",
       "</tr>\n",
       "<tr>\n",
       "  <th></th>                          <td>- 01-01-2019</td>          <th>                     </th>     <td> </td>    \n",
       "</tr>\n",
       "<tr>\n",
       "  <th>Covariance Type:</th>               <td>opg</td>              <th>                     </th>     <td> </td>    \n",
       "</tr>\n",
       "</table>\n",
       "<table class=\"simpletable\">\n",
       "<tr>\n",
       "     <td></td>       <th>coef</th>     <th>std err</th>      <th>z</th>      <th>P>|z|</th>  <th>[0.025</th>    <th>0.975]</th>  \n",
       "</tr>\n",
       "<tr>\n",
       "  <th>sigma2</th> <td> 1.429e+19</td> <td> 9.75e+17</td> <td>   14.650</td> <td> 0.000</td> <td> 1.24e+19</td> <td> 1.62e+19</td>\n",
       "</tr>\n",
       "</table>\n",
       "<table class=\"simpletable\">\n",
       "<tr>\n",
       "  <th>Ljung-Box (L1) (Q):</th>      <td>0.00</td>  <th>  Jarque-Bera (JB):  </th> <td>192.34</td>\n",
       "</tr>\n",
       "<tr>\n",
       "  <th>Prob(Q):</th>                 <td>0.98</td>  <th>  Prob(JB):          </th>  <td>0.00</td> \n",
       "</tr>\n",
       "<tr>\n",
       "  <th>Heteroskedasticity (H):</th> <td>102.55</td> <th>  Skew:              </th>  <td>2.00</td> \n",
       "</tr>\n",
       "<tr>\n",
       "  <th>Prob(H) (two-sided):</th>     <td>0.00</td>  <th>  Kurtosis:          </th>  <td>11.84</td>\n",
       "</tr>\n",
       "</table><br/><br/>Warnings:<br/>[1] Covariance matrix calculated using the outer product of gradients (complex-step)."
      ],
      "text/plain": [
       "<class 'statsmodels.iolib.summary.Summary'>\n",
       "\"\"\"\n",
       "                                     SARIMAX Results                                      \n",
       "==========================================================================================\n",
       "Dep. Variable:                  GDP (current US$)   No. Observations:                   60\n",
       "Model:             SARIMAX(0, 1, 0)x(0, 1, 0, 10)   Log Likelihood               -1155.619\n",
       "Date:                            Tue, 24 Jan 2023   AIC                           2313.238\n",
       "Time:                                    13:40:44   BIC                           2315.129\n",
       "Sample:                                01-01-1960   HQIC                          2313.955\n",
       "                                     - 01-01-2019                                         \n",
       "Covariance Type:                              opg                                         \n",
       "==============================================================================\n",
       "                 coef    std err          z      P>|z|      [0.025      0.975]\n",
       "------------------------------------------------------------------------------\n",
       "sigma2      1.429e+19   9.75e+17     14.650      0.000    1.24e+19    1.62e+19\n",
       "===================================================================================\n",
       "Ljung-Box (L1) (Q):                   0.00   Jarque-Bera (JB):               192.34\n",
       "Prob(Q):                              0.98   Prob(JB):                         0.00\n",
       "Heteroskedasticity (H):             102.55   Skew:                             2.00\n",
       "Prob(H) (two-sided):                  0.00   Kurtosis:                        11.84\n",
       "===================================================================================\n",
       "\n",
       "Warnings:\n",
       "[1] Covariance matrix calculated using the outer product of gradients (complex-step).\n",
       "\"\"\""
      ]
     },
     "execution_count": 46,
     "metadata": {},
     "output_type": "execute_result"
    }
   ],
   "source": [
    "from statsmodels.tsa.statespace.sarimax import SARIMAX\n",
    "seas_model = SARIMAX(train_df[\"GDP (current US$)\"].dropna(), order = (0, 1, 0), seasonal_order = (0, 1, 0, 10))\n",
    "seas_model_fit = seas_model.fit()\n",
    "seas_model_fit.summary()"
   ]
  },
  {
   "cell_type": "code",
   "execution_count": 47,
   "metadata": {},
   "outputs": [],
   "source": [
    "pred_df = pd.DataFrame(index = data.index)\n",
    "pred_df[\"model_preds\"] = seas_model_fit.predict(start = test_df.index[1], end = test_df.index[-1])\n",
    "\n",
    "\n",
    "pred_df[\"GDP (current US$)\"] = data[\"GDP (current US$)\"]\n",
    "\n",
    "forecast = seas_model_fit.get_forecast(len(test_df.index))\n",
    "forecast_df = forecast.conf_int(alpha = 0.05) # Confidence level of 95%\n",
    "\n",
    "pred_df.at[test_df.index, \"model_preds_lower\"] = forecast_df[\"lower GDP (current US$)\"]\n",
    "pred_df.at[test_df.index, \"model_preds_upper\"] = forecast_df[\"upper GDP (current US$)\"]"
   ]
  },
  {
   "attachments": {},
   "cell_type": "markdown",
   "metadata": {},
   "source": [
    "Отобразите результат графически."
   ]
  },
  {
   "cell_type": "code",
   "execution_count": 48,
   "metadata": {},
   "outputs": [
    {
     "data": {
      "image/png": "[encoded data removed]",
      "text/plain": [
       "<Figure size 1296x864 with 2 Axes>"
      ]
     },
     "metadata": {
      "needs_background": "light"
     },
     "output_type": "display_data"
    }
   ],
   "source": [
    "plt.rcParams[\"figure.figsize\"] = 18, 12\n",
    "\n",
    "plt.subplot(2, 1, 1)\n",
    "plt.plot(pred_df[\"GDP (current US$)\"], color = \"blue\", label = \"Actuals\", alpha = 0.4)\n",
    "plt.plot(pred_df.loc[test_df.index][\"model_preds\"], color = \"red\", linestyle = \"-\", label = \"Out of Sample Fit\")\n",
    "plt.plot(pred_df.loc[test_df.index][\"model_preds_lower\"], color = \"green\", linestyle = \"--\", label = \"Confidence Intervals (95%)\", alpha = 0.4)\n",
    "plt.plot(pred_df.loc[test_df.index][\"model_preds_upper\"], color = \"green\", linestyle = \"--\", alpha = 0.4)\n",
    "plt.title(\"Full Model Fit\", size = 24)\n",
    "plt.legend()\n",
    "\n",
    "plt.subplot(2, 2, 3)\n",
    "plt.plot(pred_df.loc[test_df.index][\"GDP (current US$)\"], color = \"blue\", label = \"Actuals\", alpha = 0.6)\n",
    "plt.plot(pred_df.loc[test_df.index][\"model_preds\"], color = \"red\", linestyle = \"-\", label = \"Out of Sample Fit\", alpha = 0.6)\n",
    "plt.plot(pred_df.loc[test_df.index][\"model_preds_lower\"], color = \"green\", linestyle = \"--\", label = \"Confidence Intervals (95%)\", alpha = 0.6)\n",
    "plt.plot(pred_df.loc[test_df.index][\"model_preds_upper\"], color = \"green\", linestyle = \"--\", alpha = 0.6)\n",
    "plt.title(\"Out of Sample Fit\", size = 24)\n",
    "plt.legend()\n",
    "\n",
    "plt.show()"
   ]
  },
  {
   "attachments": {},
   "cell_type": "markdown",
   "metadata": {},
   "source": [
    "Модель уловила тренд, предсказания попали в доверительный интервал. Выбранная модель справилась с поставленной задачей! Используем для предсказания!"
   ]
  },
  {
   "attachments": {},
   "cell_type": "markdown",
   "metadata": {},
   "source": [
    "Проверьте данные на наличие пропущенных дат."
   ]
  },
  {
   "cell_type": "code",
   "execution_count": 49,
   "metadata": {},
   "outputs": [
    {
     "data": {
      "text/html": [
       "<div>\n",
       "<style scoped>\n",
       "    .dataframe tbody tr th:only-of-type {\n",
       "        vertical-align: middle;\n",
       "    }\n",
       "\n",
       "    .dataframe tbody tr th {\n",
       "        vertical-align: top;\n",
       "    }\n",
       "\n",
       "    .dataframe thead th {\n",
       "        text-align: right;\n",
       "    }\n",
       "</style>\n",
       "<table border=\"1\" class=\"dataframe\">\n",
       "  <thead>\n",
       "    <tr style=\"text-align: right;\">\n",
       "      <th></th>\n",
       "      <th>GDP (current US$)</th>\n",
       "    </tr>\n",
       "    <tr>\n",
       "      <th>year</th>\n",
       "      <th></th>\n",
       "    </tr>\n",
       "  </thead>\n",
       "  <tbody>\n",
       "    <tr>\n",
       "      <th>1960-01-01</th>\n",
       "      <td>1.217087e+09</td>\n",
       "    </tr>\n",
       "    <tr>\n",
       "      <th>1961-01-01</th>\n",
       "      <td>0.000000e+00</td>\n",
       "    </tr>\n",
       "    <tr>\n",
       "      <th>1962-01-01</th>\n",
       "      <td>1.382353e+09</td>\n",
       "    </tr>\n",
       "    <tr>\n",
       "      <th>1963-01-01</th>\n",
       "      <td>1.540616e+09</td>\n",
       "    </tr>\n",
       "    <tr>\n",
       "      <th>1964-01-01</th>\n",
       "      <td>1.731092e+09</td>\n",
       "    </tr>\n",
       "    <tr>\n",
       "      <th>...</th>\n",
       "      <td>...</td>\n",
       "    </tr>\n",
       "    <tr>\n",
       "      <th>2017-01-01</th>\n",
       "      <td>6.040638e+10</td>\n",
       "    </tr>\n",
       "    <tr>\n",
       "      <th>2018-01-01</th>\n",
       "      <td>6.729928e+10</td>\n",
       "    </tr>\n",
       "    <tr>\n",
       "      <th>2019-01-01</th>\n",
       "      <td>6.833754e+10</td>\n",
       "    </tr>\n",
       "    <tr>\n",
       "      <th>2020-01-01</th>\n",
       "      <td>7.004320e+10</td>\n",
       "    </tr>\n",
       "    <tr>\n",
       "      <th>2021-01-01</th>\n",
       "      <td>7.759428e+10</td>\n",
       "    </tr>\n",
       "  </tbody>\n",
       "</table>\n",
       "<p>62 rows × 1 columns</p>\n",
       "</div>"
      ],
      "text/plain": [
       "            GDP (current US$)\n",
       "year                         \n",
       "1960-01-01       1.217087e+09\n",
       "1961-01-01       0.000000e+00\n",
       "1962-01-01       1.382353e+09\n",
       "1963-01-01       1.540616e+09\n",
       "1964-01-01       1.731092e+09\n",
       "...                       ...\n",
       "2017-01-01       6.040638e+10\n",
       "2018-01-01       6.729928e+10\n",
       "2019-01-01       6.833754e+10\n",
       "2020-01-01       7.004320e+10\n",
       "2021-01-01       7.759428e+10\n",
       "\n",
       "[62 rows x 1 columns]"
      ]
     },
     "execution_count": 49,
     "metadata": {},
     "output_type": "execute_result"
    }
   ],
   "source": [
    "data.asfreq(freq='AS')"
   ]
  },
  {
   "attachments": {},
   "cell_type": "markdown",
   "metadata": {},
   "source": [
    "Проверьте данные на наличие пропущенных значений."
   ]
  },
  {
   "cell_type": "code",
   "execution_count": 50,
   "metadata": {},
   "outputs": [
    {
     "name": "stdout",
     "output_type": "stream",
     "text": [
      "0\n"
     ]
    }
   ],
   "source": [
    "print(data.isnull().sum().sum())"
   ]
  },
  {
   "attachments": {},
   "cell_type": "markdown",
   "metadata": {},
   "source": [
    "Обратите внимание, что иногда пропуски в данных могут быть заполнены нулями. Сделайте проверку на наличие нулевых значений и в случае нахождения замените их на NaN."
   ]
  },
  {
   "cell_type": "code",
   "execution_count": 51,
   "metadata": {},
   "outputs": [],
   "source": [
    "import numpy as np\n",
    "data['GDP (current US$)'] = data['GDP (current US$)'].apply(lambda x: np.nan if x==0 else x)"
   ]
  },
  {
   "attachments": {},
   "cell_type": "markdown",
   "metadata": {},
   "source": [
    "Для заполнения пропусков выполните интерполяцию с использованием метода .interpolate()"
   ]
  },
  {
   "cell_type": "code",
   "execution_count": 71,
   "metadata": {},
   "outputs": [
    {
     "name": "stdout",
     "output_type": "stream",
     "text": [
      "(62, 1)\n"
     ]
    },
    {
     "data": {
      "text/plain": [
       "<AxesSubplot:xlabel='year'>"
      ]
     },
     "execution_count": 71,
     "metadata": {},
     "output_type": "execute_result"
    },
    {
     "data": {
      "image/png": "[encoded data removed]",
      "text/plain": [
       "<Figure size 1296x864 with 1 Axes>"
      ]
     },
     "metadata": {
      "needs_background": "light"
     },
     "output_type": "display_data"
    }
   ],
   "source": [
    "data_int = pd.DataFrame(data['GDP (current US$)'].interpolate(), columns = ['GDP (current US$)'])\n",
    "print(data_int.shape)\n",
    "data_int.plot()\n"
   ]
  },
  {
   "attachments": {},
   "cell_type": "markdown",
   "metadata": {},
   "source": [
    "Проверьте полученный ряд на стационарность, определите параметры модели (ARIMA/ARMA) и запустите модель"
   ]
  },
  {
   "cell_type": "code",
   "execution_count": 72,
   "metadata": {},
   "outputs": [
    {
     "data": {
      "text/plain": [
       "((59, 1), (3, 1))"
      ]
     },
     "execution_count": 72,
     "metadata": {},
     "output_type": "execute_result"
    }
   ],
   "source": [
    "train_df = data_int.loc[:\"2018-01-01\"]\n",
    "test_df = data_int.loc[\"2019-01-01\":]\n",
    "train_df.shape, test_df.shape"
   ]
  },
  {
   "cell_type": "code",
   "execution_count": 73,
   "metadata": {},
   "outputs": [
    {
     "data": {
      "text/plain": [
       "(0.8030073326980092,\n",
       " 0.9916845572455876,\n",
       " 10,\n",
       " 48,\n",
       " {'1%': -3.5745892596209488,\n",
       "  '5%': -2.9239543084490744,\n",
       "  '10%': -2.6000391840277777},\n",
       " 2194.307284305165)"
      ]
     },
     "execution_count": 73,
     "metadata": {},
     "output_type": "execute_result"
    }
   ],
   "source": [
    "from statsmodels.tsa.stattools import adfuller\n",
    "\n",
    "adfuller(train_df)"
   ]
  },
  {
   "cell_type": "code",
   "execution_count": 74,
   "metadata": {},
   "outputs": [
    {
     "name": "stdout",
     "output_type": "stream",
     "text": [
      "adf:  0.8030073326980092\n",
      "p-value:  0.9916845572455876\n",
      "Critical values:  {'1%': -3.5745892596209488, '5%': -2.9239543084490744, '10%': -2.6000391840277777}\n",
      "ряд нестационарен\n"
     ]
    }
   ],
   "source": [
    "adfuller(train_df['GDP (current US$)'])\n",
    "test1 = adfuller(train_df['GDP (current US$)'])\n",
    "print ('adf: ', test1[0])\n",
    "print ('p-value: ', test1[1])\n",
    "print ('Critical values: ', test1[4])\n",
    "if test1[0]> test1[4]['5%']: \n",
    "    print ('ряд нестационарен')\n",
    "else:\n",
    "    print ('ряд стационарен')"
   ]
  },
  {
   "cell_type": "code",
   "execution_count": 75,
   "metadata": {},
   "outputs": [
    {
     "name": "stdout",
     "output_type": "stream",
     "text": [
      "Performing stepwise search to minimize aic\n",
      " ARIMA(1,1,1)(0,1,1)[10]             : AIC=2269.489, Time=0.39 sec\n",
      " ARIMA(0,1,0)(0,1,0)[10]             : AIC=2266.073, Time=0.02 sec\n",
      " ARIMA(1,1,0)(1,1,0)[10]             : AIC=2268.247, Time=0.06 sec\n",
      " ARIMA(0,1,1)(0,1,1)[10]             : AIC=2268.555, Time=0.09 sec\n",
      " ARIMA(0,1,0)(1,1,0)[10]             : AIC=2267.437, Time=0.06 sec\n",
      " ARIMA(0,1,0)(0,1,1)[10]             : AIC=2284.607, Time=0.08 sec\n",
      " ARIMA(0,1,0)(1,1,1)[10]             : AIC=2286.362, Time=0.11 sec\n",
      " ARIMA(1,1,0)(0,1,0)[10]             : AIC=2266.944, Time=0.05 sec\n",
      " ARIMA(0,1,1)(0,1,0)[10]             : AIC=2267.115, Time=0.06 sec\n",
      " ARIMA(1,1,1)(0,1,0)[10]             : AIC=2268.635, Time=0.11 sec\n",
      " ARIMA(0,1,0)(0,1,0)[10] intercept   : AIC=2265.260, Time=0.04 sec\n",
      " ARIMA(0,1,0)(1,1,0)[10] intercept   : AIC=2265.848, Time=0.09 sec\n",
      " ARIMA(0,1,0)(0,1,1)[10] intercept   : AIC=2265.889, Time=0.07 sec\n",
      " ARIMA(0,1,0)(1,1,1)[10] intercept   : AIC=2267.753, Time=0.14 sec\n",
      " ARIMA(1,1,0)(0,1,0)[10] intercept   : AIC=2267.270, Time=0.04 sec\n",
      " ARIMA(0,1,1)(0,1,0)[10] intercept   : AIC=2267.432, Time=0.06 sec\n",
      " ARIMA(1,1,1)(0,1,0)[10] intercept   : AIC=2269.407, Time=0.14 sec\n",
      "\n",
      "Best model:  ARIMA(0,1,0)(0,1,0)[10] intercept\n",
      "Total fit time: 1.637 seconds\n"
     ]
    },
    {
     "data": {
      "text/html": [
       "<table class=\"simpletable\">\n",
       "<caption>SARIMAX Results</caption>\n",
       "<tr>\n",
       "  <th>Dep. Variable:</th>                  <td>y</td>               <th>  No. Observations:  </th>    <td>59</td>    \n",
       "</tr>\n",
       "<tr>\n",
       "  <th>Model:</th>           <td>SARIMAX(0, 1, 0)x(0, 1, 0, 10)</td> <th>  Log Likelihood     </th> <td>-1130.630</td>\n",
       "</tr>\n",
       "<tr>\n",
       "  <th>Date:</th>                   <td>Tue, 24 Jan 2023</td>        <th>  AIC                </th> <td>2265.260</td> \n",
       "</tr>\n",
       "<tr>\n",
       "  <th>Time:</th>                       <td>14:04:21</td>            <th>  BIC                </th> <td>2269.002</td> \n",
       "</tr>\n",
       "<tr>\n",
       "  <th>Sample:</th>                    <td>01-01-1960</td>           <th>  HQIC               </th> <td>2266.674</td> \n",
       "</tr>\n",
       "<tr>\n",
       "  <th></th>                          <td>- 01-01-2018</td>          <th>                     </th>     <td> </td>    \n",
       "</tr>\n",
       "<tr>\n",
       "  <th>Covariance Type:</th>               <td>opg</td>              <th>                     </th>     <td> </td>    \n",
       "</tr>\n",
       "</table>\n",
       "<table class=\"simpletable\">\n",
       "<tr>\n",
       "      <td></td>         <th>coef</th>     <th>std err</th>      <th>z</th>      <th>P>|z|</th>  <th>[0.025</th>    <th>0.975]</th>  \n",
       "</tr>\n",
       "<tr>\n",
       "  <th>intercept</th> <td> 7.838e+08</td> <td> 5.93e+08</td> <td>    1.322</td> <td> 0.186</td> <td>-3.78e+08</td> <td> 1.95e+09</td>\n",
       "</tr>\n",
       "<tr>\n",
       "  <th>sigma2</th>    <td> 1.686e+19</td> <td>    0.149</td> <td> 1.13e+20</td> <td> 0.000</td> <td> 1.69e+19</td> <td> 1.69e+19</td>\n",
       "</tr>\n",
       "</table>\n",
       "<table class=\"simpletable\">\n",
       "<tr>\n",
       "  <th>Ljung-Box (L1) (Q):</th>     <td>0.00</td>  <th>  Jarque-Bera (JB):  </th> <td>199.19</td>\n",
       "</tr>\n",
       "<tr>\n",
       "  <th>Prob(Q):</th>                <td>0.98</td>  <th>  Prob(JB):          </th>  <td>0.00</td> \n",
       "</tr>\n",
       "<tr>\n",
       "  <th>Heteroskedasticity (H):</th> <td>75.73</td> <th>  Skew:              </th>  <td>2.07</td> \n",
       "</tr>\n",
       "<tr>\n",
       "  <th>Prob(H) (two-sided):</th>    <td>0.00</td>  <th>  Kurtosis:          </th>  <td>12.08</td>\n",
       "</tr>\n",
       "</table><br/><br/>Warnings:<br/>[1] Covariance matrix calculated using the outer product of gradients (complex-step).<br/>[2] Covariance matrix is singular or near-singular, with condition number    inf. Standard errors may be unstable."
      ],
      "text/plain": [
       "<class 'statsmodels.iolib.summary.Summary'>\n",
       "\"\"\"\n",
       "                                     SARIMAX Results                                      \n",
       "==========================================================================================\n",
       "Dep. Variable:                                  y   No. Observations:                   59\n",
       "Model:             SARIMAX(0, 1, 0)x(0, 1, 0, 10)   Log Likelihood               -1130.630\n",
       "Date:                            Tue, 24 Jan 2023   AIC                           2265.260\n",
       "Time:                                    14:04:21   BIC                           2269.002\n",
       "Sample:                                01-01-1960   HQIC                          2266.674\n",
       "                                     - 01-01-2018                                         \n",
       "Covariance Type:                              opg                                         \n",
       "==============================================================================\n",
       "                 coef    std err          z      P>|z|      [0.025      0.975]\n",
       "------------------------------------------------------------------------------\n",
       "intercept   7.838e+08   5.93e+08      1.322      0.186   -3.78e+08    1.95e+09\n",
       "sigma2      1.686e+19      0.149   1.13e+20      0.000    1.69e+19    1.69e+19\n",
       "===================================================================================\n",
       "Ljung-Box (L1) (Q):                   0.00   Jarque-Bera (JB):               199.19\n",
       "Prob(Q):                              0.98   Prob(JB):                         0.00\n",
       "Heteroskedasticity (H):              75.73   Skew:                             2.07\n",
       "Prob(H) (two-sided):                  0.00   Kurtosis:                        12.08\n",
       "===================================================================================\n",
       "\n",
       "Warnings:\n",
       "[1] Covariance matrix calculated using the outer product of gradients (complex-step).\n",
       "[2] Covariance matrix is singular or near-singular, with condition number    inf. Standard errors may be unstable.\n",
       "\"\"\""
      ]
     },
     "execution_count": 75,
     "metadata": {},
     "output_type": "execute_result"
    }
   ],
   "source": [
    "import pmdarima as pm\n",
    "\n",
    "smodel = pm.auto_arima(train_df, start_p=1, start_q=1,\n",
    "                         test='adf',\n",
    "                         max_p=3, max_q=3, m=10,\n",
    "                         start_P=0, seasonal=True,\n",
    "                         d=1, D=1, trace=True,\n",
    "                         error_action='ignore',  \n",
    "                         suppress_warnings=True, \n",
    "                         stepwise=True)\n",
    "\n",
    "smodel.summary()"
   ]
  },
  {
   "cell_type": "code",
   "execution_count": 76,
   "metadata": {},
   "outputs": [
    {
     "name": "stderr",
     "output_type": "stream",
     "text": [
      "c:\\Users\\SEMEN\\AppData\\Local\\Programs\\Python\\Python39\\lib\\site-packages\\statsmodels\\tsa\\base\\tsa_model.py:471: ValueWarning: No frequency information was provided, so inferred frequency AS-JAN will be used.\n",
      "  self._init_dates(dates, freq)\n",
      "c:\\Users\\SEMEN\\AppData\\Local\\Programs\\Python\\Python39\\lib\\site-packages\\statsmodels\\tsa\\base\\tsa_model.py:471: ValueWarning: No frequency information was provided, so inferred frequency AS-JAN will be used.\n",
      "  self._init_dates(dates, freq)\n"
     ]
    },
    {
     "data": {
      "text/html": [
       "<table class=\"simpletable\">\n",
       "<caption>SARIMAX Results</caption>\n",
       "<tr>\n",
       "  <th>Dep. Variable:</th>          <td>GDP (current US$)</td>       <th>  No. Observations:  </th>    <td>59</td>    \n",
       "</tr>\n",
       "<tr>\n",
       "  <th>Model:</th>           <td>SARIMAX(0, 1, 0)x(0, 1, 0, 10)</td> <th>  Log Likelihood     </th> <td>-1132.036</td>\n",
       "</tr>\n",
       "<tr>\n",
       "  <th>Date:</th>                   <td>Tue, 24 Jan 2023</td>        <th>  AIC                </th> <td>2266.073</td> \n",
       "</tr>\n",
       "<tr>\n",
       "  <th>Time:</th>                       <td>14:04:29</td>            <th>  BIC                </th> <td>2267.944</td> \n",
       "</tr>\n",
       "<tr>\n",
       "  <th>Sample:</th>                    <td>01-01-1960</td>           <th>  HQIC               </th> <td>2266.780</td> \n",
       "</tr>\n",
       "<tr>\n",
       "  <th></th>                          <td>- 01-01-2018</td>          <th>                     </th>     <td> </td>    \n",
       "</tr>\n",
       "<tr>\n",
       "  <th>Covariance Type:</th>               <td>opg</td>              <th>                     </th>     <td> </td>    \n",
       "</tr>\n",
       "</table>\n",
       "<table class=\"simpletable\">\n",
       "<tr>\n",
       "     <td></td>       <th>coef</th>     <th>std err</th>      <th>z</th>      <th>P>|z|</th>  <th>[0.025</th>    <th>0.975]</th>  \n",
       "</tr>\n",
       "<tr>\n",
       "  <th>sigma2</th> <td> 1.422e+19</td> <td> 9.66e+17</td> <td>   14.724</td> <td> 0.000</td> <td> 1.23e+19</td> <td> 1.61e+19</td>\n",
       "</tr>\n",
       "</table>\n",
       "<table class=\"simpletable\">\n",
       "<tr>\n",
       "  <th>Ljung-Box (L1) (Q):</th>      <td>0.00</td>  <th>  Jarque-Bera (JB):  </th> <td>199.19</td>\n",
       "</tr>\n",
       "<tr>\n",
       "  <th>Prob(Q):</th>                 <td>0.98</td>  <th>  Prob(JB):          </th>  <td>0.00</td> \n",
       "</tr>\n",
       "<tr>\n",
       "  <th>Heteroskedasticity (H):</th> <td>242.46</td> <th>  Skew:              </th>  <td>2.07</td> \n",
       "</tr>\n",
       "<tr>\n",
       "  <th>Prob(H) (two-sided):</th>     <td>0.00</td>  <th>  Kurtosis:          </th>  <td>12.08</td>\n",
       "</tr>\n",
       "</table><br/><br/>Warnings:<br/>[1] Covariance matrix calculated using the outer product of gradients (complex-step)."
      ],
      "text/plain": [
       "<class 'statsmodels.iolib.summary.Summary'>\n",
       "\"\"\"\n",
       "                                     SARIMAX Results                                      \n",
       "==========================================================================================\n",
       "Dep. Variable:                  GDP (current US$)   No. Observations:                   59\n",
       "Model:             SARIMAX(0, 1, 0)x(0, 1, 0, 10)   Log Likelihood               -1132.036\n",
       "Date:                            Tue, 24 Jan 2023   AIC                           2266.073\n",
       "Time:                                    14:04:29   BIC                           2267.944\n",
       "Sample:                                01-01-1960   HQIC                          2266.780\n",
       "                                     - 01-01-2018                                         \n",
       "Covariance Type:                              opg                                         \n",
       "==============================================================================\n",
       "                 coef    std err          z      P>|z|      [0.025      0.975]\n",
       "------------------------------------------------------------------------------\n",
       "sigma2      1.422e+19   9.66e+17     14.724      0.000    1.23e+19    1.61e+19\n",
       "===================================================================================\n",
       "Ljung-Box (L1) (Q):                   0.00   Jarque-Bera (JB):               199.19\n",
       "Prob(Q):                              0.98   Prob(JB):                         0.00\n",
       "Heteroskedasticity (H):             242.46   Skew:                             2.07\n",
       "Prob(H) (two-sided):                  0.00   Kurtosis:                        12.08\n",
       "===================================================================================\n",
       "\n",
       "Warnings:\n",
       "[1] Covariance matrix calculated using the outer product of gradients (complex-step).\n",
       "\"\"\""
      ]
     },
     "execution_count": 76,
     "metadata": {},
     "output_type": "execute_result"
    }
   ],
   "source": [
    "from statsmodels.tsa.statespace.sarimax import SARIMAX\n",
    "seas_model = SARIMAX(train_df.dropna(), order = (0, 1, 0), seasonal_order = (0, 1, 0, 10))\n",
    "seas_model_fit = seas_model.fit()\n",
    "seas_model_fit.summary()"
   ]
  },
  {
   "attachments": {},
   "cell_type": "markdown",
   "metadata": {},
   "source": [
    "Изменился AIC критерий построенной модели по сравнению с моделью на неинтерполированных данных - уменьшился <=> улучшился."
   ]
  },
  {
   "cell_type": "code",
   "execution_count": 77,
   "metadata": {},
   "outputs": [],
   "source": [
    "from sklearn.model_selection import TimeSeriesSplit\n",
    "tscv = TimeSeriesSplit(n_splits=3, test_size=7)"
   ]
  },
  {
   "cell_type": "code",
   "execution_count": 78,
   "metadata": {},
   "outputs": [
    {
     "name": "stdout",
     "output_type": "stream",
     "text": [
      "TRAIN size: 41 TEST size: 7\n",
      "TRAIN size: 48 TEST size: 7\n",
      "TRAIN size: 55 TEST size: 7\n"
     ]
    }
   ],
   "source": [
    "\n",
    "train_test_groups = tscv.split(data) \n",
    "for train_index, test_index in train_test_groups:\n",
    "    print(\"TRAIN size:\", len(train_index), \"TEST size:\", len(test_index))"
   ]
  },
  {
   "attachments": {},
   "cell_type": "markdown",
   "metadata": {},
   "source": [
    "Посчитайте волатильность для вашего временного ряда."
   ]
  },
  {
   "cell_type": "code",
   "execution_count": 79,
   "metadata": {},
   "outputs": [
    {
     "data": {
      "text/plain": [
       "year\n",
       "1960-01-01          NaN\n",
       "1961-01-01     0.000000\n",
       "1962-01-01    13.578826\n",
       "1963-01-01    11.448835\n",
       "1964-01-01    12.363636\n",
       "Name: GDP (current US$)_vol, dtype: float64"
      ]
     },
     "execution_count": 79,
     "metadata": {},
     "output_type": "execute_result"
    }
   ],
   "source": [
    "data['GDP (current US$)_vol'] = data['GDP (current US$)'].pct_change(1).mul(100).abs()\n",
    "data['GDP (current US$)_vol'].head()"
   ]
  },
  {
   "cell_type": "code",
   "execution_count": 80,
   "metadata": {},
   "outputs": [
    {
     "data": {
      "text/plain": [
       "<AxesSubplot:xlabel='year'>"
      ]
     },
     "execution_count": 80,
     "metadata": {},
     "output_type": "execute_result"
    },
    {
     "data": {
      "image/png": "[encoded data removed]",
      "text/plain": [
       "<Figure size 1296x864 with 1 Axes>"
      ]
     },
     "metadata": {
      "needs_background": "light"
     },
     "output_type": "display_data"
    }
   ],
   "source": [
    "data['GDP (current US$)_vol'].plot()"
   ]
  },
  {
   "attachments": {},
   "cell_type": "markdown",
   "metadata": {},
   "source": [
    "Используйте GARCH-модель для предсказания волатильности"
   ]
  },
  {
   "cell_type": "code",
   "execution_count": 89,
   "metadata": {},
   "outputs": [],
   "source": [
    "train_df = data.loc[:\"2019-01-01\"]\n",
    "test_df = data.loc[\"2019-01-01\":]"
   ]
  },
  {
   "cell_type": "code",
   "execution_count": 91,
   "metadata": {},
   "outputs": [],
   "source": [
    "garch_df = pd.DataFrame(data['GDP (current US$)_vol'].loc[data.index]) \n",
    "garch_df.loc[train_df.index, 'GDP (current US$)_vol'] = train_df['GDP (current US$)_vol'].dropna()"
   ]
  },
  {
   "cell_type": "code",
   "execution_count": 92,
   "metadata": {},
   "outputs": [
    {
     "name": "stdout",
     "output_type": "stream",
     "text": [
      "Iteration:      5,   Func. Count:     39,   Neg. LLF: 229.3859465639944\n",
      "Iteration:     10,   Func. Count:     75,   Neg. LLF: 227.7029573981161\n",
      "Iteration:     15,   Func. Count:    110,   Neg. LLF: 227.56407851901568\n",
      "Iteration:     20,   Func. Count:    145,   Neg. LLF: 227.48396484447403\n",
      "Optimization terminated successfully    (Exit mode 0)\n",
      "            Current function value: 227.48361196906473\n",
      "            Iterations: 23\n",
      "            Function evaluations: 158\n",
      "            Gradient evaluations: 22\n"
     ]
    }
   ],
   "source": [
    "from arch import arch_model\n",
    "model = arch_model(garch_df['GDP (current US$)_vol'].dropna(), p = 2, q = 2, vol = \"GARCH\")\n",
    "model_results = model.fit(last_obs = test_df.index[0], update_freq = 5)"
   ]
  },
  {
   "cell_type": "code",
   "execution_count": 93,
   "metadata": {},
   "outputs": [
    {
     "name": "stderr",
     "output_type": "stream",
     "text": [
      "c:\\Users\\SEMEN\\AppData\\Local\\Programs\\Python\\Python39\\lib\\site-packages\\arch\\__future__\\_utility.py:11: FutureWarning: \n",
      "The default for reindex is True. After September 2021 this will change to\n",
      "False. Set reindex to True or False to silence this message. Alternatively,\n",
      "you can use the import comment\n",
      "\n",
      "from arch.__future__ import reindexing\n",
      "\n",
      "to globally set reindex to True and silence this warning.\n",
      "\n",
      "  warnings.warn(\n"
     ]
    }
   ],
   "source": [
    "predictions_df = test_df.copy()\n",
    "predictions_df[\"Predictions\"] = model_results.forecast().residual_variance.loc[test_df.index]"
   ]
  },
  {
   "cell_type": "code",
   "execution_count": 94,
   "metadata": {},
   "outputs": [
    {
     "data": {
      "image/png": "[encoded data removed]",
      "text/plain": [
       "<Figure size 1296x360 with 1 Axes>"
      ]
     },
     "metadata": {
      "needs_background": "light"
     },
     "output_type": "display_data"
    }
   ],
   "source": [
    "plt.rcParams[\"figure.figsize\"] = 18, 5\n",
    "\n",
    "plt.plot(predictions_df['GDP (current US$)_vol'].abs())\n",
    "plt.plot(predictions_df[\"Predictions\"])\n",
    "\n",
    "plt.title(\"Actuals vs Predictions for GDP (current US$) Volatility\", size = 24)\n",
    "\n",
    "plt.show()"
   ]
  },
  {
   "cell_type": "code",
   "execution_count": 87,
   "metadata": {},
   "outputs": [
    {
     "data": {
      "text/plain": [
       "286.96620789285606"
      ]
     },
     "execution_count": 87,
     "metadata": {},
     "output_type": "execute_result"
    }
   ],
   "source": [
    "import numpy as np\n",
    "from sklearn.metrics import mean_squared_error\n",
    "np.sqrt(mean_squared_error(predictions_df['GDP (current US$)_vol'].abs(), predictions_df[\"Predictions\"]))"
   ]
  },
  {
   "cell_type": "code",
   "execution_count": 88,
   "metadata": {},
   "outputs": [
    {
     "data": {
      "text/plain": [
       "[<matplotlib.lines.Line2D at 0xb92c8a8ca0>]"
      ]
     },
     "execution_count": 88,
     "metadata": {},
     "output_type": "execute_result"
    },
    {
     "data": {
      "image/png": "[encoded data removed]",
      "text/plain": [
       "<Figure size 1296x360 with 1 Axes>"
      ]
     },
     "metadata": {
      "needs_background": "light"
     },
     "output_type": "display_data"
    }
   ],
   "source": [
    "from sklearn.linear_model import LinearRegression\n",
    "\n",
    "X_train = pd.DataFrame(range(data['GDP (current US$)_vol'].shape[0]))[:train_df.shape[0]].fillna(0)\n",
    "X_test = pd.DataFrame(range(data['GDP (current US$)_vol'].shape[0]))[train_df.shape[0]:].fillna(0)\n",
    "y_train = train_df['GDP (current US$)_vol'].fillna(0)\n",
    "y_test = test_df['GDP (current US$)_vol'].fillna(0)\n",
    "\n",
    "\n",
    "lr = LinearRegression()\n",
    "lr.fit(X_train, y_train)\n",
    "lr_predict = lr.predict(X_test)\n",
    "\n",
    "\n",
    "plt.plot(y_test)\n",
    "plt.plot(pd.Series(lr_predict, index=y_test.index))"
   ]
  },
  {
   "attachments": {},
   "cell_type": "markdown",
   "metadata": {},
   "source": [
    "модель не уловила дисперсию, так как такое поведение было для неё новым и подобные случаи отсутствовали в обучающей выборке"
   ]
  }
 ],
 "metadata": {
  "kernelspec": {
   "display_name": "Python 3",
   "language": "python",
   "name": "python3"
  },
  "language_info": {
   "codemirror_mode": {
    "name": "ipython",
    "version": 3
   },
   "file_extension": ".py",
   "mimetype": "text/x-python",
   "name": "python",
   "nbconvert_exporter": "python",
   "pygments_lexer": "ipython3",
   "version": "3.9.10"
  },
  "orig_nbformat": 4,
  "vscode": {
   "interpreter": {
    "hash": "5d3b9493c62f6b74944a54f54aa91788ba15bd6a20be96fe7872ec3d27ecf91b"
   }
  }
 },
 "nbformat": 4,
 "nbformat_minor": 2
}
